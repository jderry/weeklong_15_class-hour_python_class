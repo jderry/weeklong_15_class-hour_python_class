{
 "cells": [
  {
   "cell_type": "code",
   "execution_count": 1,
   "id": "55236f1f-ad0d-44ab-852a-af24f29eb4de",
   "metadata": {},
   "outputs": [],
   "source": [
    "import myModule as mM"
   ]
  },
  {
   "cell_type": "code",
   "execution_count": 2,
   "id": "a501ad8d-f52b-4ee3-84bc-2b9aff1cdc40",
   "metadata": {},
   "outputs": [],
   "source": [
    "mM.testFunc()"
   ]
  },
  {
   "cell_type": "code",
   "execution_count": null,
   "id": "0b9577be-daa0-4610-98f0-d6e0321f6550",
   "metadata": {},
   "outputs": [],
   "source": []
  }
 ],
 "metadata": {
  "kernelspec": {
   "display_name": "Python 3 (ipykernel)",
   "language": "python",
   "name": "python3"
  },
  "language_info": {
   "codemirror_mode": {
    "name": "ipython",
    "version": 3
   },
   "file_extension": ".py",
   "mimetype": "text/x-python",
   "name": "python",
   "nbconvert_exporter": "python",
   "pygments_lexer": "ipython3",
   "version": "3.13.3"
  }
 },
 "nbformat": 4,
 "nbformat_minor": 5
}
