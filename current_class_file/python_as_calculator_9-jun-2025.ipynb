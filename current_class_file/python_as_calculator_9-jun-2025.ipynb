{
 "cells": [
  {
   "cell_type": "code",
   "execution_count": 3,
   "id": "658b9092",
   "metadata": {},
   "outputs": [
    {
     "name": "stdout",
     "output_type": "stream",
     "text": [
      "6647\n",
      "Thursday\n"
     ]
    }
   ],
   "source": [
    "# Datetime II: Solving Date Problems\n",
    "from datetime import date\n",
    "date1, today = date(2007, 3, 29), date.today()\n",
    "print((today - date1).days)\n",
    "print(date1.strftime('%A'))"
   ]
  },
  {
   "cell_type": "code",
   "execution_count": 5,
   "id": "eca74a89",
   "metadata": {},
   "outputs": [
    {
     "name": "stdout",
     "output_type": "stream",
     "text": [
      "20.2 gram\n",
      "[mass]\n"
     ]
    }
   ],
   "source": [
    "# Ideal Gas Law\n",
    "import pint\n",
    "ur = pint.UnitRegistry()\n",
    "Q_ = ur.Quantity\n",
    "P = (1.008 * ur.bar).to('atm')\n",
    "V = (4.4 * ur.cu_ft).to('liter')\n",
    "T = Q_(78, ur.degF).to('degK')\n",
    "R = 0.0821 * ur.liter * ur.atm / (ur.mol * ur.degK)\n",
    "n = P * V / (R * T)\n",
    "g_He = n * (4 * ur.g / ur.mol)\n",
    "sigFigs, numDigInt = 3, 2\n",
    "print(round(g_He, (sigFigs - numDigInt)))\n",
    "\n",
    "g_He.magnitude\n",
    "g_He.units\n",
    "print(g_He.dimensionality)"
   ]
  },
  {
   "cell_type": "code",
   "execution_count": null,
   "id": "51f83508",
   "metadata": {},
   "outputs": [],
   "source": []
  }
 ],
 "metadata": {
  "kernelspec": {
   "display_name": "Python 3 (ipykernel)",
   "language": "python",
   "name": "python3"
  },
  "language_info": {
   "codemirror_mode": {
    "name": "ipython",
    "version": 3
   },
   "file_extension": ".py",
   "mimetype": "text/x-python",
   "name": "python",
   "nbconvert_exporter": "python",
   "pygments_lexer": "ipython3",
   "version": "3.9.5"
  }
 },
 "nbformat": 4,
 "nbformat_minor": 5
}
