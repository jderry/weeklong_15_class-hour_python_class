{
 "cells": [
  {
   "cell_type": "code",
   "execution_count": 12,
   "id": "a4b61377-b9b7-43cd-b876-d0cc9fbe8f21",
   "metadata": {},
   "outputs": [],
   "source": [
    "def testFunc():\n",
    "    pass"
   ]
  },
  {
   "cell_type": "code",
   "execution_count": 13,
   "id": "390db975-c801-4ec7-8f98-90b20774141c",
   "metadata": {},
   "outputs": [
    {
     "name": "stdout",
     "output_type": "stream",
     "text": [
      "Variable    Type        Data/Info\n",
      "---------------------------------\n",
      "gcCont      float       28.571428571428573\n",
      "getGCcont   function    <function getGCcont at 0x723ef5417060>\n",
      "nuclStr     str         gattaca\n",
      "testFunc    function    <function testFunc at 0x723ef4413740>\n"
     ]
    }
   ],
   "source": [
    "%whos"
   ]
  },
  {
   "cell_type": "code",
   "execution_count": 14,
   "id": "4ff1df1e-4ec8-475f-b055-963c4da83f5e",
   "metadata": {},
   "outputs": [],
   "source": [
    "testFunc()"
   ]
  },
  {
   "cell_type": "code",
   "execution_count": 23,
   "id": "3938a1f1-b6de-4b7f-bee7-5e9704dbc0f9",
   "metadata": {},
   "outputs": [
    {
     "name": "stdout",
     "output_type": "stream",
     "text": [
      "28.5714%\n"
     ]
    }
   ],
   "source": [
    "nuclStr = 'gattaca'\n",
    "gcCont = 100 * (nuclStr.count('c') + nuclStr.count('g'))\\\n",
    "                / len(nuclStr); print(f'{gcCont:.4f}%')"
   ]
  },
  {
   "cell_type": "code",
   "execution_count": 16,
   "id": "c4973ae7-972d-41e8-a392-b27aeb1fad55",
   "metadata": {},
   "outputs": [
    {
     "data": {
      "text/plain": [
       "1"
      ]
     },
     "execution_count": 16,
     "metadata": {},
     "output_type": "execute_result"
    }
   ],
   "source": [
    "nuclStr.count('c')"
   ]
  },
  {
   "cell_type": "code",
   "execution_count": 26,
   "id": "ec9b2bb3-6c11-40e5-88d4-b9c325a9acd8",
   "metadata": {},
   "outputs": [],
   "source": [
    "def getGCcont(nuclStr: str) -> float:\n",
    "    ''' Given a clean nucleotide string as input, returns the percent gc content.\n",
    "        >>>getGCcont('gattaca')\n",
    "        28.571428571428573\n",
    "    '''\n",
    "    return 100 * (nuclStr.count('c') + nuclStr.count('g')) / len(nuclStr); print(f'{gcCont:.4f}%')"
   ]
  },
  {
   "cell_type": "code",
   "execution_count": 27,
   "id": "344002a1-ef2c-4186-a160-b0bf77227435",
   "metadata": {},
   "outputs": [
    {
     "data": {
      "text/plain": [
       "\u001b[31mSignature:\u001b[39m getGCcont(nuclStr: str) -> float\n",
       "\u001b[31mDocstring:\u001b[39m\n",
       "Given a clean nucleotide string as input, returns the percent gc content.\n",
       ">>>getGCcont('gattaca')\n",
       "28.571428571428573\n",
       "\u001b[31mFile:\u001b[39m      /tmp/ipykernel_517620/366086449.py\n",
       "\u001b[31mType:\u001b[39m      function"
      ]
     },
     "metadata": {},
     "output_type": "display_data"
    }
   ],
   "source": [
    "getGCcont?"
   ]
  },
  {
   "cell_type": "code",
   "execution_count": 28,
   "id": "c7e52cb8-4c67-43fc-8c53-57b2e4efd9fe",
   "metadata": {},
   "outputs": [
    {
     "data": {
      "text/plain": [
       "28.571428571428573"
      ]
     },
     "execution_count": 28,
     "metadata": {},
     "output_type": "execute_result"
    }
   ],
   "source": [
    "getGCcont('gattaca')"
   ]
  },
  {
   "cell_type": "code",
   "execution_count": 20,
   "id": "85823aa9-9744-456f-82b9-87b05680e518",
   "metadata": {},
   "outputs": [
    {
     "data": {
      "text/plain": [
       "'gattaca'"
      ]
     },
     "execution_count": 20,
     "metadata": {},
     "output_type": "execute_result"
    }
   ],
   "source": [
    "nuclStr"
   ]
  },
  {
   "cell_type": "code",
   "execution_count": 21,
   "id": "d410d254-05ef-4410-b2fc-54a466aedd6f",
   "metadata": {},
   "outputs": [],
   "source": [
    "del nuclStr"
   ]
  },
  {
   "cell_type": "code",
   "execution_count": 22,
   "id": "0cd34fc7-2ce1-47d2-ad05-b898f5747c03",
   "metadata": {},
   "outputs": [
    {
     "name": "stdout",
     "output_type": "stream",
     "text": [
      "Variable    Type        Data/Info\n",
      "---------------------------------\n",
      "gcCont      float       28.571428571428573\n",
      "getGCcont   function    <function getGCcont at 0x723ef441c5e0>\n",
      "testFunc    function    <function testFunc at 0x723ef4413740>\n"
     ]
    }
   ],
   "source": [
    "%whos"
   ]
  },
  {
   "cell_type": "code",
   "execution_count": null,
   "id": "18e9ee94-ed7a-422b-a639-9aad9fd85909",
   "metadata": {},
   "outputs": [],
   "source": []
  }
 ],
 "metadata": {
  "kernelspec": {
   "display_name": "Python 3 (ipykernel)",
   "language": "python",
   "name": "python3"
  },
  "language_info": {
   "codemirror_mode": {
    "name": "ipython",
    "version": 3
   },
   "file_extension": ".py",
   "mimetype": "text/x-python",
   "name": "python",
   "nbconvert_exporter": "python",
   "pygments_lexer": "ipython3",
   "version": "3.13.3"
  }
 },
 "nbformat": 4,
 "nbformat_minor": 5
}
