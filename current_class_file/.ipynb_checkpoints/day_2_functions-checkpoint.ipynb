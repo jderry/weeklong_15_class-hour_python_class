{
 "cells": [
  {
   "cell_type": "code",
   "execution_count": 12,
   "id": "a4b61377-b9b7-43cd-b876-d0cc9fbe8f21",
   "metadata": {},
   "outputs": [],
   "source": [
    "def testFunc():\n",
    "    pass"
   ]
  },
  {
   "cell_type": "code",
   "execution_count": 13,
   "id": "390db975-c801-4ec7-8f98-90b20774141c",
   "metadata": {},
   "outputs": [
    {
     "name": "stdout",
     "output_type": "stream",
     "text": [
      "Variable    Type        Data/Info\n",
      "---------------------------------\n",
      "gcCont      float       28.571428571428573\n",
      "getGCcont   function    <function getGCcont at 0x723ef5417060>\n",
      "nuclStr     str         gattaca\n",
      "testFunc    function    <function testFunc at 0x723ef4413740>\n"
     ]
    }
   ],
   "source": [
    "%whos"
   ]
  },
  {
   "cell_type": "code",
   "execution_count": 14,
   "id": "4ff1df1e-4ec8-475f-b055-963c4da83f5e",
   "metadata": {},
   "outputs": [],
   "source": [
    "testFunc()"
   ]
  },
  {
   "cell_type": "code",
   "execution_count": 23,
   "id": "3938a1f1-b6de-4b7f-bee7-5e9704dbc0f9",
   "metadata": {},
   "outputs": [
    {
     "name": "stdout",
     "output_type": "stream",
     "text": [
      "28.5714%\n"
     ]
    }
   ],
   "source": [
    "nuclStr = 'gattaca'\n",
    "gcCont = 100 * (nuclStr.count('c') + nuclStr.count('g'))\\\n",
    "                / len(nuclStr); print(f'{gcCont:.4f}%')"
   ]
  },
  {
   "cell_type": "code",
   "execution_count": 16,
   "id": "c4973ae7-972d-41e8-a392-b27aeb1fad55",
   "metadata": {},
   "outputs": [
    {
     "data": {
      "text/plain": [
       "1"
      ]
     },
     "execution_count": 16,
     "metadata": {},
     "output_type": "execute_result"
    }
   ],
   "source": [
    "nuclStr.count('c')"
   ]
  },
  {
   "cell_type": "code",
   "execution_count": 39,
   "id": "ec9b2bb3-6c11-40e5-88d4-b9c325a9acd8",
   "metadata": {},
   "outputs": [],
   "source": [
    "def getGCcont(nuclStr: str) -> float:\n",
    "    ''' Given a clean nucleotide string as input, returns the percent gc content.\n",
    "        >>>getGCcont('gattaca')\n",
    "        28.571428571428573\n",
    "    '''\n",
    "    nuclStr = nuclStr.lower()\n",
    "    badValues = isNuclStrClean(nuclStr)\n",
    "    assert not badValues, f\"Non-nucleotide(s) found at index: value {badValues}\"\n",
    "    assert isinstance(nuclStr, str), \"Input must be a clean nucleotide string.\"\n",
    "    return 100 * (nuclStr.count('c') + nuclStr.count('g'))/ len(nuclStr); print(f'{gcCont:.4f}%')"
   ]
  },
  {
   "cell_type": "code",
   "execution_count": 3,
   "id": "344002a1-ef2c-4186-a160-b0bf77227435",
   "metadata": {},
   "outputs": [
    {
     "data": {
      "text/plain": [
       "\u001b[31mSignature:\u001b[39m getGCcont(nuclStr: str) -> float\n",
       "\u001b[31mDocstring:\u001b[39m\n",
       "Given a clean nucleotide string as input, returns the percent gc content.\n",
       ">>>getGCcont('gattaca')\n",
       "28.571428571428573\n",
       "\u001b[31mFile:\u001b[39m      /tmp/ipykernel_5825/366086449.py\n",
       "\u001b[31mType:\u001b[39m      function"
      ]
     },
     "metadata": {},
     "output_type": "display_data"
    }
   ],
   "source": [
    "getGCcont?"
   ]
  },
  {
   "cell_type": "code",
   "execution_count": 40,
   "id": "c7e52cb8-4c67-43fc-8c53-57b2e4efd9fe",
   "metadata": {},
   "outputs": [
    {
     "ename": "AssertionError",
     "evalue": "Non-nucleotide(s) found at index: value {5: 'x'}",
     "output_type": "error",
     "traceback": [
      "\u001b[31m---------------------------------------------------------------------------\u001b[39m",
      "\u001b[31mAssertionError\u001b[39m                            Traceback (most recent call last)",
      "\u001b[36mCell\u001b[39m\u001b[36m \u001b[39m\u001b[32mIn[40]\u001b[39m\u001b[32m, line 1\u001b[39m\n\u001b[32m----> \u001b[39m\u001b[32m1\u001b[39m \u001b[43mgetGCcont\u001b[49m\u001b[43m(\u001b[49m\u001b[33;43m'\u001b[39;49m\u001b[33;43mGATTAXA\u001b[39;49m\u001b[33;43m'\u001b[39;49m\u001b[43m)\u001b[49m\n",
      "\u001b[36mCell\u001b[39m\u001b[36m \u001b[39m\u001b[32mIn[39]\u001b[39m\u001b[32m, line 8\u001b[39m, in \u001b[36mgetGCcont\u001b[39m\u001b[34m(nuclStr)\u001b[39m\n\u001b[32m      6\u001b[39m nuclStr = nuclStr.lower()\n\u001b[32m      7\u001b[39m badValues = isNuclStrClean(nuclStr)\n\u001b[32m----> \u001b[39m\u001b[32m8\u001b[39m \u001b[38;5;28;01massert\u001b[39;00m \u001b[38;5;129;01mnot\u001b[39;00m badValues, \u001b[33mf\u001b[39m\u001b[33m\"\u001b[39m\u001b[33mNon-nucleotide(s) found at index: value \u001b[39m\u001b[38;5;132;01m{\u001b[39;00mbadValues\u001b[38;5;132;01m}\u001b[39;00m\u001b[33m\"\u001b[39m\n\u001b[32m      9\u001b[39m \u001b[38;5;28;01massert\u001b[39;00m \u001b[38;5;28misinstance\u001b[39m(nuclStr, \u001b[38;5;28mstr\u001b[39m), \u001b[33m\"\u001b[39m\u001b[33mInput must be a clean nucleotide string.\u001b[39m\u001b[33m\"\u001b[39m\n\u001b[32m     10\u001b[39m \u001b[38;5;28;01mreturn\u001b[39;00m \u001b[32m100\u001b[39m * (nuclStr.count(\u001b[33m'\u001b[39m\u001b[33mc\u001b[39m\u001b[33m'\u001b[39m) + nuclStr.count(\u001b[33m'\u001b[39m\u001b[33mg\u001b[39m\u001b[33m'\u001b[39m))/ \u001b[38;5;28mlen\u001b[39m(nuclStr); \u001b[38;5;28mprint\u001b[39m(\u001b[33mf\u001b[39m\u001b[33m'\u001b[39m\u001b[38;5;132;01m{\u001b[39;00mgcCont\u001b[38;5;132;01m:\u001b[39;00m\u001b[33m.4f\u001b[39m\u001b[38;5;132;01m}\u001b[39;00m\u001b[33m%\u001b[39m\u001b[33m'\u001b[39m)\n",
      "\u001b[31mAssertionError\u001b[39m: Non-nucleotide(s) found at index: value {5: 'x'}"
     ]
    }
   ],
   "source": [
    "getGCcont('GATTAXA')"
   ]
  },
  {
   "cell_type": "code",
   "execution_count": 6,
   "id": "85823aa9-9744-456f-82b9-87b05680e518",
   "metadata": {},
   "outputs": [
    {
     "data": {
      "text/plain": [
       "False"
      ]
     },
     "execution_count": 6,
     "metadata": {},
     "output_type": "execute_result"
    }
   ],
   "source": [
    "isinstance(1.2, str)"
   ]
  },
  {
   "cell_type": "code",
   "execution_count": 7,
   "id": "d410d254-05ef-4410-b2fc-54a466aedd6f",
   "metadata": {},
   "outputs": [
    {
     "ename": "NameError",
     "evalue": "name 'nuclStr' is not defined",
     "output_type": "error",
     "traceback": [
      "\u001b[31m---------------------------------------------------------------------------\u001b[39m",
      "\u001b[31mNameError\u001b[39m                                 Traceback (most recent call last)",
      "\u001b[36mCell\u001b[39m\u001b[36m \u001b[39m\u001b[32mIn[7]\u001b[39m\u001b[32m, line 1\u001b[39m\n\u001b[32m----> \u001b[39m\u001b[32m1\u001b[39m \u001b[38;5;28;01mdel\u001b[39;00m \u001b[43mnuclStr\u001b[49m\n",
      "\u001b[31mNameError\u001b[39m: name 'nuclStr' is not defined"
     ]
    }
   ],
   "source": [
    "del nuclStr"
   ]
  },
  {
   "cell_type": "code",
   "execution_count": 22,
   "id": "0cd34fc7-2ce1-47d2-ad05-b898f5747c03",
   "metadata": {},
   "outputs": [
    {
     "name": "stdout",
     "output_type": "stream",
     "text": [
      "Variable    Type        Data/Info\n",
      "---------------------------------\n",
      "gcCont      float       28.571428571428573\n",
      "getGCcont   function    <function getGCcont at 0x723ef441c5e0>\n",
      "testFunc    function    <function testFunc at 0x723ef4413740>\n"
     ]
    }
   ],
   "source": [
    "%whos"
   ]
  },
  {
   "cell_type": "code",
   "execution_count": 19,
   "id": "18e9ee94-ed7a-422b-a639-9aad9fd85909",
   "metadata": {},
   "outputs": [
    {
     "data": {
      "text/plain": [
       "False"
      ]
     },
     "execution_count": 19,
     "metadata": {},
     "output_type": "execute_result"
    }
   ],
   "source": [
    "'b' in 'ACGTacgt'"
   ]
  },
  {
   "cell_type": "code",
   "execution_count": 28,
   "id": "86837bc1-45f2-4949-ac0a-08fa39581a1f",
   "metadata": {},
   "outputs": [
    {
     "data": {
      "text/plain": [
       "False"
      ]
     },
     "execution_count": 28,
     "metadata": {},
     "output_type": "execute_result"
    }
   ],
   "source": [
    "bool([])"
   ]
  },
  {
   "cell_type": "code",
   "execution_count": 41,
   "id": "3f79e1e5-b263-478f-8b88-30d30d0761f4",
   "metadata": {},
   "outputs": [],
   "source": [
    "def isNuclStrClean(nuclStr: str) -> dict:\n",
    "    ''' Given a nucleotide string, returns a dictionary of non-nucleotides and their positions in index:symbol pairs.\n",
    "        An empty return dictionary means the string is clean.\n",
    "        >>>isNuclStrClean('gattaxa')\n",
    "        {5: 'x'}\n",
    "    '''\n",
    "    badValues = {}\n",
    "    for index in range(len(nuclStr)):\n",
    "        if nuclStr[index] not in 'ACGTacgt':\n",
    "            badValues[index] = nuclStr[index]\n",
    "    return badValues"
   ]
  },
  {
   "cell_type": "code",
   "execution_count": 30,
   "id": "0071d3c5-80b9-4f3e-a942-1b30f95d549d",
   "metadata": {},
   "outputs": [
    {
     "data": {
      "text/plain": [
       "[0, 1, 2, 3, 4, 5, 6]"
      ]
     },
     "execution_count": 30,
     "metadata": {},
     "output_type": "execute_result"
    }
   ],
   "source": [
    "list(range(len('gattaca')))"
   ]
  },
  {
   "cell_type": "code",
   "execution_count": 35,
   "id": "49e113bc-d817-477f-b0b5-f4410d83c26d",
   "metadata": {},
   "outputs": [
    {
     "data": {
      "text/plain": [
       "{5: 'x'}"
      ]
     },
     "execution_count": 35,
     "metadata": {},
     "output_type": "execute_result"
    }
   ],
   "source": [
    "isNuclStrClean('gattaxa')"
   ]
  },
  {
   "cell_type": "code",
   "execution_count": 46,
   "id": "80427d1f-5744-4df9-ad24-6ade1965036e",
   "metadata": {},
   "outputs": [],
   "source": [
    "def euclidGCD(natA: int, natB: int) -> int:\n",
    "    ''' Returns the greatest common divisor of two natural numbers.\n",
    "        >>>euclidGCD(53667, 25527)\n",
    "        201\n",
    "    '''\n",
    "    assert (isinstance(natA, int) and natA > 0)\\\n",
    "       and (isinstance(natB, int) and natB > 0), \"Input must be two natural numbers.\"\n",
    "    while natB:\n",
    "        natA, natB = natB, natA % natB\n",
    "    return natA"
   ]
  },
  {
   "cell_type": "code",
   "execution_count": 43,
   "id": "8fd95282-59ef-41dd-a1ad-01dc52e9223a",
   "metadata": {},
   "outputs": [
    {
     "data": {
      "text/plain": [
       "False"
      ]
     },
     "execution_count": 43,
     "metadata": {},
     "output_type": "execute_result"
    }
   ],
   "source": [
    "natB = 0\n",
    "bool(natB)"
   ]
  },
  {
   "cell_type": "code",
   "execution_count": 49,
   "id": "f1a30aaa-a069-4683-acd1-33f9ec7e6315",
   "metadata": {},
   "outputs": [
    {
     "ename": "AssertionError",
     "evalue": "Input must be two natural numbers.",
     "output_type": "error",
     "traceback": [
      "\u001b[31m---------------------------------------------------------------------------\u001b[39m",
      "\u001b[31mAssertionError\u001b[39m                            Traceback (most recent call last)",
      "\u001b[36mCell\u001b[39m\u001b[36m \u001b[39m\u001b[32mIn[49]\u001b[39m\u001b[32m, line 1\u001b[39m\n\u001b[32m----> \u001b[39m\u001b[32m1\u001b[39m \u001b[43meuclidGCD\u001b[49m\u001b[43m(\u001b[49m\u001b[32;43m53667.\u001b[39;49m\u001b[43m,\u001b[49m\u001b[43m \u001b[49m\u001b[32;43m25527\u001b[39;49m\u001b[43m)\u001b[49m\n",
      "\u001b[36mCell\u001b[39m\u001b[36m \u001b[39m\u001b[32mIn[46]\u001b[39m\u001b[32m, line 6\u001b[39m, in \u001b[36meuclidGCD\u001b[39m\u001b[34m(natA, natB)\u001b[39m\n\u001b[32m      1\u001b[39m \u001b[38;5;28;01mdef\u001b[39;00m\u001b[38;5;250m \u001b[39m\u001b[34meuclidGCD\u001b[39m(natA: \u001b[38;5;28mint\u001b[39m, natB: \u001b[38;5;28mint\u001b[39m) -> \u001b[38;5;28mint\u001b[39m:\n\u001b[32m      2\u001b[39m \u001b[38;5;250m    \u001b[39m\u001b[33;03m''' Returns the greatest common divisor of two natural numbers.\u001b[39;00m\n\u001b[32m      3\u001b[39m \u001b[33;03m        >>>euclidGCD(53667, 25527)\u001b[39;00m\n\u001b[32m      4\u001b[39m \u001b[33;03m        201\u001b[39;00m\n\u001b[32m      5\u001b[39m \u001b[33;03m    '''\u001b[39;00m\n\u001b[32m----> \u001b[39m\u001b[32m6\u001b[39m     \u001b[38;5;28;01massert\u001b[39;00m (\u001b[38;5;28misinstance\u001b[39m(natA, \u001b[38;5;28mint\u001b[39m) \u001b[38;5;129;01mand\u001b[39;00m natA > \u001b[32m0\u001b[39m)\\\n\u001b[32m      7\u001b[39m        \u001b[38;5;129;01mand\u001b[39;00m (\u001b[38;5;28misinstance\u001b[39m(natB, \u001b[38;5;28mint\u001b[39m) \u001b[38;5;129;01mand\u001b[39;00m natB > \u001b[32m0\u001b[39m), \u001b[33m\"\u001b[39m\u001b[33mInput must be two natural numbers.\u001b[39m\u001b[33m\"\u001b[39m\n\u001b[32m      8\u001b[39m     \u001b[38;5;28;01mwhile\u001b[39;00m natB:\n\u001b[32m      9\u001b[39m         natA, natB = natB, natA % natB\n",
      "\u001b[31mAssertionError\u001b[39m: Input must be two natural numbers."
     ]
    }
   ],
   "source": [
    "euclidGCD(53667., 25527)"
   ]
  },
  {
   "cell_type": "code",
   "execution_count": null,
   "id": "a66ba927-72b8-4353-ae5b-0b95766e4556",
   "metadata": {},
   "outputs": [],
   "source": []
  }
 ],
 "metadata": {
  "kernelspec": {
   "display_name": "Python 3 (ipykernel)",
   "language": "python",
   "name": "python3"
  },
  "language_info": {
   "codemirror_mode": {
    "name": "ipython",
    "version": 3
   },
   "file_extension": ".py",
   "mimetype": "text/x-python",
   "name": "python",
   "nbconvert_exporter": "python",
   "pygments_lexer": "ipython3",
   "version": "3.13.2"
  }
 },
 "nbformat": 4,
 "nbformat_minor": 5
}
