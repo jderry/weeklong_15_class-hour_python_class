{
 "cells": [
  {
   "cell_type": "code",
   "execution_count": 1,
   "id": "ec6e45f4-262a-447a-9d46-debbc7e4b17d",
   "metadata": {},
   "outputs": [
    {
     "name": "stdout",
     "output_type": "stream",
     "text": [
      "day_2_functions.ipynb  __pycache__  Untitled1.ipynb\n",
      "myModule.py\t       test.txt     Untitled.ipynb\n"
     ]
    }
   ],
   "source": [
    "!ls"
   ]
  },
  {
   "cell_type": "code",
   "execution_count": 1,
   "id": "e042faf9-100e-4996-b02f-755c50c54899",
   "metadata": {},
   "outputs": [],
   "source": [
    "import myModule as mM"
   ]
  },
  {
   "cell_type": "code",
   "execution_count": 3,
   "id": "f7b8ad2f-46dc-4830-a76d-d36a2123e532",
   "metadata": {},
   "outputs": [
    {
     "data": {
      "text/plain": [
       "{}"
      ]
     },
     "execution_count": 3,
     "metadata": {},
     "output_type": "execute_result"
    }
   ],
   "source": [
    "mM.isNuclStrClean('gattaca')"
   ]
  },
  {
   "cell_type": "code",
   "execution_count": 5,
   "id": "61755092-c313-4813-976e-39c5e42d3cfc",
   "metadata": {},
   "outputs": [],
   "source": [
    "del mM"
   ]
  },
  {
   "cell_type": "code",
   "execution_count": 7,
   "id": "e893b3ed-3e3b-43b5-b97a-923a2ce0f746",
   "metadata": {},
   "outputs": [],
   "source": [
    "with open('/home/vboxuser/datafile/reformatted_Unigene1000.fa', 'r') as inFile:\n",
    "    LoS = inFile.read().splitlines()\n",
    "    LoL = []\n",
    "    for record in LoS:\n",
    "        LoL.append(record.split())"
   ]
  },
  {
   "cell_type": "code",
   "execution_count": 13,
   "id": "996c32af-bc76-4ad8-ad37-d6f67c301b20",
   "metadata": {},
   "outputs": [
    {
     "data": {
      "text/plain": [
       "'ATCATTATTGATAGCAACAACAATCCGGAGCACTTCCTCACCACCAATCCATACTATGATTCTCGCGTTGTGGGTAAATATTGTGAGAAACGTGATCCTACCCTGGCAGTTGTAGCTTACAGGAGAGGACAATGTGATGATGAACTCATCAATGTTACGAATAAGAACTCTTTGTTCAAACTGCAGGCCAGATATGTAGTTGAAAGGATGGACGGCGATCTGTGGGAAAAGGTTCTTACTCCTGATAATGCCTTTAGAAGACAGCTCATTGATCAAGTTGTGTCAACAGCTTTGCCTGAGAGTAAAAGCCCAGAGCAAGTTTCTGCTGCTGTTAAGGCTTTCATGACTGCTGATCTTCCCCATGAATTAATTGAGCTTCTTGAAAAGATAGTATTGCAGAATTCAGCATTCAGTGGGAACTTTAATCTGCAAAACCTGCTTATCTTAACAGCCATTAAAGCAGATCCAACTCGAGTTATGGATTACATTAATAGATTGGATAACTTTGATGGACCAGCTGTTGGTGAAGTGGCTA'"
      ]
     },
     "execution_count": 13,
     "metadata": {},
     "output_type": "execute_result"
    }
   ],
   "source": [
    "LoL[0][6]"
   ]
  },
  {
   "cell_type": "code",
   "execution_count": 10,
   "id": "cb7e60c4-f3d5-467f-8df1-0f6f84cdbcc3",
   "metadata": {},
   "outputs": [
    {
     "data": {
      "text/plain": [
       "'Unigene1_All size 535 gap 0 0% ATCATTATTGATAGCAACAACAATCCGGAGCACTTCCTCACCACCAATCCATACTATGATTCTCGCGTTGTGGGTAAATATTGTGAGAAACGTGATCCTACCCTGGCAGTTGTAGCTTACAGGAGAGGACAATGTGATGATGAACTCATCAATGTTACGAATAAGAACTCTTTGTTCAAACTGCAGGCCAGATATGTAGTTGAAAGGATGGACGGCGATCTGTGGGAAAAGGTTCTTACTCCTGATAATGCCTTTAGAAGACAGCTCATTGATCAAGTTGTGTCAACAGCTTTGCCTGAGAGTAAAAGCCCAGAGCAAGTTTCTGCTGCTGTTAAGGCTTTCATGACTGCTGATCTTCCCCATGAATTAATTGAGCTTCTTGAAAAGATAGTATTGCAGAATTCAGCATTCAGTGGGAACTTTAATCTGCAAAACCTGCTTATCTTAACAGCCATTAAAGCAGATCCAACTCGAGTTATGGATTACATTAATAGATTGGATAACTTTGATGGACCAGCTGTTGGTGAAGTGGCTA'"
      ]
     },
     "execution_count": 10,
     "metadata": {},
     "output_type": "execute_result"
    }
   ],
   "source": [
    "LoS[0]"
   ]
  },
  {
   "cell_type": "code",
   "execution_count": 12,
   "id": "86d10a30-a243-4c0c-a2b4-b2c1369c8d06",
   "metadata": {},
   "outputs": [
    {
     "data": {
      "text/plain": [
       "'Unigene1_All size 535 gap 0 0% ATCATTATTGATAGCAACAACAATCCGGAGCACTTCCTCACCACCAATCCATACTATGATTCTCGCGTTGTGGGTAAATATTGTGAGAAACGTGATCCTACCCTGGCAGTTGTAGCTTACAGGAGAGGACAATGTGATGATGAACTCATCAATGTTACGAATAAGAACTCTTTGTTCAAACTGCAGGCCAGATATGTAGTTGAAAGGATGGACGGCGATCTGTGGGAAAAGGTTCTTACTCCTGATAATGCCTTTAGAAGACAGCTCATTGATCAAGTTGTGTCAACAGCTTTGCCTGAGAGTAAAAGCCCAGAGCAAGTTTCTGCTGCTGTTAAGGCTTTCATGACTGCTGATCTTCCCCATGAATTAATTGAGCTTCTTGAAAAGATAGTATTGCAGAATTCAGCATTCAGTGGGAACTTTAATCTGCAAAACCTGCTTATCTTAACAGCCATTAAAGCAGATCCAACTCGAGTTATGGATTACATTAATAGATTGGATAACTTTGATGGACCAGCTGTTGGTGAAGTGGCTA'"
      ]
     },
     "execution_count": 12,
     "metadata": {},
     "output_type": "execute_result"
    }
   ],
   "source": [
    "' '.join(LoL[0])"
   ]
  },
  {
   "cell_type": "code",
   "execution_count": 14,
   "id": "13798043-d940-45e4-82ac-19e9b7800067",
   "metadata": {},
   "outputs": [],
   "source": [
    "biggestNum = float('inf')"
   ]
  },
  {
   "cell_type": "code",
   "execution_count": 15,
   "id": "607ae0fc-3f7b-468a-b936-6900236e8c87",
   "metadata": {},
   "outputs": [],
   "source": [
    "smallestNum = float('-inf')"
   ]
  },
  {
   "cell_type": "code",
   "execution_count": null,
   "id": "a0e9cee2-d2b8-4569-be76-d2e450bbe3c3",
   "metadata": {},
   "outputs": [],
   "source": []
  }
 ],
 "metadata": {
  "kernelspec": {
   "display_name": "Python 3 (ipykernel)",
   "language": "python",
   "name": "python3"
  },
  "language_info": {
   "codemirror_mode": {
    "name": "ipython",
    "version": 3
   },
   "file_extension": ".py",
   "mimetype": "text/x-python",
   "name": "python",
   "nbconvert_exporter": "python",
   "pygments_lexer": "ipython3",
   "version": "3.13.2"
  }
 },
 "nbformat": 4,
 "nbformat_minor": 5
}
