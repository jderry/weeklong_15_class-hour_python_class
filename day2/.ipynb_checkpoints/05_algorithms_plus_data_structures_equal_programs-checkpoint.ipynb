{
 "cells": [
  {
   "cell_type": "markdown",
   "id": "274649ef",
   "metadata": {},
   "source": [
    "# Algorithms\n",
    "### algorithm, noun: a procedure for solving a mathematical problem (as of finding the greatest common divisor) in a finite number of steps that frequently involves repetition of an operation\n",
    "--- Merriam-Webster, https://www.merriam-webster.com/dictionary/algorithm"
   ]
  },
  {
   "cell_type": "markdown",
   "id": "cf231115",
   "metadata": {},
   "source": [
    "<br>\"Besides merely being a finite set of rules which gives a sequence of operations for solving a specific type of problem, an algorithm has five important features:</br>\n",
    "<p></p>\n",
    "<br>\"1) Finiteness. An algorithm must always terminate after a finite number of steps</br>\n",
    "<br>\"2) Definiteness. Each step of an algorithm must be precisely defined; the actions to be carried out must be rigorously and unambiguously specified for each case.</br>\n",
    "<br>\"3) Input. An algorithm has zero or more inputs, i.e., quantities which are given to it initially before the algorithm begins.</br>\n",
    "<br>\"4) Output. An algorithm has one or more outputs, i.e., quantities which have a specified relation to the inputs.</br>\n",
    "<br>\"5) Effectiveness. An algorithm is also generally expected to be effective. This means that all the operations to be performed in the algorithm must be sufficiently basic that they can in principle be done exactly and in a finite length of time by a man using pencil and paper.\"</br>\n",
    "<p></p>\n",
    "<br>--- Donald Knuth, <i>The Art of Computer Programming, Volume I: Fundamental Algorithms</i></br>"
   ]
  },
  {
   "cell_type": "markdown",
   "id": "1163fa3b",
   "metadata": {},
   "source": [
    "# Control Flow\n",
    "<br>\"[T]he order in which individual statements, instructions or function calls of an imperative program are executed or evaluated.\"</br>\n",
    "<br> --- wikipedia.org, https://en.wikipedia.org/wiki/Control_flow </br>\n",
    "## sequential\n",
    "### the most common order in which program statements are executed\n",
    "## conditional branching\n",
    "### if\n",
    "<br><b>if <i>condition</i> True, then execute block of code</b></br>\n",
    "<br>this is the simplest conditional branch.</br>\n",
    "### if..else\n",
    "<br><b>if <i>condition</i> True, then execute block of code</b></br>\n",
    "<br><b>else, execute block of code associated with the else clause.</b></br>\n",
    "<br>this allows one block of code to execute if condition True, and another block to execute if False.</br>\n",
    "### if..elif\n",
    "<br><b>if <i>condition 1</i> True, then execute its block of code</b></br>\n",
    "<br><b>elif <i>condition 2</i> True, then execute its block of code</b></br>\n",
    "<br>this allows multiple conditions to be tested in sequence.</br>\n",
    "<br>once a condition evaluates as True, the block of code associated with it is executed, then the program counter drops out of the conditional branch.</br>\n",
    "<br>if you need multiple conditions tested, and each block of code of a conditional that tests True executed, then use the conditional branch:</br>\n",
    "<br><b>if..if..if</b> or <b>if..if..if..else</b></br>\n",
    "### if..elif..else\n",
    "<br><b>if <i>condition 1</i> True, then execute its block of code</b></br>\n",
    "<br><b>elif <i>condition 2</i> True, then execute its block of code</b></br>\n",
    "<br><b>else no conditions match; execute the block of code associated with the else clause.</b></br>\n",
    "<br>this allows multiple conditions to be tested in sequence.</br>\n",
    "<br>once a condition evaluates as True, the block of code associated with it is executed, then the program counter drops out of the conditional branch.</br>\n",
    "<br>if no conditions match, execute the else clause's block of code.</br>\n",
    "## looping\n",
    "### for (loops over the items of python collections)\n",
    "<br><b>for item in collection</b></br>\n",
    "<br>for each item in collection, execute the block of code associated with the <b>for</b> clause.</br>\n",
    "### while (the most general type of loop construct)\n",
    "<br><b>set test condition to True</b></br>\n",
    "<br><b>while test condition is True</b></br>\n",
    "<br>execute the block of code associated with the <b>while</b> clause.</br>\n",
    "<br>at the bottom of the block of code, the test condition is modified in some way so that it eventually turns False.</br>"
   ]
  },
  {
   "cell_type": "markdown",
   "id": "07d37cf4",
   "metadata": {},
   "source": [
    "# Python Collections\n",
    "## the data structures of python\n",
    "## collections are objects, complete with methods and attributes"
   ]
  },
  {
   "cell_type": "markdown",
   "id": "c44b76da",
   "metadata": {},
   "source": [
    "<html>\n",
    "<head>\n",
    "<style>\n",
    "table {\n",
    "  font-family: arial, sans-serif;\n",
    "  #border-collapse: collapse;\n",
    "  width: 100%;\n",
    "}\n",
    "\n",
    "td, th {\n",
    "  border: 2px solid #dddddd;\n",
    "  text-align: left;\n",
    "  padding: 8px;\n",
    "}\n",
    "\n",
    "tr:nth-child(even) {\n",
    "  background-color: #dddddd;\n",
    "}\n",
    "</style>\n",
    "</head>\n",
    "<body>\n",
    "<table>\n",
    "<tr><th>collection</th><th>abbr</th><th>enclosure</th><th>mutable</th><th>ordered</th><th>items</th></tr>\n",
    "<tr><td>string</td><td>str</td><td>' ', \" \"</td><td><font color=\"red\">no</font></td><td><font color=\"green\">yes</font></td><td>index/value</td></tr>\n",
    "<tr><td>list</td><td>list</td><td>[ ]</td><td><font color=\"green\">yes</font></td><td><font color=\"green\">yes</font></td><td>index/value</td></tr>\n",
    "<tr><td>dictionary</td><td>dict</td><td>{ }</td><td><font color=\"green\">yes</font></td><td><font color=\"red\">no</font></td><td>key/value</td></tr>\n",
    "<tr><td>tuple</td><td>tuple</td><td>( )</td><td><font color=\"red\">no</font></td><td><font color=\"green\">yes</font></td><td>index/value</td></tr>\n",
    "<tr><td>set</td><td>set</td><td>{ }</td><td><font color=\"green\">yes</font></td><td><font color=\"red\">no</font></td><td>value</td></tr>\n",
    "</table>\n",
    "</body>\n",
    "</html>"
   ]
  },
  {
   "cell_type": "code",
   "execution_count": null,
   "id": "27818a53",
   "metadata": {},
   "outputs": [],
   "source": [
    "# euclid gcd algorithm\n",
    "# 53667, 25527"
   ]
  },
  {
   "cell_type": "code",
   "execution_count": null,
   "id": "8072d1d1",
   "metadata": {},
   "outputs": [],
   "source": [
    "# algorithm that takes a nucleotide string as input, and returns its reverse complement"
   ]
  }
 ],
 "metadata": {
  "kernelspec": {
   "display_name": "Python 3 (ipykernel)",
   "language": "python",
   "name": "python3"
  },
  "language_info": {
   "codemirror_mode": {
    "name": "ipython",
    "version": 3
   },
   "file_extension": ".py",
   "mimetype": "text/x-python",
   "name": "python",
   "nbconvert_exporter": "python",
   "pygments_lexer": "ipython3",
   "version": "3.8.10"
  }
 },
 "nbformat": 4,
 "nbformat_minor": 5
}
