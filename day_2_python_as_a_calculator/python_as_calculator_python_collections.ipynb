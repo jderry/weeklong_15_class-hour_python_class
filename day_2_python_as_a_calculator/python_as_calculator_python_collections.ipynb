{
 "cells": [
  {
   "cell_type": "code",
   "execution_count": 1,
   "id": "4fac4890",
   "metadata": {},
   "outputs": [
    {
     "data": {
      "text/plain": [
       "1156"
      ]
     },
     "execution_count": 1,
     "metadata": {},
     "output_type": "execute_result"
    }
   ],
   "source": [
    "# Datetime I: Duration of The Covid Pandemic\n",
    "from datetime import date\n",
    "date1, date2= date(2020, 3, 11), date(2023, 5, 11)\n",
    "(date2 - date1).days"
   ]
  },
  {
   "cell_type": "code",
   "execution_count": 3,
   "id": "f472111f",
   "metadata": {},
   "outputs": [
    {
     "name": "stdout",
     "output_type": "stream",
     "text": [
      "211.5\n"
     ]
    }
   ],
   "source": [
    "# Heat Loss\n",
    "from numpy import array\n",
    "h, A, T = .47, 30, 15 #array([15, 22, 65, 38, 27, 45])\n",
    "q = h * A * T; print(q)"
   ]
  },
  {
   "cell_type": "code",
   "execution_count": 5,
   "id": "2de27b86",
   "metadata": {},
   "outputs": [],
   "source": [
    "array1, array2 = array([1, 2, 3]), array([4, 5, 6]).reshape(1,3)"
   ]
  },
  {
   "cell_type": "code",
   "execution_count": 6,
   "id": "470c4344",
   "metadata": {},
   "outputs": [
    {
     "data": {
      "text/plain": [
       "array([[ 4, 10, 18]])"
      ]
     },
     "execution_count": 6,
     "metadata": {},
     "output_type": "execute_result"
    }
   ],
   "source": [
    "array1 * array2"
   ]
  },
  {
   "cell_type": "code",
   "execution_count": 7,
   "id": "a1ce1981",
   "metadata": {},
   "outputs": [
    {
     "data": {
      "text/plain": [
       "array([[ 4, 10, 18]])"
      ]
     },
     "execution_count": 7,
     "metadata": {},
     "output_type": "execute_result"
    }
   ],
   "source": [
    "array2 * array1"
   ]
  },
  {
   "cell_type": "code",
   "execution_count": 8,
   "id": "5eb4c078",
   "metadata": {},
   "outputs": [],
   "source": [
    "# ndarray: numpy : all items must be of the same type\n",
    "# list: heterogenous\n",
    "testList = [1, 1.2, 'hello']"
   ]
  },
  {
   "cell_type": "code",
   "execution_count": 9,
   "id": "73e5fbc0",
   "metadata": {},
   "outputs": [
    {
     "data": {
      "text/plain": [
       "[1, 1.2, 'hello']"
      ]
     },
     "execution_count": 9,
     "metadata": {},
     "output_type": "execute_result"
    }
   ],
   "source": [
    "testList"
   ]
  },
  {
   "cell_type": "code",
   "execution_count": 10,
   "id": "60de4a8a",
   "metadata": {},
   "outputs": [
    {
     "data": {
      "text/plain": [
       "1"
      ]
     },
     "execution_count": 10,
     "metadata": {},
     "output_type": "execute_result"
    }
   ],
   "source": [
    "testList[0] # items in a python list are ordered, and in index/value pairs; mutable (changeable)"
   ]
  },
  {
   "cell_type": "code",
   "execution_count": 11,
   "id": "d90cce3b",
   "metadata": {},
   "outputs": [
    {
     "data": {
      "text/plain": [
       "[2, 1.2, 'hello']"
      ]
     },
     "execution_count": 11,
     "metadata": {},
     "output_type": "execute_result"
    }
   ],
   "source": [
    "testList[0] = 2; testList"
   ]
  },
  {
   "cell_type": "code",
   "execution_count": 12,
   "id": "2dd58fb3",
   "metadata": {},
   "outputs": [],
   "source": [
    "testStr = 'hello'"
   ]
  },
  {
   "cell_type": "code",
   "execution_count": null,
   "id": "fbdb8c1e",
   "metadata": {},
   "outputs": [],
   "source": [
    "# python strings are immutable, enclusures are single or double quotes; items are index/value pairs"
   ]
  },
  {
   "cell_type": "code",
   "execution_count": 13,
   "id": "f04af4fe",
   "metadata": {},
   "outputs": [
    {
     "data": {
      "text/plain": [
       "'e'"
      ]
     },
     "execution_count": 13,
     "metadata": {},
     "output_type": "execute_result"
    }
   ],
   "source": [
    "testStr[1]"
   ]
  },
  {
   "cell_type": "code",
   "execution_count": 14,
   "id": "5b1838c1",
   "metadata": {},
   "outputs": [
    {
     "ename": "TypeError",
     "evalue": "'str' object does not support item assignment",
     "output_type": "error",
     "traceback": [
      "\u001b[0;31m---------------------------------------------------------------------------\u001b[0m",
      "\u001b[0;31mTypeError\u001b[0m                                 Traceback (most recent call last)",
      "Cell \u001b[0;32mIn[14], line 1\u001b[0m\n\u001b[0;32m----> 1\u001b[0m \u001b[43mtestStr\u001b[49m\u001b[43m[\u001b[49m\u001b[38;5;241;43m1\u001b[39;49m\u001b[43m]\u001b[49m \u001b[38;5;241m=\u001b[39m \u001b[38;5;124m'\u001b[39m\u001b[38;5;124mg\u001b[39m\u001b[38;5;124m'\u001b[39m\n",
      "\u001b[0;31mTypeError\u001b[0m: 'str' object does not support item assignment"
     ]
    }
   ],
   "source": [
    "testStr[1] = 'g'"
   ]
  },
  {
   "cell_type": "code",
   "execution_count": 15,
   "id": "47dade8e",
   "metadata": {},
   "outputs": [],
   "source": [
    "testDict = {'a': 3.14, 1: 'hello'}"
   ]
  },
  {
   "cell_type": "code",
   "execution_count": 17,
   "id": "4b960100",
   "metadata": {},
   "outputs": [
    {
     "data": {
      "text/plain": [
       "'hello'"
      ]
     },
     "execution_count": 17,
     "metadata": {},
     "output_type": "execute_result"
    }
   ],
   "source": [
    "testDict[1]"
   ]
  },
  {
   "cell_type": "code",
   "execution_count": null,
   "id": "01c2ce5f",
   "metadata": {},
   "outputs": [],
   "source": [
    "# dicts are mutable, items are key/value pairs"
   ]
  },
  {
   "cell_type": "code",
   "execution_count": 18,
   "id": "6438e9e2",
   "metadata": {},
   "outputs": [
    {
     "data": {
      "text/plain": [
       "'Hello'"
      ]
     },
     "execution_count": 18,
     "metadata": {},
     "output_type": "execute_result"
    }
   ],
   "source": [
    "testStr.capitalize()"
   ]
  },
  {
   "cell_type": "code",
   "execution_count": 19,
   "id": "6e9de759",
   "metadata": {},
   "outputs": [
    {
     "data": {
      "text/plain": [
       "'hello'"
      ]
     },
     "execution_count": 19,
     "metadata": {},
     "output_type": "execute_result"
    }
   ],
   "source": [
    "testStr"
   ]
  },
  {
   "cell_type": "code",
   "execution_count": 20,
   "id": "292b3669",
   "metadata": {},
   "outputs": [],
   "source": [
    "testTuple = ('hello', 1, {})"
   ]
  },
  {
   "cell_type": "code",
   "execution_count": 21,
   "id": "f79a01e8",
   "metadata": {},
   "outputs": [
    {
     "data": {
      "text/plain": [
       "('hello', 1, {})"
      ]
     },
     "execution_count": 21,
     "metadata": {},
     "output_type": "execute_result"
    }
   ],
   "source": [
    "testTuple"
   ]
  },
  {
   "cell_type": "code",
   "execution_count": null,
   "id": "95cb18e0",
   "metadata": {},
   "outputs": [],
   "source": [
    "# tuples are read-only lists. immutable, heterogenous, items are index/value pairs"
   ]
  },
  {
   "cell_type": "code",
   "execution_count": null,
   "id": "f1ba7971",
   "metadata": {},
   "outputs": [],
   "source": []
  }
 ],
 "metadata": {
  "kernelspec": {
   "display_name": "Python 3 (ipykernel)",
   "language": "python",
   "name": "python3"
  },
  "language_info": {
   "codemirror_mode": {
    "name": "ipython",
    "version": 3
   },
   "file_extension": ".py",
   "mimetype": "text/x-python",
   "name": "python",
   "nbconvert_exporter": "python",
   "pygments_lexer": "ipython3",
   "version": "3.9.5"
  }
 },
 "nbformat": 4,
 "nbformat_minor": 5
}
