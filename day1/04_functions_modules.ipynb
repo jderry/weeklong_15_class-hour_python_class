{
 "cells": [
  {
   "cell_type": "markdown",
   "id": "89592bab",
   "metadata": {},
   "source": [
    "# By design, to the furthest extent possible, Guido van Rossum made Python 3 a functional programming language.\n",
    "## This means that programs are written by applying existing functions and composing new ones.\n",
    "### This is why print() and python_version() in earlier notebooks are functions --- as opposed to, say, commands."
   ]
  },
  {
   "cell_type": "markdown",
   "id": "4085ab8f",
   "metadata": {},
   "source": [
    "# Writing functions in Python is easy.\n",
    "## This is not to say that making them correct and efficient is easy --- these are different subjects entirely."
   ]
  },
  {
   "cell_type": "markdown",
   "id": "85827172",
   "metadata": {},
   "source": [
    "# In this notebook, we will learn how to write functions in Python, as well as how to save and load them from text files called \"modules\", which makes maintaining and re-using them easy."
   ]
  },
  {
   "cell_type": "markdown",
   "id": "75277cd0",
   "metadata": {},
   "source": [
    "## At its simplest, a Python function needs a name only."
   ]
  },
  {
   "cell_type": "code",
   "execution_count": 1,
   "id": "40a6b816",
   "metadata": {},
   "outputs": [],
   "source": [
    "def testFunc(): # def is the reserved word in Python to create a function. The function name follows.\n",
    "    pass\n",
    "\n",
    "# after the function name, we immediately write the open parenthesis of the parentheses that hold the argument list,\n",
    "# if any. after we write the close parenthesis, we end the line with a full colon.\n",
    "\n",
    "# python indents the block of code associated with the function.\n",
    "# in our example, we write a single statement, \"pass\".\n",
    "# the pass statement does absolutely nothing, and is useful when troubleshooting code."
   ]
  },
  {
   "cell_type": "markdown",
   "id": "d5562472",
   "metadata": {},
   "source": [
    "### Note that the Python interpreter writes an entry for the function into its <b>symbol table</b>."
   ]
  },
  {
   "cell_type": "code",
   "execution_count": 3,
   "id": "0c9cddc7",
   "metadata": {},
   "outputs": [
    {
     "name": "stdout",
     "output_type": "stream",
     "text": [
      "Variable   Type        Data/Info\n",
      "--------------------------------\n",
      "testFunc   function    <function testFunc at 0x7f7ec06f14c0>\n"
     ]
    }
   ],
   "source": [
    "%whos"
   ]
  },
  {
   "cell_type": "markdown",
   "id": "39493190",
   "metadata": {},
   "source": [
    "### testFunc() above takes no arguments and returns no values.\n",
    "### We invoke it on the line below, as proof."
   ]
  },
  {
   "cell_type": "code",
   "execution_count": 4,
   "id": "aa2d3ca7",
   "metadata": {},
   "outputs": [],
   "source": [
    "testFunc()"
   ]
  },
  {
   "cell_type": "markdown",
   "id": "f9ffd3f8",
   "metadata": {},
   "source": [
    "## Now we write a simple function that takes a single argument and returns a single value."
   ]
  },
  {
   "cell_type": "code",
   "execution_count": 5,
   "id": "c738d7f2",
   "metadata": {},
   "outputs": [],
   "source": [
    "def get_cube_root(n):\n",
    "    return n ** (1/3)\n",
    "\n",
    "# double asterisk ** is the exponentiation operator."
   ]
  },
  {
   "cell_type": "markdown",
   "id": "d337bd4b",
   "metadata": {},
   "source": [
    "## Python has 3 built-in numeric types: integer (int), floating-point (float), and complex (complex)."
   ]
  },
  {
   "cell_type": "code",
   "execution_count": 6,
   "id": "84192b25",
   "metadata": {},
   "outputs": [
    {
     "name": "stdout",
     "output_type": "stream",
     "text": [
      "3.0\n",
      "1.4643443505031195\n",
      "(1.8422978087224575+0.9748950044722985j)\n"
     ]
    }
   ],
   "source": [
    "# all three built-in numeric types can be passed in as arguments.\n",
    "print(get_cube_root(27))\n",
    "print(get_cube_root(3.14))\n",
    "print(get_cube_root(1+9j))"
   ]
  },
  {
   "cell_type": "markdown",
   "id": "683bb854",
   "metadata": {},
   "source": [
    "## Now let's take the code we wrote to find the gc-content percentage of a nucleotide string, and convert it into a function."
   ]
  },
  {
   "cell_type": "code",
   "execution_count": 7,
   "id": "0d71e8f0",
   "metadata": {},
   "outputs": [],
   "source": [
    "def get_gc_content_per(nuclStr):\n",
    "    # the variable name we give to the argument is used in the function's block of code\n",
    "    return 100*((nuclStr.count('g') + nuclStr.count('c'))/len(nuclStr))\n",
    "\n",
    "# yes, it's as simple as this."
   ]
  },
  {
   "cell_type": "code",
   "execution_count": 8,
   "id": "937f218a",
   "metadata": {},
   "outputs": [
    {
     "data": {
      "text/plain": [
       "28.57142857142857"
      ]
     },
     "execution_count": 8,
     "metadata": {},
     "output_type": "execute_result"
    }
   ],
   "source": [
    "# and now we test\n",
    "get_gc_content_per('gattacagattaca')"
   ]
  },
  {
   "cell_type": "code",
   "execution_count": 9,
   "id": "04dabf1a",
   "metadata": {},
   "outputs": [
    {
     "data": {
      "text/plain": [
       "26.666666666666668"
      ]
     },
     "execution_count": 9,
     "metadata": {},
     "output_type": "execute_result"
    }
   ],
   "source": [
    "# the advantage of rendering the code as a function i hope is obvious.\n",
    "# we can re-use it as often as we want on expected input ---\n",
    "get_gc_content_per('acgtacgtaaaaaaa')"
   ]
  },
  {
   "cell_type": "markdown",
   "id": "69682bd4",
   "metadata": {},
   "source": [
    "# Our get_gc_content_per() function works on expected input, but it is poorly written.\n",
    "## For starters, even a first-yr high-school biology student would notice that it accepts only lower-case nucleotide strings, and that such strings can be either uppercase or lowercase.\n",
    "## And our function and variable names are descriptive (as opposed to being, say, g() for the function name and x for the variable name). When we give functions and files and variables meaningful names in the contexts in which they're used, we call the code \"self-documenting code\".\n",
    "## But our code is otherwise undocumented.\n",
    "## Then there's no code to ensure that the users of our functions enter expected input only --- by which i mean strings composed only of uppercase or lowercase nucleotides.\n",
    "### We will deal with these issues throughout the course."
   ]
  },
  {
   "cell_type": "markdown",
   "id": "708490ac",
   "metadata": {},
   "source": [
    "# For now, let's save our function to a module."
   ]
  },
  {
   "cell_type": "markdown",
   "id": "ddf790de",
   "metadata": {},
   "source": [
    "### A module is a .py file that holds functions we write and use.\n",
    "### The name we'll use for our class module is myModule.py\n",
    "### In JupyterHub, we will upload our module to our notebook directory.\n",
    "### In this environment, we will write and edit our module on our local machines, save it, then upload it to our notebook directory in order to use it."
   ]
  },
  {
   "cell_type": "code",
   "execution_count": 10,
   "id": "b74003d3",
   "metadata": {},
   "outputs": [],
   "source": [
    "# these magics allow the notebook to reload contents of edited modules\n",
    "# into session memory\n",
    "%load_ext autoreload\n",
    "%autoreload 2"
   ]
  },
  {
   "cell_type": "code",
   "execution_count": 11,
   "id": "b87ba3ea",
   "metadata": {},
   "outputs": [
    {
     "data": {
      "text/plain": [
       "28.57142857142857"
      ]
     },
     "execution_count": 11,
     "metadata": {},
     "output_type": "execute_result"
    }
   ],
   "source": [
    "# copy/paste get_gc_content_per(nuclStr) into myModule.py\n",
    "# save/upload myModule to notebook directory\n",
    "# import myModule as mM\n",
    "import myModule as mM\n",
    "\n",
    "# try to invoke function in myModule\n",
    "mM.get_gc_content_per('gattaca')"
   ]
  },
  {
   "cell_type": "code",
   "execution_count": 10,
   "id": "0a15aeb1",
   "metadata": {},
   "outputs": [],
   "source": [
    "# edit/modify local copy of myModule.py\n",
    "# save/upload myModule to notebook directory\n",
    "# overwrite existing remote copy on JupyterHub\n",
    "# del mM\n",
    "del mM\n",
    "# import myModule as mM\n",
    "import myModule as mM"
   ]
  },
  {
   "cell_type": "code",
   "execution_count": 10,
   "id": "f2b45f2f",
   "metadata": {},
   "outputs": [
    {
     "name": "stdout",
     "output_type": "stream",
     "text": [
      "Variable             Type        Data/Info\n",
      "------------------------------------------\n",
      "get_cube_root        function    <function get_cube_root at 0x7fadc4732ca0>\n",
      "get_gc_content_per   function    <function get_gc_content_per at 0x7fadc4732f70>\n",
      "mM                   module      <module 'myModule' from '<...>home/jderry/myModule.py'>\n",
      "testFunc             function    <function testFunc at 0x7fadc477fdc0>\n"
     ]
    }
   ],
   "source": [
    "# try to invoke new function added to myModule\n"
   ]
  },
  {
   "cell_type": "markdown",
   "id": "0fb64743",
   "metadata": {},
   "source": [
    "# Improving our functions"
   ]
  },
  {
   "cell_type": "markdown",
   "id": "94c1214e",
   "metadata": {},
   "source": [
    "## Adding type hints & docstring\n",
    "### As of Python 3.5, the interpreter allows programmers to add type hints to their function arguments and return values.\n",
    "<br>For mM.get_gc_content_per(), we modify the function head to read: <b>get_gc_content_per(nuclStr: str) -> float</b>"
   ]
  },
  {
   "cell_type": "code",
   "execution_count": 13,
   "id": "19ee8a8f",
   "metadata": {},
   "outputs": [],
   "source": [
    "# we upload/overwrite our changes\n",
    "# del mM\n",
    "# import myModule as mM\n",
    "# test\n",
    "mM.get_gc_content_per?"
   ]
  },
  {
   "cell_type": "markdown",
   "id": "1e780f12",
   "metadata": {},
   "source": [
    "### In Python, we document a function in a docstring (enclosed by 3 single or double quotes).\n",
    "### A function docstring is added under the function head and includes: a type contract (if type hints aren't possible), a single-sentence explanation of what the function takes as input and returns as output; and at least one example of the function.\n",
    "<br>For mM.get_gc_content_per(), we might add this docstring:</br>\n",
    "<b><br>''' (str)->(float) # example of type contract.</br>\n",
    "<br>Given a string of lowercase nucleotides, return the percentage of GC content.</br>\n",
    "<br>>>>get_gc_content_per('gattaca')</br>\n",
    "<br>   28.57142857142857</br></b>\n",
    "<br>'''</br></b>"
   ]
  },
  {
   "cell_type": "code",
   "execution_count": 11,
   "id": "f7dfb1ed",
   "metadata": {},
   "outputs": [],
   "source": [
    "# we upload/overwrite our changes\n",
    "# del mM\n",
    "# import myModule as mM\n",
    "# test\n",
    "mM.get_gc_content_per?"
   ]
  },
  {
   "cell_type": "code",
   "execution_count": null,
   "id": "ea54f6bc",
   "metadata": {},
   "outputs": [],
   "source": []
  }
 ],
 "metadata": {
  "kernelspec": {
   "display_name": "Python 3 (ipykernel)",
   "language": "python",
   "name": "python3"
  },
  "language_info": {
   "codemirror_mode": {
    "name": "ipython",
    "version": 3
   },
   "file_extension": ".py",
   "mimetype": "text/x-python",
   "name": "python",
   "nbconvert_exporter": "python",
   "pygments_lexer": "ipython3",
   "version": "3.8.10"
  }
 },
 "nbformat": 4,
 "nbformat_minor": 5
}
