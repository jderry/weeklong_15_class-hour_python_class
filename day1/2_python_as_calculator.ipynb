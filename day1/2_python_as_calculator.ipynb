{
 "cells": [
  {
   "cell_type": "code",
   "execution_count": 1,
   "id": "255d8deb",
   "metadata": {},
   "outputs": [],
   "source": [
    "# initialize \n",
    "# to initialize displaying webpages within the notebook\n",
    "from IPython.display import IFrame"
   ]
  },
  {
   "cell_type": "markdown",
   "id": "8fa34ede",
   "metadata": {},
   "source": [
    "# Problem: Given a nucleotide string, find its GC-content percentage."
   ]
  },
  {
   "cell_type": "markdown",
   "id": "3282ad91",
   "metadata": {},
   "source": [
    "## What is GC-content percentage?"
   ]
  },
  {
   "cell_type": "code",
   "execution_count": 2,
   "id": "0d1bd48a",
   "metadata": {},
   "outputs": [
    {
     "data": {
      "text/html": [
       "\n",
       "        <iframe\n",
       "            width=\"100%\"\n",
       "            height=\"500\"\n",
       "            src=\"https://en.wikipedia.org/wiki/GC-content\"\n",
       "            frameborder=\"0\"\n",
       "            allowfullscreen\n",
       "            \n",
       "        ></iframe>\n",
       "        "
      ],
      "text/plain": [
       "<IPython.lib.display.IFrame at 0x7f2dd862f6d0>"
      ]
     },
     "execution_count": 2,
     "metadata": {},
     "output_type": "execute_result"
    }
   ],
   "source": [
    "IFrame('https://en.wikipedia.org/wiki/GC-content', width='100%', height=500)"
   ]
  },
  {
   "cell_type": "markdown",
   "id": "3fdc634e",
   "metadata": {},
   "source": [
    "## Problem: Given a nucleotide string, find its GC-content percentage."
   ]
  },
  {
   "cell_type": "code",
   "execution_count": 3,
   "id": "a410100d",
   "metadata": {},
   "outputs": [
    {
     "data": {
      "text/plain": [
       "28.57142857142857"
      ]
     },
     "execution_count": 3,
     "metadata": {},
     "output_type": "execute_result"
    }
   ],
   "source": [
    "nuclStr = 'gattacagattaca' # this is an assignment statement\n",
    "''' we use assignment statements to create and instantiate variables.\n",
    "    we call the equal sign ('=') \"the assignment operator\";\n",
    "    and to avoid confusion, when we read the assignment operator aloud,\n",
    "    we say \"takes the value of\".\n",
    "    in this instance, we say aloud, \"nuclStr takes the value of 'gattacagattaca'\".\n",
    "'''\n",
    "100*((nuclStr.count('g') + nuclStr.count('c'))/len(nuclStr))\n"
   ]
  },
  {
   "cell_type": "markdown",
   "id": "c6dffddf",
   "metadata": {},
   "source": [
    "### We can assign our answer to a variable. Let's do that."
   ]
  },
  {
   "cell_type": "code",
   "execution_count": 4,
   "id": "760ce43d",
   "metadata": {},
   "outputs": [],
   "source": [
    "gc_content_per = 100*((nuclStr.count('g') + nuclStr.count('c'))/len(nuclStr))"
   ]
  },
  {
   "cell_type": "markdown",
   "id": "264fbffe",
   "metadata": {},
   "source": [
    "### The variable exists in our session memory for further use..."
   ]
  },
  {
   "cell_type": "code",
   "execution_count": 5,
   "id": "d7fc7532",
   "metadata": {},
   "outputs": [
    {
     "name": "stdout",
     "output_type": "stream",
     "text": [
      "Variable         Type     Data/Info\n",
      "-----------------------------------\n",
      "IFrame           type     <class 'IPython.lib.display.IFrame'>\n",
      "gc_content_per   float    28.57142857142857\n",
      "nuclStr          str      gattacagattaca\n"
     ]
    }
   ],
   "source": [
    "%whos"
   ]
  },
  {
   "cell_type": "markdown",
   "id": "03a9bce4",
   "metadata": {},
   "source": [
    "### ...and we can print the variable's value with the print() function, passing in the variable's name:"
   ]
  },
  {
   "cell_type": "code",
   "execution_count": 6,
   "id": "b2bbdefd",
   "metadata": {},
   "outputs": [
    {
     "name": "stdout",
     "output_type": "stream",
     "text": [
      "28.57142857142857\n"
     ]
    }
   ],
   "source": [
    "print(gc_content_per)"
   ]
  },
  {
   "cell_type": "markdown",
   "id": "4887737d",
   "metadata": {},
   "source": [
    "### Let's render this answer into a more acceptable format.\n",
    "### Let's use format printing, truncate the decimal fraction after the hundredths digit; and signify that this is a percentage."
   ]
  },
  {
   "cell_type": "code",
   "execution_count": 7,
   "id": "c7b5a06d",
   "metadata": {},
   "outputs": [
    {
     "name": "stdout",
     "output_type": "stream",
     "text": [
      "28.57%\n"
     ]
    }
   ],
   "source": [
    "print(f\"{gc_content_per:4.2f}%\")"
   ]
  },
  {
   "cell_type": "code",
   "execution_count": null,
   "id": "e97ee9e3",
   "metadata": {},
   "outputs": [],
   "source": []
  }
 ],
 "metadata": {
  "kernelspec": {
   "display_name": "Python 3 (ipykernel)",
   "language": "python",
   "name": "python3"
  },
  "language_info": {
   "codemirror_mode": {
    "name": "ipython",
    "version": 3
   },
   "file_extension": ".py",
   "mimetype": "text/x-python",
   "name": "python",
   "nbconvert_exporter": "python",
   "pygments_lexer": "ipython3",
   "version": "3.8.10"
  }
 },
 "nbformat": 4,
 "nbformat_minor": 5
}
