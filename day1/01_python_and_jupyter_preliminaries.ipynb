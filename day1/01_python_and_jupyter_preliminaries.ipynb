{
 "cells": [
  {
   "cell_type": "markdown",
   "id": "e29b8200",
   "metadata": {},
   "source": [
    "jupyter notebooks were invented by the amerigo-colombian physicist fernando pérez (b. medellín, currently a faculty researcher at berkeley). \n",
    "by design, jupyter notebooks are a freeware knock-off of mathematica notebooks. they use web technology.\n",
    "they were originally designed to run python-only code.\n",
    "they are a collaborative tool that allow researchers to share code, text, and multimedia."
   ]
  },
  {
   "cell_type": "code",
   "execution_count": 1,
   "id": "9122b5f4",
   "metadata": {},
   "outputs": [],
   "source": [
    "# to initialize displaying webpages within the notebook, run:\n",
    "from IPython.display import IFrame"
   ]
  },
  {
   "cell_type": "code",
   "execution_count": 2,
   "id": "a53e9943",
   "metadata": {},
   "outputs": [
    {
     "data": {
      "text/html": [
       "\n",
       "        <iframe\n",
       "            width=\"100%\"\n",
       "            height=\"500\"\n",
       "            src=\"https://en.wikipedia.org/wiki/Fernando_P%C3%A9rez_(software_developer)\"\n",
       "            frameborder=\"0\"\n",
       "            allowfullscreen\n",
       "            \n",
       "        ></iframe>\n",
       "        "
      ],
      "text/plain": [
       "<IPython.lib.display.IFrame at 0x7f06585d4610>"
      ]
     },
     "execution_count": 2,
     "metadata": {},
     "output_type": "execute_result"
    }
   ],
   "source": [
    "# to render an online webpage, run:\n",
    "IFrame('https://en.wikipedia.org/wiki/Fernando_P%C3%A9rez_(software_developer)', width='100%', height=500)"
   ]
  },
  {
   "cell_type": "markdown",
   "id": "1242ad24",
   "metadata": {},
   "source": [
    "### fun fact: the world-wide web technology of http and html were invented by the british physicist\n",
    "## tim berners-lee \n",
    "while working at cern. he invented the world-wide web as a means for researchers to share their research over the network by rendering text and images on a single page in a format approximating print research articles."
   ]
  },
  {
   "cell_type": "code",
   "execution_count": 3,
   "id": "30415494",
   "metadata": {},
   "outputs": [
    {
     "data": {
      "text/html": [
       "\n",
       "        <iframe\n",
       "            width=\"100%\"\n",
       "            height=\"500\"\n",
       "            src=\"https://en.wikipedia.org/wiki/Tim_Berners-Lee\"\n",
       "            frameborder=\"0\"\n",
       "            allowfullscreen\n",
       "            \n",
       "        ></iframe>\n",
       "        "
      ],
      "text/plain": [
       "<IPython.lib.display.IFrame at 0x7f0658618fa0>"
      ]
     },
     "execution_count": 3,
     "metadata": {},
     "output_type": "execute_result"
    }
   ],
   "source": [
    "IFrame('https://en.wikipedia.org/wiki/Tim_Berners-Lee', width='100%', height=500)"
   ]
  },
  {
   "cell_type": "markdown",
   "id": "4afbe705",
   "metadata": {},
   "source": [
    "# fundamental to jupyter notebooks is the computation cell ---"
   ]
  },
  {
   "cell_type": "code",
   "execution_count": null,
   "id": "4b74a764",
   "metadata": {},
   "outputs": [],
   "source": [
    "# start with comments\n"
   ]
  },
  {
   "cell_type": "markdown",
   "id": "c09f5925",
   "metadata": {},
   "source": [
    "## an instance of the python interpreter back-ends the jupyter notebook. when you pass a python statement into a computation cell and run it, the statement is passed to the interpreter, which parses it into machine code, then executes the machine code."
   ]
  },
  {
   "cell_type": "markdown",
   "id": "e3b14677",
   "metadata": {},
   "source": [
    "## in working with jupyter notebooks, we will use both python command and jupyter notebook commands.\n",
    "## jupyter notebook commands are called 'magics'; when read aloud, we say 'magic save', 'magic hist', or 'magic whos'."
   ]
  },
  {
   "cell_type": "code",
   "execution_count": 4,
   "id": "31e20585",
   "metadata": {},
   "outputs": [
    {
     "name": "stdout",
     "output_type": "stream",
     "text": [
      "# to initialize displaying webpages within the notebook, run:\n",
      "from IPython.display import IFrame\n",
      "# to render an online webpage, run:\n",
      "IFrame('https://en.wikipedia.org/wiki/Fernando_P%C3%A9rez_(software_developer)', width='100%', height=500)\n",
      "IFrame('https://en.wikipedia.org/wiki/Tim_Berners-Lee', width='100%', height=500)\n",
      "# magic hist shows the history of our current session\n",
      "%hist\n"
     ]
    }
   ],
   "source": [
    "# magic hist shows the history of our current session\n",
    "%hist"
   ]
  },
  {
   "cell_type": "code",
   "execution_count": 5,
   "id": "c1e01c76",
   "metadata": {},
   "outputs": [
    {
     "name": "stdout",
     "output_type": "stream",
     "text": [
      "Variable   Type    Data/Info\n",
      "----------------------------\n",
      "IFrame     type    <class 'IPython.lib.display.IFrame'>\n"
     ]
    }
   ],
   "source": [
    "# magic whos shows the contents of our session memory\n",
    "%whos"
   ]
  },
  {
   "cell_type": "code",
   "execution_count": 6,
   "id": "5a2b9132",
   "metadata": {},
   "outputs": [
    {
     "name": "stdout",
     "output_type": "stream",
     "text": [
      "The following commands were written to file `29apr2023.py`:\n",
      "# to initialize displaying webpages within the notebook, run:\n",
      "from IPython.display import IFrame\n",
      "# to render an online webpage, run:\n",
      "IFrame('https://en.wikipedia.org/wiki/Fernando_P%C3%A9rez_(software_developer)', width='100%', height=500)\n",
      "IFrame('https://en.wikipedia.org/wiki/Tim_Berners-Lee', width='100%', height=500)\n",
      "# magic hist shows the history of our current session\n",
      "get_ipython().run_line_magic('hist', '')\n",
      "# magic whos shows the contents of our session memory\n",
      "get_ipython().run_line_magic('whos', '')\n",
      "# magic save lets us save our session (or lines of it) to a text file\n"
     ]
    }
   ],
   "source": [
    "# magic save lets us save our session (or lines of it) to a text file\n",
    "%save 29apr2023"
   ]
  },
  {
   "cell_type": "code",
   "execution_count": null,
   "id": "6eb2af0a",
   "metadata": {},
   "outputs": [],
   "source": [
    "# some magics are actually bash commands.\n",
    "%ls"
   ]
  },
  {
   "cell_type": "code",
   "execution_count": 7,
   "id": "ee273634",
   "metadata": {},
   "outputs": [
    {
     "name": "stdout",
     "output_type": "stream",
     "text": [
      "3.8.10\n"
     ]
    }
   ],
   "source": [
    "# to find which version of python backends your jupyter notebook, run:\n",
    "from platform import python_version # built-in module called \"platform\" contains function python_version()\n",
    "print(python_version()) # built-in print() function; note the nested functions"
   ]
  },
  {
   "cell_type": "code",
   "execution_count": null,
   "id": "3ae96ac4",
   "metadata": {},
   "outputs": [],
   "source": [
    "IFrame('https://en.wikipedia.org/wiki/Guido_van_Rossum', width='100%', height=500)"
   ]
  },
  {
   "cell_type": "markdown",
   "id": "a1d3c9c3",
   "metadata": {},
   "source": [
    "<br>guido van rossum worked on the programming language ABC, a language developed to teach adults how to program.\n",
    "the creators of ABC had two design goals for the language:</br>\n",
    "    <br>a) it should be easy for adults to learn; and</br>\n",
    "    <br>b) it should be easy for beginners to write useful programs</br>\n",
    "<br>while working on ABC, guido van rossum fell in love with its design goals; and when he finally decided to try his hand at writing his own programming language, he made ABC's design goals his own languages design goals.</br>\n",
    "<br>hence, his polestars while writing the language he would call \"python\", after monty python.</br>"
   ]
  },
  {
   "cell_type": "markdown",
   "id": "fd857671",
   "metadata": {},
   "source": [
    "# uploading content to server from local machine"
   ]
  },
  {
   "cell_type": "markdown",
   "id": "9ea5613f",
   "metadata": {},
   "source": [
    "## on your jupyter homepage, in the upper-right corner, is a button marked 'Upload'.\n",
    "### clicking it will open a window in your home directory on your local machine.\n",
    "<br>navigate to the file you want to upload, select it, click open; then back on the jupyter homepage, click the Upload button next to the filename.</br>"
   ]
  },
  {
   "cell_type": "markdown",
   "id": "a0f1bb20",
   "metadata": {},
   "source": [
    "# downloading content from server to local machine"
   ]
  },
  {
   "cell_type": "markdown",
   "id": "65c14683",
   "metadata": {},
   "source": [
    "# spawning a terminal session on the server through jupyterhub\n",
    "### on homepage, click 'new' button, then 'terminal' from the drop-down menu"
   ]
  },
  {
   "cell_type": "markdown",
   "id": "51f32357",
   "metadata": {},
   "source": [
    "### run scp from local machine\n",
    "### the line below downloads filename into working directory on local machine\n",
    "## (utexas) scp <i>username</i>@gsafcomp01.ccbb.utexas.edu:<i>filename</i> .\n",
    "## (utguest) scp -P993 <i>username</i>@gsafcomp01.ccbb.utexas.edu:<i>filename</i> .\n",
    "### the dot at the end means \"the working directory\" so the statements read: secure copy the file on the remote server into the working directory on the local machine."
   ]
  },
  {
   "cell_type": "code",
   "execution_count": null,
   "id": "2b9ebe65",
   "metadata": {},
   "outputs": [],
   "source": []
  }
 ],
 "metadata": {
  "kernelspec": {
   "display_name": "Python 3 (ipykernel)",
   "language": "python",
   "name": "python3"
  },
  "language_info": {
   "codemirror_mode": {
    "name": "ipython",
    "version": 3
   },
   "file_extension": ".py",
   "mimetype": "text/x-python",
   "name": "python",
   "nbconvert_exporter": "python",
   "pygments_lexer": "ipython3",
   "version": "3.8.10"
  }
 },
 "nbformat": 4,
 "nbformat_minor": 5
}
