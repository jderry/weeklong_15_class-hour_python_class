{
 "cells": [
  {
   "cell_type": "code",
   "execution_count": null,
   "id": "255d8deb",
   "metadata": {},
   "outputs": [],
   "source": [
    "# initialize \n",
    "# to initialize displaying webpages within the notebook\n",
    "from IPython.display import IFrame\n",
    "from IPython.display import Image"
   ]
  },
  {
   "cell_type": "code",
   "execution_count": null,
   "id": "58ed5416",
   "metadata": {},
   "outputs": [],
   "source": [
    "Image('hp-67.jpg', width=100, height=100)"
   ]
  },
  {
   "cell_type": "markdown",
   "id": "5e7c74c2",
   "metadata": {},
   "source": [
    "### although python is a general-purpose programming language, the STEM community has embraced its use in data collection, data processing, and data representation.\n",
    "### to these ends, the STEM community has created a collection of libraries known as \"SciPy\" --- but just to add a touch of ambiguity, one of the libraries is also known as \"SciPy\".\n",
    "### even without programming, out-of-the-box python or python with scipy can be used as a calculator."
   ]
  },
  {
   "cell_type": "markdown",
   "id": "8fa34ede",
   "metadata": {},
   "source": [
    "# Problem: Given a nucleotide string, find its GC-content percentage."
   ]
  },
  {
   "cell_type": "markdown",
   "id": "3282ad91",
   "metadata": {},
   "source": [
    "## What is GC-content percentage?"
   ]
  },
  {
   "cell_type": "code",
   "execution_count": null,
   "id": "0d1bd48a",
   "metadata": {},
   "outputs": [],
   "source": [
    "IFrame('https://en.wikipedia.org/wiki/GC-content', width='100%', height=500)"
   ]
  },
  {
   "cell_type": "markdown",
   "id": "3fdc634e",
   "metadata": {},
   "source": [
    "## Problem: Given a nucleotide string, find its GC-content percentage."
   ]
  },
  {
   "cell_type": "code",
   "execution_count": null,
   "id": "a410100d",
   "metadata": {},
   "outputs": [],
   "source": [
    "nuclStr = 'gattacagattaca' # this is an assignment statement\n",
    "''' we use assignment statements to create and instantiate variables.\n",
    "    we call the equal sign ('=') \"the assignment operator\";\n",
    "    and to avoid confusion, when we read the assignment operator aloud,\n",
    "    we say \"takes the value of\".\n",
    "    in this instance, we say aloud, \"nuclStr takes the value of 'gattacagattaca'\".\n",
    "'''\n",
    "100*((nuclStr.count('g') + nuclStr.count('c'))/len(nuclStr))\n"
   ]
  },
  {
   "cell_type": "markdown",
   "id": "c6dffddf",
   "metadata": {},
   "source": [
    "### We can assign our answer to a variable. Let's do that."
   ]
  },
  {
   "cell_type": "code",
   "execution_count": null,
   "id": "760ce43d",
   "metadata": {},
   "outputs": [],
   "source": [
    "gc_content_per = 100*((nuclStr.count('g') + nuclStr.count('c'))/len(nuclStr))"
   ]
  },
  {
   "cell_type": "markdown",
   "id": "264fbffe",
   "metadata": {},
   "source": [
    "### The variable exists in our session memory for further use..."
   ]
  },
  {
   "cell_type": "code",
   "execution_count": null,
   "id": "d7fc7532",
   "metadata": {},
   "outputs": [],
   "source": [
    "%whos"
   ]
  },
  {
   "cell_type": "markdown",
   "id": "03a9bce4",
   "metadata": {},
   "source": [
    "### ...and we can print the variable's value with the print() function, passing in the variable's name:"
   ]
  },
  {
   "cell_type": "code",
   "execution_count": null,
   "id": "b2bbdefd",
   "metadata": {},
   "outputs": [],
   "source": [
    "print(gc_content_per)"
   ]
  },
  {
   "cell_type": "markdown",
   "id": "8b004904-879a-4946-8466-6dce40de2e61",
   "metadata": {},
   "source": [
    "### Let's render this answer into a more acceptable format.\n",
    "### Let's use format printing, truncate the decimal fraction after the hundredths digit; and signify that this is a percentage."
   ]
  },
  {
   "cell_type": "code",
   "execution_count": null,
   "id": "1b5d3702-5f37-4daf-8192-b611e24a07d6",
   "metadata": {},
   "outputs": [],
   "source": [
    "''' format string --- a string prepended with an 'f'\n",
    "    variables are enclosed in curly braces;\n",
    "    print directives, if any, follow a full colon\n",
    "'''\n",
    "print(f\"{gc_content_per:4.2f}\")"
   ]
  },
  {
   "cell_type": "markdown",
   "id": "238dda58-58ce-42c0-a0c5-9a4da9fd808c",
   "metadata": {},
   "source": [
    "# Problem: Working with physical quantities."
   ]
  },
  {
   "cell_type": "code",
   "execution_count": null,
   "id": "3dde34dd-800d-4037-9077-003827004cec",
   "metadata": {},
   "outputs": [],
   "source": [
    "Image('ideal_gas_eq_problem.jpg', width=800, height=800)"
   ]
  },
  {
   "cell_type": "markdown",
   "id": "bb2f5189-99d2-443e-9149-7c6a0887225d",
   "metadata": {},
   "source": [
    "<p>Whitten, Davis, Peck, Stanley. <i>General Chemistry</i>, 7th edition. 2004. pg 444.</p>"
   ]
  },
  {
   "cell_type": "markdown",
   "id": "911a2bec-362e-4580-ac5f-1c1a3c4d0c74",
   "metadata": {},
   "source": [
    "### The SciPy library <b>pint</b> allows us to work with physical quantities."
   ]
  },
  {
   "cell_type": "code",
   "execution_count": null,
   "id": "f2c598b3-5864-4ee3-aec2-139c53a0fdb1",
   "metadata": {},
   "outputs": [],
   "source": [
    "import pint\n",
    "ur = pint.UnitRegistry()\n",
    "Q_ = ur.Quantity # to work with temperatures"
   ]
  },
  {
   "cell_type": "code",
   "execution_count": null,
   "id": "a45328c9-e719-4c33-bb00-ba1d597dc880",
   "metadata": {},
   "outputs": [],
   "source": [
    "# much of the problem, as stated, requires converting the units of P, V, and T\n",
    "P = (745 * ur.torr).to('atm')\n",
    "V = (7240 * ur.cu_ft).to('liter')\n",
    "T = Q_(21, ur.degC).to('degK')\n",
    "# after these conversions, the units align with the units of the given R"
   ]
  },
  {
   "cell_type": "code",
   "execution_count": null,
   "id": "ee9cde43-2fe6-4e9e-b15b-b78690f2a096",
   "metadata": {},
   "outputs": [],
   "source": [
    "# the proportionality constant R\n",
    "R = 0.0821 * ur.liter * ur.atm / (ur.mol * ur.degK)"
   ]
  },
  {
   "cell_type": "code",
   "execution_count": null,
   "id": "d457bf20-db87-4adf-b336-1daf20548a04",
   "metadata": {},
   "outputs": [],
   "source": [
    "# now we can solve for n, which is the quantity of moles\n",
    "n = P * V / (R * T)\n",
    "n # show n"
   ]
  },
  {
   "cell_type": "code",
   "execution_count": null,
   "id": "298929d2-0978-4987-87ee-bb4e6c7e2afc",
   "metadata": {},
   "outputs": [],
   "source": [
    "# finally, solve for grams of helium,\n",
    "# as required in the problem statement\n",
    "g_He = n * (4 * ur.g / ur.mol)\n",
    "g_He # show quantity of grams of helium"
   ]
  },
  {
   "cell_type": "code",
   "execution_count": null,
   "id": "2b0598eb-1119-428b-aa1f-4cb46e678a59",
   "metadata": {},
   "outputs": [],
   "source": [
    "# return a value of g_He to 3 significant digits\n",
    "# note that we are rounding the integer part of g_He\n",
    "sigFigs, numDigInt = 3, 5 # there are 5 digits in the int part\n",
    "round(g_He, (sigFigs - numDigInt))"
   ]
  },
  {
   "cell_type": "code",
   "execution_count": null,
   "id": "46d03ae5-27ea-4989-bba3-27bc88e89377",
   "metadata": {},
   "outputs": [],
   "source": [
    "g_He.magnitude # getting the scalar"
   ]
  },
  {
   "cell_type": "code",
   "execution_count": null,
   "id": "692b1c0c-9f86-4183-8f85-5da4823d8b47",
   "metadata": {},
   "outputs": [],
   "source": [
    "g_He.units # ...the units..."
   ]
  },
  {
   "cell_type": "code",
   "execution_count": null,
   "id": "2ab57288-10ff-494d-876c-d084ccdc56ec",
   "metadata": {},
   "outputs": [],
   "source": [
    "print(g_He.dimensionality) # ...and the dimensionality"
   ]
  },
  {
   "cell_type": "markdown",
   "id": "2b23eef4-c35c-4fbe-97df-22037c3bd6a6",
   "metadata": {},
   "source": [
    "# Problem: Chemical Stoichiometry."
   ]
  },
  {
   "cell_type": "markdown",
   "id": "03c7c1b8-6612-45a5-bb93-5007e48ddeab",
   "metadata": {},
   "source": [
    "## Examples taken from:\n",
    "## <p style=\"font-style: italic;\">Chemical Stoichiometry Using MATLAB</p>"
   ]
  },
  {
   "cell_type": "code",
   "execution_count": null,
   "id": "1b293fe5-6e9a-438d-933b-1fd553835b0a",
   "metadata": {},
   "outputs": [],
   "source": [
    "from sympy import init_session\n",
    "init_session()\n",
    "import numpy as np\n",
    "from scipy.linalg import solve"
   ]
  },
  {
   "cell_type": "markdown",
   "id": "0f191eb7-b220-4d00-9c28-ad0de8779df7",
   "metadata": {},
   "source": [
    "Balance:\n",
    "    \n",
    "$CH_{4} + O_{2} → CO_{2} + H_{2}O$"
   ]
  },
  {
   "cell_type": "markdown",
   "id": "c16fe7eb-4885-420d-bb47-33452cb9ad19",
   "metadata": {},
   "source": [
    "First, we mark up the chemical equation, annotating it with coefficients:\n",
    "\n",
    "$x_{1} CH_{4} + x_{2} O_{2} → x_{3} CO_{2} + x_{4} H_{2}O$"
   ]
  },
  {
   "cell_type": "markdown",
   "id": "378d3a67-6ff1-481a-96ed-10ec11bcde35",
   "metadata": {},
   "source": [
    "Second, we set up a system of linear equations in which the x's make up the columns and elements the rows.\n",
    "\n",
    "<table align=\"left\">\n",
    "<tr>\n",
    "<td>Carbon (C):</td><td>$1 ⋅ x_{1} + 0 ⋅ x_{2} = 1 ⋅ x_{3} + 0 ⋅ x_{4}$</td>\n",
    "</tr><tr>    \n",
    "<td>Hydrogen (H):</td><td>$4 ⋅ x_{1} + 0 ⋅ x_{2} = 0 ⋅ x_{3} + 2 ⋅ x_{4}$</td>\n",
    "</tr><tr>    \n",
    "<td>Oxygen (O):</td><td>$0 ⋅ x_{1} + 2 ⋅ x_{2} = 2 ⋅ x_{3} + 1 ⋅ x_{4}$</td>\n",
    "</tr>\n",
    "</table>"
   ]
  },
  {
   "cell_type": "markdown",
   "id": "78b76058-9e2c-40c4-898a-cbde5d0a0a29",
   "metadata": {},
   "source": [
    "Third, algebraically we rearrange terms so that the RHS for each equation is zero.\n",
    "\n",
    "<table align=\"left\">\n",
    "<tr>\n",
    "<td>Carbon (C):</td><td>$1 ⋅ x_{1} + 0 ⋅ x_{2}  – 1 ⋅ x_{3} + 0 ⋅ x_{4} = 0$</td>\n",
    "</tr><tr>    \n",
    "<td>Hydrogen (H):</td><td>$4 ⋅ x_{1} + 0 ⋅ x_{2} + 0 ⋅ x_{3} – 2 ⋅ x_{4} = 0$</td>\n",
    "</tr><tr>    \n",
    "<td>Oxygen (O):</td><td>$0 ⋅ x_{1} + 2 ⋅ x_{2} – 2 ⋅ x_{3} – 1 ⋅ x_{4} = 0$</td>\n",
    "</tr>\n",
    "</table>"
   ]
  },
  {
   "cell_type": "markdown",
   "id": "ce037028-dfe1-4491-bf4c-d488f2d9901e",
   "metadata": {},
   "source": [
    "To create four equations in four unknowns, we set\n",
    "\n",
    "$x_{4} = 1$"
   ]
  },
  {
   "cell_type": "markdown",
   "id": "114cd3b4-e28f-4bb0-af82-04feafdcfa00",
   "metadata": {},
   "source": [
    "$\\textbf{Ax} = \\textbf{b}$, where:"
   ]
  },
  {
   "cell_type": "markdown",
   "id": "87795be3-c473-47c6-abe2-ecfc08879f0b",
   "metadata": {},
   "source": [
    "$\\begin{align}\n",
    "\\textbf{A} = \\begin{bmatrix}\n",
    "1 & 0 & -1 & 0\\\\\n",
    "4 & 0 & 0 & -2\\\\\n",
    "0 & 2 & -2 & -1\\\\\n",
    "0 & 0 & 0 & 1\n",
    "\\end{bmatrix},  \n",
    "\\textbf{x} = \\begin{bmatrix}\n",
    "x_{1}\\\\x_{2}\\\\x_{3}\\\\x_{4}\n",
    "\\end{bmatrix},  \n",
    "\\textbf{b} = \\begin{bmatrix}\n",
    "0\\\\0\\\\0\\\\1\n",
    "\\end{bmatrix}\n",
    "\\end{align}$"
   ]
  },
  {
   "cell_type": "code",
   "execution_count": null,
   "id": "cd99c74b-ffb4-4b23-9da5-d039c96126ce",
   "metadata": {},
   "outputs": [],
   "source": [
    "# A sympy solution\n",
    "x1, x2, x3, x4 = symbols('x1 x2 x3 x4')\n",
    "A = Matrix([[1, 0, -1, 0],\\\n",
    "            [4, 0, 0, -2],\\\n",
    "            [0, 2, -2, -1],\\\n",
    "            [0, 0, 0, 1]])\n",
    "x = (x1, x2, x3, x4) # this is a tuple because of what the linsolve function accepts for input\n",
    "b = Matrix([0, 0, 0, 1])"
   ]
  },
  {
   "cell_type": "code",
   "execution_count": null,
   "id": "6546ef5d-8603-49f9-b3c1-ebf5f3d6d99e",
   "metadata": {},
   "outputs": [],
   "source": [
    "system = A, b\n",
    "linsolve(system, x)"
   ]
  },
  {
   "cell_type": "markdown",
   "id": "bd56a817-fa23-4882-9f80-f91545d6a227",
   "metadata": {},
   "source": [
    "$CH_{4} + 2O_{2} → CO_{2} + 2H_{2}O$"
   ]
  },
  {
   "cell_type": "code",
   "execution_count": null,
   "id": "741dee28-bdbc-4466-9d0d-db214cc5fa56",
   "metadata": {},
   "outputs": [],
   "source": [
    "# A numpy solution\n",
    "A = np.array([[1, 0, -1, 0],\\\n",
    "              [4, 0, 0, -2],\\\n",
    "              [0, 2, -2, -1],\\\n",
    "              [0, 0, 0, 1]])\n",
    "b = np.array([0, 0, 0, 1])\n",
    "x = solve(A, b) # this is the solver from scipy.linalg"
   ]
  },
  {
   "cell_type": "code",
   "execution_count": null,
   "id": "b50c145a-b4de-4102-a99e-0b8870efe8a0",
   "metadata": {},
   "outputs": [],
   "source": [
    "x"
   ]
  }
 ],
 "metadata": {
  "kernelspec": {
   "display_name": "Python 3 (ipykernel)",
   "language": "python",
   "name": "python3"
  },
  "language_info": {
   "codemirror_mode": {
    "name": "ipython",
    "version": 3
   },
   "file_extension": ".py",
   "mimetype": "text/x-python",
   "name": "python",
   "nbconvert_exporter": "python",
   "pygments_lexer": "ipython3",
   "version": "3.12.3"
  }
 },
 "nbformat": 4,
 "nbformat_minor": 5
}
