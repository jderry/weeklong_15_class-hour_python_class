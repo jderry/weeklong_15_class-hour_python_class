{
 "cells": [
  {
   "cell_type": "code",
   "execution_count": null,
   "id": "255d8deb",
   "metadata": {},
   "outputs": [],
   "source": [
    "# initialize \n",
    "# to initialize displaying webpages within the notebook\n",
    "from IPython.display import IFrame\n",
    "from IPython.display import Image"
   ]
  },
  {
   "cell_type": "code",
   "execution_count": null,
   "id": "58ed5416",
   "metadata": {},
   "outputs": [],
   "source": [
    "Image('hp-67.jpg', width=100, height=100)"
   ]
  },
  {
   "cell_type": "markdown",
   "id": "5e7c74c2",
   "metadata": {},
   "source": [
    "### although python is a general-purpose programming language, the STEM community has embraced its use in data collection, data processing, and data representation.\n",
    "### to these ends, the STEM community has created a collection of libraries known as \"SciPy\" --- but just to add a touch of ambiguity, one of the libraries is also known as \"SciPy\".\n",
    "### even without programming, out-of-the-box python or python with scipy can be used as a calculator."
   ]
  },
  {
   "cell_type": "markdown",
   "id": "8fa34ede",
   "metadata": {},
   "source": [
    "# Problem: Given a nucleotide string, find its GC-content percentage."
   ]
  },
  {
   "cell_type": "markdown",
   "id": "3282ad91",
   "metadata": {},
   "source": [
    "## What is GC-content percentage?"
   ]
  },
  {
   "cell_type": "code",
   "execution_count": null,
   "id": "0d1bd48a",
   "metadata": {},
   "outputs": [],
   "source": [
    "IFrame('https://en.wikipedia.org/wiki/GC-content', width='100%', height=500)"
   ]
  },
  {
   "cell_type": "markdown",
   "id": "3fdc634e",
   "metadata": {},
   "source": [
    "## Problem: Given a nucleotide string, find its GC-content percentage."
   ]
  },
  {
   "cell_type": "code",
   "execution_count": null,
   "id": "a410100d",
   "metadata": {},
   "outputs": [],
   "source": [
    "nuclStr = 'gattacagattaca' # this is an assignment statement\n",
    "''' we use assignment statements to create and instantiate variables.\n",
    "    we call the equal sign ('=') \"the assignment operator\";\n",
    "    and to avoid confusion, when we read the assignment operator aloud,\n",
    "    we say \"takes the value of\".\n",
    "    in this instance, we say aloud, \"nuclStr takes the value of 'gattacagattaca'\".\n",
    "'''\n",
    "100*((nuclStr.count('g') + nuclStr.count('c'))/len(nuclStr))\n"
   ]
  },
  {
   "cell_type": "markdown",
   "id": "c6dffddf",
   "metadata": {},
   "source": [
    "### We can assign our answer to a variable. Let's do that."
   ]
  },
  {
   "cell_type": "code",
   "execution_count": null,
   "id": "760ce43d",
   "metadata": {},
   "outputs": [],
   "source": [
    "gc_content_per = 100*((nuclStr.count('g') + nuclStr.count('c'))/len(nuclStr))"
   ]
  },
  {
   "cell_type": "markdown",
   "id": "264fbffe",
   "metadata": {},
   "source": [
    "### The variable exists in our session memory for further use..."
   ]
  },
  {
   "cell_type": "code",
   "execution_count": null,
   "id": "d7fc7532",
   "metadata": {},
   "outputs": [],
   "source": [
    "%whos"
   ]
  },
  {
   "cell_type": "markdown",
   "id": "03a9bce4",
   "metadata": {},
   "source": [
    "### ...and we can print the variable's value with the print() function, passing in the variable's name:"
   ]
  },
  {
   "cell_type": "code",
   "execution_count": null,
   "id": "b2bbdefd",
   "metadata": {},
   "outputs": [],
   "source": [
    "print(gc_content_per)"
   ]
  },
  {
   "cell_type": "markdown",
   "id": "8b004904-879a-4946-8466-6dce40de2e61",
   "metadata": {},
   "source": [
    "### Let's render this answer into a more acceptable format.\n",
    "### Let's use format printing, truncate the decimal fraction after the hundredths digit; and signify that this is a percentage."
   ]
  },
  {
   "cell_type": "code",
   "execution_count": null,
   "id": "1b5d3702-5f37-4daf-8192-b611e24a07d6",
   "metadata": {},
   "outputs": [],
   "source": [
    "''' format string --- a string prepended with an 'f'\n",
    "    variables are enclosed in curly braces;\n",
    "    print directives, if any, follow a full colon\n",
    "'''\n",
    "print(f\"{gc_content_per:4.2f}\")"
   ]
  },
  {
   "cell_type": "markdown",
   "id": "95f7cc84-4634-4e8c-bfd7-147b379029c4",
   "metadata": {},
   "source": [
    "# Problem: Working with physical quantities."
   ]
  },
  {
   "cell_type": "code",
   "execution_count": null,
   "id": "3dde34dd-800d-4037-9077-003827004cec",
   "metadata": {},
   "outputs": [],
   "source": [
    "Image('ideal_gas_eq_problem.jpg', width=800, height=800)"
   ]
  },
  {
   "cell_type": "markdown",
   "id": "bb2f5189-99d2-443e-9149-7c6a0887225d",
   "metadata": {},
   "source": [
    "<p>Whitten, Davis, Peck, Stanley. <i>General Chemistry</i>, 7th edition. 2004. pg 444.</p>"
   ]
  },
  {
   "cell_type": "markdown",
   "id": "911a2bec-362e-4580-ac5f-1c1a3c4d0c74",
   "metadata": {},
   "source": [
    "### The SciPy library <b>pint</b> allows us to work with physical quantities."
   ]
  },
  {
   "cell_type": "code",
   "execution_count": null,
   "id": "f2c598b3-5864-4ee3-aec2-139c53a0fdb1",
   "metadata": {},
   "outputs": [],
   "source": [
    "import pint\n",
    "ur = pint.UnitRegistry()\n",
    "Q_ = ur.Quantity # to work with temperatures"
   ]
  },
  {
   "cell_type": "code",
   "execution_count": null,
   "id": "a45328c9-e719-4c33-bb00-ba1d597dc880",
   "metadata": {},
   "outputs": [],
   "source": [
    "# much of the problem, as stated, requires converting the units of P, V, and T\n",
    "P = (745 * ur.torr).to('atm')\n",
    "V = (7240 * ur.cu_ft).to('liter')\n",
    "T = Q_(21, ur.degC).to('degK')\n",
    "# after these conversions, the units align with the units of the given R"
   ]
  },
  {
   "cell_type": "code",
   "execution_count": null,
   "id": "ee9cde43-2fe6-4e9e-b15b-b78690f2a096",
   "metadata": {},
   "outputs": [],
   "source": [
    "# the proportionality constant R\n",
    "R = 0.0821 * ur.liter * ur.atm / (ur.mol * ur.degK)"
   ]
  },
  {
   "cell_type": "code",
   "execution_count": null,
   "id": "d457bf20-db87-4adf-b336-1daf20548a04",
   "metadata": {},
   "outputs": [],
   "source": [
    "# now we can solve for n, which is the quantity of moles\n",
    "n = P * V / (R * T)\n",
    "n # show n"
   ]
  },
  {
   "cell_type": "code",
   "execution_count": null,
   "id": "298929d2-0978-4987-87ee-bb4e6c7e2afc",
   "metadata": {},
   "outputs": [],
   "source": [
    "# finally, solve for grams of helium,\n",
    "# as required in the problem statement\n",
    "g_He = n * (4 * ur.g / ur.mol)\n",
    "g_He # show quantity of grams of helium"
   ]
  },
  {
   "cell_type": "code",
   "execution_count": null,
   "id": "2b0598eb-1119-428b-aa1f-4cb46e678a59",
   "metadata": {},
   "outputs": [],
   "source": [
    "# return a value of g_He to 3 significant digits\n",
    "# note that we are rounding the integer part of g_He\n",
    "sigFigs, numDigInt = 3, 5 # there are 5 digits in the int part\n",
    "round(g_He, (sigFigs - numDigInt))"
   ]
  },
  {
   "cell_type": "code",
   "execution_count": null,
   "id": "46d03ae5-27ea-4989-bba3-27bc88e89377",
   "metadata": {},
   "outputs": [],
   "source": [
    "g_He.magnitude # getting the scalar"
   ]
  },
  {
   "cell_type": "code",
   "execution_count": null,
   "id": "692b1c0c-9f86-4183-8f85-5da4823d8b47",
   "metadata": {},
   "outputs": [],
   "source": [
    "g_He.units # ...the units..."
   ]
  },
  {
   "cell_type": "code",
   "execution_count": null,
   "id": "2ab57288-10ff-494d-876c-d084ccdc56ec",
   "metadata": {},
   "outputs": [],
   "source": [
    "print(g_He.dimensionality) # ...and the dimensionality"
   ]
  }
 ],
 "metadata": {
  "kernelspec": {
   "display_name": "Python 3 (ipykernel)",
   "language": "python",
   "name": "python3"
  },
  "language_info": {
   "codemirror_mode": {
    "name": "ipython",
    "version": 3
   },
   "file_extension": ".py",
   "mimetype": "text/x-python",
   "name": "python",
   "nbconvert_exporter": "python",
   "pygments_lexer": "ipython3",
   "version": "3.12.3"
  }
 },
 "nbformat": 4,
 "nbformat_minor": 5
}
