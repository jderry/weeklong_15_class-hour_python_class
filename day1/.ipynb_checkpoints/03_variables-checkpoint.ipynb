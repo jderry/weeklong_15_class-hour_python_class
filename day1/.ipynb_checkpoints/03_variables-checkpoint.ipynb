{
 "cells": [
  {
   "cell_type": "markdown",
   "id": "d36ba5ab",
   "metadata": {},
   "source": [
    "# variables"
   ]
  },
  {
   "cell_type": "markdown",
   "id": "d71e0d98",
   "metadata": {},
   "source": [
    "<br><b>variable</b>: <b>n.</b> a quantity that may assume any one of a set of values</br>\n",
    "--- https://www.merriam-webster.com/dictionary/variable"
   ]
  },
  {
   "cell_type": "markdown",
   "id": "dbe9b1dd",
   "metadata": {},
   "source": [
    "<br>In computer programming, a variable has two parts: a symbolic name, and a value at a location in memory.</br>\n",
    "<br>We create and instantiate variables using assignment statements ---</br>"
   ]
  },
  {
   "cell_type": "code",
   "execution_count": 1,
   "id": "d3d0a670",
   "metadata": {},
   "outputs": [],
   "source": [
    "nucleotideString = 'gattaca'"
   ]
  },
  {
   "cell_type": "markdown",
   "id": "8c883843",
   "metadata": {},
   "source": [
    "On the left-hand side (LHS) of an assignment statement, we write the symbolic name, while on the right-hand side (RHS) we write either a value or an expression to be evaluated ---"
   ]
  },
  {
   "cell_type": "code",
   "execution_count": 2,
   "id": "1a776fbc",
   "metadata": {},
   "outputs": [],
   "source": [
    "answer = 1 + 1"
   ]
  },
  {
   "cell_type": "markdown",
   "id": "0db7c185",
   "metadata": {},
   "source": [
    "Between the LHS and RHS is the assignment operator (=). Note that when we read the assignment operator aloud, we say \"takes the value of\"."
   ]
  },
  {
   "cell_type": "markdown",
   "id": "b58c5b4e",
   "metadata": {},
   "source": [
    "<br>When the Python interpreter reads a statement, it does so character-by-character, starting with the leftmost character and moving rightwards.</br>\n",
    "<br>Once it reads an assignment operator, it moves to the RHS of the statement to determine if it has a value to write to memory, or an expression that must first be evaluated. If an expression, it is evaluated, then its value is written to memory.</br>\n",
    "<br>Finally, the Python interpreter updates a data structure called a <b>symbol table</b> with information about the variable. Interpreters and compilers use symbol tables to keep track of the variables and functions that a user creates during a session. At a minimum, an entry in the symbol table holds the <i>symbol</i>, or name, of the variable, as well as a pointer to the starting address in memory where the value is held.</br>"
   ]
  },
  {
   "cell_type": "markdown",
   "id": "9f36dcee",
   "metadata": {},
   "source": [
    "When a variable is invoked in a statement, the Python interpreter, reading the statement, \"sees\" the variable name in the statement and does a lookup in the symbol table. If the variable has been entered into the symbol table, the interpreter fetches its value from memory and replaces the variable name with the value in the statement. Then the statement is executed ---"
   ]
  },
  {
   "cell_type": "code",
   "execution_count": 3,
   "id": "85d9d23a",
   "metadata": {},
   "outputs": [
    {
     "name": "stdout",
     "output_type": "stream",
     "text": [
      "3\n"
     ]
    }
   ],
   "source": [
    "print(answer + 1)"
   ]
  },
  {
   "cell_type": "markdown",
   "id": "c141180c",
   "metadata": {},
   "source": [
    "<br>when we try to invoke an variable that isn't entered into the symbol table, the Python interpreter, after failing to do a name look-up, will throw a Traceback, telling us we have a NameError</br>"
   ]
  },
  {
   "cell_type": "code",
   "execution_count": 5,
   "id": "1f0b0e2c",
   "metadata": {},
   "outputs": [
    {
     "ename": "NameError",
     "evalue": "name 'nucleotidestring' is not defined",
     "output_type": "error",
     "traceback": [
      "\u001b[0;31m---------------------------------------------------------------------------\u001b[0m",
      "\u001b[0;31mNameError\u001b[0m                                 Traceback (most recent call last)",
      "Cell \u001b[0;32mIn[5], line 1\u001b[0m\n\u001b[0;32m----> 1\u001b[0m \u001b[43mnucleotidestring\u001b[49m\n",
      "\u001b[0;31mNameError\u001b[0m: name 'nucleotidestring' is not defined"
     ]
    }
   ],
   "source": [
    "nucleotidestring # note that this name is all lowercase"
   ]
  },
  {
   "cell_type": "markdown",
   "id": "c047b889",
   "metadata": {},
   "source": [
    "<br>The Python Traceback is a useful debugging tool. It tells us where the error exists in our code, as well as what kind of error we made; and it contains a brief explanation to help clarify why it threw the Traceback.</br>"
   ]
  },
  {
   "cell_type": "code",
   "execution_count": null,
   "id": "5df9d176",
   "metadata": {},
   "outputs": [],
   "source": [
    "<p> In Python, variables are dynamic (as)"
   ]
  }
 ],
 "metadata": {
  "kernelspec": {
   "display_name": "Python 3 (ipykernel)",
   "language": "python",
   "name": "python3"
  },
  "language_info": {
   "codemirror_mode": {
    "name": "ipython",
    "version": 3
   },
   "file_extension": ".py",
   "mimetype": "text/x-python",
   "name": "python",
   "nbconvert_exporter": "python",
   "pygments_lexer": "ipython3",
   "version": "3.8.10"
  }
 },
 "nbformat": 4,
 "nbformat_minor": 5
}
