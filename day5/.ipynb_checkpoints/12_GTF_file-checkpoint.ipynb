{
 "cells": [
  {
   "cell_type": "code",
   "execution_count": 1,
   "id": "09626d25",
   "metadata": {},
   "outputs": [],
   "source": [
    "import pandas as pd"
   ]
  },
  {
   "cell_type": "code",
   "execution_count": 2,
   "id": "1a0d4ab5",
   "metadata": {},
   "outputs": [],
   "source": [
    "chr12_gtf = pd.read_table('../dataset/genes_ucsc.chr12.mod.gtf')"
   ]
  },
  {
   "cell_type": "code",
   "execution_count": 6,
   "id": "c14923fe",
   "metadata": {},
   "outputs": [
    {
     "data": {
      "text/html": [
       "<div>\n",
       "<style scoped>\n",
       "    .dataframe tbody tr th:only-of-type {\n",
       "        vertical-align: middle;\n",
       "    }\n",
       "\n",
       "    .dataframe tbody tr th {\n",
       "        vertical-align: top;\n",
       "    }\n",
       "\n",
       "    .dataframe thead th {\n",
       "        text-align: right;\n",
       "    }\n",
       "</style>\n",
       "<table border=\"1\" class=\"dataframe\">\n",
       "  <thead>\n",
       "    <tr style=\"text-align: right;\">\n",
       "      <th></th>\n",
       "      <th>seqname</th>\n",
       "      <th>source</th>\n",
       "      <th>feature</th>\n",
       "      <th>start</th>\n",
       "      <th>end</th>\n",
       "      <th>score</th>\n",
       "      <th>strand</th>\n",
       "      <th>frame</th>\n",
       "      <th>attributes</th>\n",
       "    </tr>\n",
       "  </thead>\n",
       "  <tbody>\n",
       "    <tr>\n",
       "      <th>0</th>\n",
       "      <td>chr12_partial</td>\n",
       "      <td>unknown</td>\n",
       "      <td>exon</td>\n",
       "      <td>1</td>\n",
       "      <td>892</td>\n",
       "      <td>.</td>\n",
       "      <td>+</td>\n",
       "      <td>0</td>\n",
       "      <td>gene_id \"ATXN2_partial\"; gene_name \"ATXN2_part...</td>\n",
       "    </tr>\n",
       "    <tr>\n",
       "      <th>1</th>\n",
       "      <td>chr12_partial</td>\n",
       "      <td>unknown</td>\n",
       "      <td>CDS</td>\n",
       "      <td>162</td>\n",
       "      <td>892</td>\n",
       "      <td>.</td>\n",
       "      <td>+</td>\n",
       "      <td>0</td>\n",
       "      <td>gene_id \"ATXN2_partial\"; gene_name \"ATXN2_part...</td>\n",
       "    </tr>\n",
       "    <tr>\n",
       "      <th>2</th>\n",
       "      <td>chr12</td>\n",
       "      <td>unknown</td>\n",
       "      <td>exon</td>\n",
       "      <td>43757</td>\n",
       "      <td>43793</td>\n",
       "      <td>.</td>\n",
       "      <td>+</td>\n",
       "      <td>0</td>\n",
       "      <td>gene_id \"ATXN2\"; gene_name \"ATXN2\"; p_id \"P137...</td>\n",
       "    </tr>\n",
       "    <tr>\n",
       "      <th>3</th>\n",
       "      <td>chr12</td>\n",
       "      <td>unknown</td>\n",
       "      <td>CDS</td>\n",
       "      <td>43757</td>\n",
       "      <td>43793</td>\n",
       "      <td>.</td>\n",
       "      <td>+</td>\n",
       "      <td>0</td>\n",
       "      <td>gene_id \"ATXN2\"; gene_name \"ATXN2\"; p_id \"P137...</td>\n",
       "    </tr>\n",
       "    <tr>\n",
       "      <th>4</th>\n",
       "      <td>chr12</td>\n",
       "      <td>unknown</td>\n",
       "      <td>exon</td>\n",
       "      <td>45459</td>\n",
       "      <td>45518</td>\n",
       "      <td>.</td>\n",
       "      <td>+</td>\n",
       "      <td>0</td>\n",
       "      <td>gene_id \"ATXN2\"; gene_name \"ATXN2\"; p_id \"P137...</td>\n",
       "    </tr>\n",
       "  </tbody>\n",
       "</table>\n",
       "</div>"
      ],
      "text/plain": [
       "         seqname   source feature  start    end score strand frame  \\\n",
       "0  chr12_partial  unknown    exon      1    892     .      +     0   \n",
       "1  chr12_partial  unknown     CDS    162    892     .      +     0   \n",
       "2          chr12  unknown    exon  43757  43793     .      +     0   \n",
       "3          chr12  unknown     CDS  43757  43793     .      +     0   \n",
       "4          chr12  unknown    exon  45459  45518     .      +     0   \n",
       "\n",
       "                                          attributes  \n",
       "0  gene_id \"ATXN2_partial\"; gene_name \"ATXN2_part...  \n",
       "1  gene_id \"ATXN2_partial\"; gene_name \"ATXN2_part...  \n",
       "2  gene_id \"ATXN2\"; gene_name \"ATXN2\"; p_id \"P137...  \n",
       "3  gene_id \"ATXN2\"; gene_name \"ATXN2\"; p_id \"P137...  \n",
       "4  gene_id \"ATXN2\"; gene_name \"ATXN2\"; p_id \"P137...  "
      ]
     },
     "execution_count": 6,
     "metadata": {},
     "output_type": "execute_result"
    }
   ],
   "source": [
    "chr12_gtf.head()"
   ]
  },
  {
   "cell_type": "code",
   "execution_count": 5,
   "id": "8638c5b4",
   "metadata": {},
   "outputs": [],
   "source": [
    "# let's re-enter the dataset, this time setting our column names\n",
    "chr12_gtf = pd.read_table('../dataset/genes_ucsc.chr12.mod.gtf', names=['seqname', 'source', 'feature', 'start', 'end', 'score', 'strand', 'frame', 'attributes'])"
   ]
  },
  {
   "cell_type": "code",
   "execution_count": null,
   "id": "00f63cb3",
   "metadata": {},
   "outputs": [],
   "source": [
    "# get the first 4 records\n",
    "chr12_gtf.head(4)"
   ]
  },
  {
   "cell_type": "code",
   "execution_count": 7,
   "id": "91991396",
   "metadata": {},
   "outputs": [
    {
     "data": {
      "text/plain": [
       "(47113, 9)"
      ]
     },
     "execution_count": 7,
     "metadata": {},
     "output_type": "execute_result"
    }
   ],
   "source": [
    "# get the (row, col) counts of the dataframe\n",
    "chr12_gtf.shape"
   ]
  },
  {
   "cell_type": "code",
   "execution_count": 9,
   "id": "7d8f951b",
   "metadata": {},
   "outputs": [
    {
     "data": {
      "text/plain": [
       "seqname       object\n",
       "source        object\n",
       "feature       object\n",
       "start          int64\n",
       "end            int64\n",
       "score         object\n",
       "strand        object\n",
       "frame         object\n",
       "attributes    object\n",
       "dtype: object"
      ]
     },
     "execution_count": 9,
     "metadata": {},
     "output_type": "execute_result"
    }
   ],
   "source": [
    "# get the datatypes of the data by column\n",
    "chr12_gtf.dtypes"
   ]
  },
  {
   "cell_type": "code",
   "execution_count": 10,
   "id": "25df69e1",
   "metadata": {},
   "outputs": [
    {
     "name": "stdout",
     "output_type": "stream",
     "text": [
      "0    exon\n",
      "1     CDS\n",
      "2    exon\n",
      "3     CDS\n",
      "4    exon\n",
      "5     CDS\n",
      "6    exon\n",
      "7     CDS\n",
      "8    exon\n",
      "9     CDS\n",
      "Name: feature, dtype: object\n"
     ]
    }
   ],
   "source": [
    "# look at the top 10 entries in the feature column of the GTF file\n",
    "print(chr12_gtf['feature'].head(10))"
   ]
  },
  {
   "cell_type": "code",
   "execution_count": 11,
   "id": "66c31c07",
   "metadata": {},
   "outputs": [
    {
     "name": "stdout",
     "output_type": "stream",
     "text": [
      "exon           23203\n",
      "CDS            20284\n",
      "start_codon     1818\n",
      "stop_codon      1808\n",
      "Name: feature, dtype: int64\n"
     ]
    }
   ],
   "source": [
    "# how many entries are there for each kind of \"feature\" in this GTF file?\n",
    "print(chr12_gtf['feature'].value_counts())"
   ]
  },
  {
   "cell_type": "code",
   "execution_count": 13,
   "id": "16289ace",
   "metadata": {},
   "outputs": [],
   "source": [
    "# find the length for each string in the gtf file, append the result to the dataframe as a new column.\n",
    "chr12_gtf['length'] = chr12_gtf['end'] - chr12_gtf['start']"
   ]
  },
  {
   "cell_type": "code",
   "execution_count": 14,
   "id": "55d4d954",
   "metadata": {},
   "outputs": [
    {
     "name": "stdout",
     "output_type": "stream",
     "text": [
      "         seqname   source feature  start    end score strand frame  \\\n",
      "0  chr12_partial  unknown    exon      1    892     .      +     0   \n",
      "1  chr12_partial  unknown     CDS    162    892     .      +     0   \n",
      "2          chr12  unknown    exon  43757  43793     .      +     0   \n",
      "3          chr12  unknown     CDS  43757  43793     .      +     0   \n",
      "4          chr12  unknown    exon  45459  45518     .      +     0   \n",
      "\n",
      "                                          attributes  length  \n",
      "0  gene_id \"ATXN2_partial\"; gene_name \"ATXN2_part...     891  \n",
      "1  gene_id \"ATXN2_partial\"; gene_name \"ATXN2_part...     730  \n",
      "2  gene_id \"ATXN2\"; gene_name \"ATXN2\"; p_id \"P137...      36  \n",
      "3  gene_id \"ATXN2\"; gene_name \"ATXN2\"; p_id \"P137...      36  \n",
      "4  gene_id \"ATXN2\"; gene_name \"ATXN2\"; p_id \"P137...      59  \n"
     ]
    }
   ],
   "source": [
    "# print the first 5 records\n",
    "print(chr12_gtf.head())"
   ]
  },
  {
   "cell_type": "code",
   "execution_count": 19,
   "id": "ee4b9db0",
   "metadata": {},
   "outputs": [
    {
     "name": "stdout",
     "output_type": "stream",
     "text": [
      "             seqname      start        end  \\\n",
      "0      chr12_partial          1        892   \n",
      "2              chr12      43757      43793   \n",
      "4              chr12      45459      45518   \n",
      "6              chr12      46699      46770   \n",
      "8              chr12      47246      47396   \n",
      "...              ...        ...        ...   \n",
      "47104          chr12  133803522  133803738   \n",
      "47106          chr12  133804410  133804533   \n",
      "47108          chr12  133808103  133808230   \n",
      "47110          chr12  133810694  133810964   \n",
      "47112          chr12  133812393  133812422   \n",
      "\n",
      "                                              attributes  \n",
      "0      gene_id \"ATXN2_partial\"; gene_name \"ATXN2_part...  \n",
      "2      gene_id \"ATXN2\"; gene_name \"ATXN2\"; p_id \"P137...  \n",
      "4      gene_id \"ATXN2\"; gene_name \"ATXN2\"; p_id \"P137...  \n",
      "6      gene_id \"ATXN2\"; gene_name \"ATXN2\"; p_id \"P137...  \n",
      "8      gene_id \"ATXN2\"; gene_name \"ATXN2\"; p_id \"P137...  \n",
      "...                                                  ...  \n",
      "47104  gene_id \"ANHX\"; gene_name \"ANHX\"; p_id \"P15510...  \n",
      "47106  gene_id \"ANHX\"; gene_name \"ANHX\"; p_id \"P15510...  \n",
      "47108  gene_id \"ANHX\"; gene_name \"ANHX\"; p_id \"P15510...  \n",
      "47110  gene_id \"ANHX\"; gene_name \"ANHX\"; p_id \"P15510...  \n",
      "47112  gene_id \"ANHX\"; gene_name \"ANHX\"; p_id \"P15510...  \n",
      "\n",
      "[23203 rows x 4 columns]\n"
     ]
    }
   ],
   "source": [
    "# get all the exons in the dataframe\n",
    "exons = chr12_gtf['feature'] == 'exon' # returns a 1D series of boolean values (True or False)\n",
    "chr12_gtfsmall = chr12_gtf[exons] # if True, record gets written into chr12_gtfsmall\n",
    "# for the exons, pull out the following columns: seqname, start, end and attributes.\n",
    "print(chr12_gtfsmall[['seqname','start','end','attributes']])"
   ]
  },
  {
   "cell_type": "code",
   "execution_count": 20,
   "id": "f07c13e0",
   "metadata": {},
   "outputs": [],
   "source": [
    "# find all the rows where the attributes column contains ATXN2 as a gene name\n",
    "# AND the row feature == CDS\n",
    "atxn2_cds = (chr12_gtf['attributes'].str.contains('ATXN2')) & (chr12_gtf['feature']=='CDS')"
   ]
  },
  {
   "cell_type": "code",
   "execution_count": 21,
   "id": "25a07e43",
   "metadata": {},
   "outputs": [
    {
     "name": "stdout",
     "output_type": "stream",
     "text": [
      "          seqname   source feature   start     end score strand frame  \\\n",
      "1   chr12_partial  unknown     CDS     162     892     .      +     0   \n",
      "3           chr12  unknown     CDS   43757   43793     .      +     0   \n",
      "5           chr12  unknown     CDS   45459   45518     .      +     0   \n",
      "7           chr12  unknown     CDS   46699   46770     .      +     0   \n",
      "9           chr12  unknown     CDS   47246   47396     .      +     0   \n",
      "11          chr12  unknown     CDS   74360   74484     .      +     0   \n",
      "13          chr12  unknown     CDS   78703   78794     .      +     0   \n",
      "15          chr12  unknown     CDS   79600   79797     .      +     0   \n",
      "17          chr12  unknown     CDS   81249   81427     .      +     0   \n",
      "19          chr12  unknown     CDS   83313   83522     .      +     0   \n",
      "21          chr12  unknown     CDS   86137   86319     .      +     0   \n",
      "23          chr12  unknown     CDS   89094   89291     .      +     0   \n",
      "25          chr12  unknown     CDS   89678   89785     .      +     0   \n",
      "27          chr12  unknown     CDS   90057   90127     .      +     0   \n",
      "29          chr12  unknown     CDS  110896  111200     .      +     0   \n",
      "31          chr12  unknown     CDS  112852  112915     .      +     0   \n",
      "33          chr12  unknown     CDS  113811  113963     .      +     0   \n",
      "35          chr12  unknown     CDS  114345  114405     .      +     0   \n",
      "37          chr12  unknown     CDS  128934  129118     .      +     0   \n",
      "39          chr12  unknown     CDS  129436  129568     .      +     0   \n",
      "41          chr12  unknown     CDS  134961  135014     .      +     0   \n",
      "43          chr12  unknown     CDS  142317  142462     .      +     0   \n",
      "45          chr12  unknown     CDS  143420  143647     .      +     0   \n",
      "47          chr12  unknown     CDS  145831  145999     .      +     0   \n",
      "48          chr12  unknown     CDS  146836  146864     .      +     0   \n",
      "\n",
      "                                           attributes  length  \n",
      "1   gene_id \"ATXN2_partial\"; gene_name \"ATXN2_part...     730  \n",
      "3   gene_id \"ATXN2\"; gene_name \"ATXN2\"; p_id \"P137...      36  \n",
      "5   gene_id \"ATXN2\"; gene_name \"ATXN2\"; p_id \"P137...      59  \n",
      "7   gene_id \"ATXN2\"; gene_name \"ATXN2\"; p_id \"P137...      71  \n",
      "9   gene_id \"ATXN2\"; gene_name \"ATXN2\"; p_id \"P137...     150  \n",
      "11  gene_id \"ATXN2\"; gene_name \"ATXN2\"; p_id \"P137...     124  \n",
      "13  gene_id \"ATXN2\"; gene_name \"ATXN2\"; p_id \"P137...      91  \n",
      "15  gene_id \"ATXN2\"; gene_name \"ATXN2\"; p_id \"P137...     197  \n",
      "17  gene_id \"ATXN2\"; gene_name \"ATXN2\"; p_id \"P137...     178  \n",
      "19  gene_id \"ATXN2\"; gene_name \"ATXN2\"; p_id \"P137...     209  \n",
      "21  gene_id \"ATXN2\"; gene_name \"ATXN2\"; p_id \"P137...     182  \n",
      "23  gene_id \"ATXN2\"; gene_name \"ATXN2\"; p_id \"P137...     197  \n",
      "25  gene_id \"ATXN2\"; gene_name \"ATXN2\"; p_id \"P137...     107  \n",
      "27  gene_id \"ATXN2\"; gene_name \"ATXN2\"; p_id \"P137...      70  \n",
      "29  gene_id \"ATXN2\"; gene_name \"ATXN2\"; p_id \"P137...     304  \n",
      "31  gene_id \"ATXN2\"; gene_name \"ATXN2\"; p_id \"P137...      63  \n",
      "33  gene_id \"ATXN2\"; gene_name \"ATXN2\"; p_id \"P137...     152  \n",
      "35  gene_id \"ATXN2\"; gene_name \"ATXN2\"; p_id \"P137...      60  \n",
      "37  gene_id \"ATXN2\"; gene_name \"ATXN2\"; p_id \"P137...     184  \n",
      "39  gene_id \"ATXN2\"; gene_name \"ATXN2\"; p_id \"P137...     132  \n",
      "41  gene_id \"ATXN2\"; gene_name \"ATXN2\"; p_id \"P137...      53  \n",
      "43  gene_id \"ATXN2\"; gene_name \"ATXN2\"; p_id \"P137...     145  \n",
      "45  gene_id \"ATXN2\"; gene_name \"ATXN2\"; p_id \"P137...     227  \n",
      "47  gene_id \"ATXN2\"; gene_name \"ATXN2\"; p_id \"P137...     168  \n",
      "48  gene_id \"ATXN2\"; gene_name \"ATXN2\"; p_id \"P137...      28  \n"
     ]
    }
   ],
   "source": [
    "print(chr12_gtf[atxn2_cds].sort_values('start')) # sort the resultset by start values"
   ]
  },
  {
   "cell_type": "code",
   "execution_count": null,
   "id": "cac31a05",
   "metadata": {},
   "outputs": [],
   "source": []
  }
 ],
 "metadata": {
  "kernelspec": {
   "display_name": "Python 3 (ipykernel)",
   "language": "python",
   "name": "python3"
  },
  "language_info": {
   "codemirror_mode": {
    "name": "ipython",
    "version": 3
   },
   "file_extension": ".py",
   "mimetype": "text/x-python",
   "name": "python",
   "nbconvert_exporter": "python",
   "pygments_lexer": "ipython3",
   "version": "3.8.10"
  }
 },
 "nbformat": 4,
 "nbformat_minor": 5
}
