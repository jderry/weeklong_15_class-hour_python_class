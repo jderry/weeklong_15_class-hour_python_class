{
 "cells": [
  {
   "cell_type": "code",
   "execution_count": 1,
   "id": "bade413d",
   "metadata": {},
   "outputs": [],
   "source": [
    "# Import the pandas package, calling it pd is the community standard\n",
    "import pandas as pd\n",
    "import numpy as np"
   ]
  },
  {
   "cell_type": "code",
   "execution_count": 2,
   "id": "27323a9d",
   "metadata": {},
   "outputs": [
    {
     "name": "stdout",
     "output_type": "stream",
     "text": [
      "{'name': ['Anji', 'ET', 'Jocko', 'Blanca', 'Meika'], 'gender': ['Female', 'Male', 'Male', 'Female', 'Female'], 'weight': [2000, 3400, 3200, 2500, 3000], 'vocalization': ['Lound Grunt', 'piErCiNG WHistle', 'soft grunt', 'chortle', 'Chortle']}\n"
     ]
    }
   ],
   "source": [
    "# More than one way to create a dataframe\n",
    "# Here we pass in a dictionary of lists: the keys are the column names, the values are lists of the actual data\n",
    "walrus_data = {'name': ['Anji', 'ET', 'Jocko', 'Blanca', 'Meika'],\n",
    "'gender':['Female','Male','Male', 'Female','Female'],\n",
    "'weight': [2000,3400,3200,2500,3000],\n",
    "'vocalization': ['Lound Grunt','piErCiNG WHistle','soft grunt','chortle','Chortle']}\n",
    "print(walrus_data)"
   ]
  },
  {
   "cell_type": "code",
   "execution_count": 4,
   "id": "b5e4421c",
   "metadata": {},
   "outputs": [
    {
     "name": "stdout",
     "output_type": "stream",
     "text": [
      "     name  gender  weight      vocalization\n",
      "0    Anji  Female    2000       Lound Grunt\n",
      "1      ET    Male    3400  piErCiNG WHistle\n",
      "2   Jocko    Male    3200        soft grunt\n",
      "3  Blanca  Female    2500           chortle\n",
      "4   Meika  Female    3000           Chortle\n"
     ]
    }
   ],
   "source": [
    "walruses=pd.DataFrame(walrus_data)\n",
    "print(walruses)"
   ]
  },
  {
   "cell_type": "code",
   "execution_count": 5,
   "id": "c9a07a5c",
   "metadata": {},
   "outputs": [
    {
     "name": "stdout",
     "output_type": "stream",
     "text": [
      "(5, 4)\n"
     ]
    }
   ],
   "source": [
    "#Let's explore the dataframe using attributes and methods\n",
    "#print(walruses.head()) #pandas method\n",
    "#print(type(walruses)) #buit-in python function\n",
    "print(walruses.shape) #attribute"
   ]
  },
  {
   "cell_type": "code",
   "execution_count": 6,
   "id": "74a71a06",
   "metadata": {},
   "outputs": [
    {
     "name": "stdout",
     "output_type": "stream",
     "text": [
      "(5, 4)\n"
     ]
    }
   ],
   "source": [
    "# You can chain Python methods and attributes together\n",
    "# After each, you must know what the collection or datatype is, then chain a method or attribute\n",
    "# of the output collection or datatype\n",
    "print(walruses.head().shape)"
   ]
  },
  {
   "cell_type": "code",
   "execution_count": 10,
   "id": "462e7fd6",
   "metadata": {},
   "outputs": [],
   "source": [
    "# pandas dataframes have their own methods and attributes, included to make your life easier\n",
    "# when working with datasets brought in as dataframes.\n",
    "walruses = walruses.sort_values('weight')\n",
    "\n",
    "''' note that the investigator has used an assignment statement to assign the dataframe ---\n",
    "    now sorted in ascending values of weight --- to the variable name. if you simply wrote:\n",
    "    walruses.sort_values('weight')\n",
    "    then by design, a copy of the dataframe would be written out to STDOUT.\n",
    "    python programmers often use assignment statements to update the value of a variable.\n",
    "'''"
   ]
  },
  {
   "cell_type": "code",
   "execution_count": 11,
   "id": "a514fc82",
   "metadata": {},
   "outputs": [
    {
     "name": "stdout",
     "output_type": "stream",
     "text": [
      "     name  gender  weight      vocalization\n",
      "0    Anji  Female    2000       Lound Grunt\n",
      "3  Blanca  Female    2500           chortle\n",
      "4   Meika  Female    3000           Chortle\n",
      "2   Jocko    Male    3200        soft grunt\n",
      "1      ET    Male    3400  piErCiNG WHistle\n"
     ]
    }
   ],
   "source": [
    "print(walruses)"
   ]
  },
  {
   "cell_type": "code",
   "execution_count": 12,
   "id": "d3e10018",
   "metadata": {},
   "outputs": [],
   "source": [
    "walruses.sort_values('weight')"
   ]
  },
  {
   "cell_type": "code",
   "execution_count": 14,
   "id": "ff7cdac1",
   "metadata": {},
   "outputs": [
    {
     "name": "stdout",
     "output_type": "stream",
     "text": [
      "     name  gender  weight      vocalization\n",
      "1      ET    Male    3400  piErCiNG WHistle\n",
      "2   Jocko    Male    3200        soft grunt\n",
      "4   Meika  Female    3000           Chortle\n",
      "3  Blanca  Female    2500           chortle\n",
      "0    Anji  Female    2000       Lound Grunt\n"
     ]
    }
   ],
   "source": [
    "''' however, it is important to note that many pandas methods allow you to update a dataframe inplace.\n",
    "    the named argument keyword in these methods is 'inplace', and its value by default is False.\n",
    "    We can sort the walruses dataframe by setting inplace=True .'''\n",
    "walruses.sort_values('weight', ascending=False, inplace=True)\n",
    "print(walruses)"
   ]
  },
  {
   "cell_type": "code",
   "execution_count": 17,
   "id": "dea5d406",
   "metadata": {},
   "outputs": [
    {
     "data": {
      "text/plain": [
       "3"
      ]
     },
     "execution_count": 17,
     "metadata": {},
     "output_type": "execute_result"
    }
   ],
   "source": []
  },
  {
   "cell_type": "code",
   "execution_count": null,
   "id": "734f9039",
   "metadata": {},
   "outputs": [],
   "source": []
  }
 ],
 "metadata": {
  "kernelspec": {
   "display_name": "Python 3 (ipykernel)",
   "language": "python",
   "name": "python3"
  },
  "language_info": {
   "codemirror_mode": {
    "name": "ipython",
    "version": 3
   },
   "file_extension": ".py",
   "mimetype": "text/x-python",
   "name": "python",
   "nbconvert_exporter": "python",
   "pygments_lexer": "ipython3",
   "version": "3.8.10"
  }
 },
 "nbformat": 4,
 "nbformat_minor": 5
}
