{
 "cells": [
  {
   "cell_type": "markdown",
   "metadata": {},
   "source": [
    "# Object-Oriented Programming: Data Encapsulation, Methods & Attributes, and Operator Overloading"
   ]
  },
  {
   "cell_type": "markdown",
   "metadata": {},
   "source": [
    "### at a minimum, an object is made up of the attributes to describe the data it encapsulates, as well as the methods to act up on the data.  we have been using objects in python since day one. the python string, list, and dictionary are all objects, as are ints and floats."
   ]
  },
  {
   "cell_type": "code",
   "execution_count": 1,
   "metadata": {},
   "outputs": [
    {
     "data": {
      "text/plain": [
       "True"
      ]
     },
     "execution_count": 1,
     "metadata": {},
     "output_type": "execute_result"
    }
   ],
   "source": [
    "''' all objects in python are derived from object\n",
    "'''\n",
    "isinstance(dict, object) # object is the most general object in python, the ur-object if you will."
   ]
  },
  {
   "cell_type": "markdown",
   "metadata": {},
   "source": [
    "### just as we use the python keyword def to define a function, we use the keyword class to define an object."
   ]
  },
  {
   "cell_type": "code",
   "execution_count": 2,
   "metadata": {},
   "outputs": [],
   "source": [
    "''' the most minimal definition of an object should include the __init__ method, which initializes each object we make from a class\n",
    "'''\n",
    "class nucleoStr(object): # here we create a class of objects called 'nucleoStr'. as we create each nucleoStr, we pass it an object\n",
    "    # a class needs at least an __init__ method\n",
    "    # here, we require a string be passed to create a nucleoStr object.\n",
    "    # if one isn't passed, we will supply a default\n",
    "    def __init__(self, nString='gattaca'): # 'self' is just a variable name\n",
    "        self.nString = nString\n",
    "        return None # the __init__ method returns the None type"
   ]
  },
  {
   "cell_type": "code",
   "execution_count": 3,
   "metadata": {},
   "outputs": [],
   "source": [
    "testObj = nucleoStr()"
   ]
  },
  {
   "cell_type": "code",
   "execution_count": 4,
   "metadata": {},
   "outputs": [
    {
     "data": {
      "text/plain": [
       "['__class__',\n",
       " '__delattr__',\n",
       " '__dict__',\n",
       " '__dir__',\n",
       " '__doc__',\n",
       " '__eq__',\n",
       " '__format__',\n",
       " '__ge__',\n",
       " '__getattribute__',\n",
       " '__getstate__',\n",
       " '__gt__',\n",
       " '__hash__',\n",
       " '__init__',\n",
       " '__init_subclass__',\n",
       " '__le__',\n",
       " '__lt__',\n",
       " '__module__',\n",
       " '__ne__',\n",
       " '__new__',\n",
       " '__reduce__',\n",
       " '__reduce_ex__',\n",
       " '__repr__',\n",
       " '__setattr__',\n",
       " '__sizeof__',\n",
       " '__str__',\n",
       " '__subclasshook__',\n",
       " '__weakref__',\n",
       " 'nString']"
      ]
     },
     "execution_count": 4,
     "metadata": {},
     "output_type": "execute_result"
    }
   ],
   "source": [
    "''' what does a minimal nucleoStr object have?\n",
    "'''\n",
    "dir(testObj)"
   ]
  },
  {
   "cell_type": "code",
   "execution_count": 5,
   "metadata": {},
   "outputs": [
    {
     "data": {
      "text/plain": [
       "True"
      ]
     },
     "execution_count": 5,
     "metadata": {},
     "output_type": "execute_result"
    }
   ],
   "source": [
    "''' is a nucleoStr object a python object?\n",
    "'''\n",
    "isinstance(testObj, object)"
   ]
  },
  {
   "cell_type": "code",
   "execution_count": 6,
   "metadata": {},
   "outputs": [
    {
     "name": "stdout",
     "output_type": "stream",
     "text": [
      "Variable    Type         Data/Info\n",
      "----------------------------------\n",
      "nucleoStr   type         <class '__main__.nucleoStr'>\n",
      "testObj     nucleoStr    <__main__.nucleoStr object at 0x7fca4465e710>\n"
     ]
    }
   ],
   "source": [
    "%whos"
   ]
  },
  {
   "cell_type": "code",
   "execution_count": 7,
   "metadata": {},
   "outputs": [],
   "source": [
    "''' the most minimal definition of an object should also include methods \n",
    "    that specify how it should be represented and printed\n",
    "'''\n",
    "class nucleoStr(object):\n",
    "    # a class needs at least an init method\n",
    "    def __init__(self, nString='gattaca'):\n",
    "        self.nString = nString\n",
    "        return None\n",
    "    # at a minimum, we should include methods for printing and representation\n",
    "    def __repr__(self): # this method returns what you see when you type the object's name on the command line and hit [return]\n",
    "        return self.nString\n",
    "    def __str__(self): # this method returns what gets printed with the print() method\n",
    "        return self.nString"
   ]
  },
  {
   "cell_type": "code",
   "execution_count": 8,
   "metadata": {},
   "outputs": [],
   "source": [
    "testObj = nucleoStr()"
   ]
  },
  {
   "cell_type": "code",
   "execution_count": 9,
   "metadata": {},
   "outputs": [
    {
     "name": "stdout",
     "output_type": "stream",
     "text": [
      "gattaca\n"
     ]
    }
   ],
   "source": [
    "print(testObj)"
   ]
  },
  {
   "cell_type": "code",
   "execution_count": 10,
   "metadata": {},
   "outputs": [
    {
     "data": {
      "text/plain": [
       "gattaca"
      ]
     },
     "execution_count": 10,
     "metadata": {},
     "output_type": "execute_result"
    }
   ],
   "source": [
    "testObj"
   ]
  },
  {
   "cell_type": "code",
   "execution_count": 11,
   "metadata": {},
   "outputs": [
    {
     "data": {
      "text/plain": [
       "['__class__',\n",
       " '__delattr__',\n",
       " '__dict__',\n",
       " '__dir__',\n",
       " '__doc__',\n",
       " '__eq__',\n",
       " '__format__',\n",
       " '__ge__',\n",
       " '__getattribute__',\n",
       " '__getstate__',\n",
       " '__gt__',\n",
       " '__hash__',\n",
       " '__init__',\n",
       " '__init_subclass__',\n",
       " '__le__',\n",
       " '__lt__',\n",
       " '__module__',\n",
       " '__ne__',\n",
       " '__new__',\n",
       " '__reduce__',\n",
       " '__reduce_ex__',\n",
       " '__repr__',\n",
       " '__setattr__',\n",
       " '__sizeof__',\n",
       " '__str__',\n",
       " '__subclasshook__',\n",
       " '__weakref__',\n",
       " 'nString']"
      ]
     },
     "execution_count": 11,
     "metadata": {},
     "output_type": "execute_result"
    }
   ],
   "source": [
    "dir(testObj)"
   ]
  },
  {
   "cell_type": "code",
   "execution_count": 12,
   "metadata": {},
   "outputs": [
    {
     "data": {
      "text/plain": [
       "<bound method nucleoStr.__str__ of gattaca>"
      ]
     },
     "execution_count": 12,
     "metadata": {},
     "output_type": "execute_result"
    }
   ],
   "source": [
    "testObj.__str__"
   ]
  },
  {
   "cell_type": "code",
   "execution_count": 13,
   "metadata": {},
   "outputs": [],
   "source": [
    "''' our __init__ method can test input to ensure correctness,\n",
    "    but we are responsible for writing the filter\n",
    "'''\n",
    "\n",
    "class nucleoStr(object):\n",
    "    # a class needs at least an init method\n",
    "    def __init__(self, nString='gattaca'):\n",
    "        # garbage filter ensures that string is nucleotide string\n",
    "        # first, assert that the object being passed in is a string\n",
    "        assert isinstance(nString, str), 'only a clean nucleotide string can become nucleoStr!'\n",
    "        # second, test that each char in the string is a nucleotide\n",
    "        isCleanStr = True # if isCleanStr stays True, the string is clean\n",
    "        for nucleotide in nString:\n",
    "            if nucleotide not in 'atcgATCG':\n",
    "                isCleanStr = False # if a letter is not a nucleotide, flip the bool to False\n",
    "        if isCleanStr:\n",
    "            self.nString = nString\n",
    "        else:\n",
    "            raise Exception('String is dirty!')\n",
    "        return None\n",
    "    # at a minimum, we should include methods for printing and representation\n",
    "    def __repr__(self):\n",
    "        return self.nString\n",
    "    def __str__(self):\n",
    "        return self.nString"
   ]
  },
  {
   "cell_type": "code",
   "execution_count": 14,
   "metadata": {},
   "outputs": [],
   "source": [
    "''' now let's add a method\n",
    "'''\n",
    "class nucleoStr(object):\n",
    "    # a class needs at least an init method\n",
    "    def __init__(self, nString='gattaca'):\n",
    "        # garbage filter ensures that string is nucleotide string\n",
    "        # first, assert that the object being passed in is a string\n",
    "        assert isinstance(nString, str), 'only a clean nucleotide string can become nucleoStr!'\n",
    "        # second, test that each char in the string is a nucleotide\n",
    "        isCleanStr = True # if isCleanStr stays True, the string is clean\n",
    "        for nucleotide in nString:\n",
    "            if nucleotide not in 'atcgATCG':\n",
    "                isCleanStr = False # if a letter is not a nucleotide, flip the bool to False\n",
    "        if isCleanStr:\n",
    "            self.nString = nString\n",
    "        else:\n",
    "            raise Exception('String is dirty!')\n",
    "        return None\n",
    "    # at a minimum, we should include methods for printing and representation\n",
    "    def __repr__(self):\n",
    "        return self.nString\n",
    "    def __str__(self):\n",
    "        return self.nString\n",
    "    # now let's add a method specific to processing nucleotide strings\n",
    "    def revCompl(self):\n",
    "        complDict = {'a':'t', 'c':'g', 'g':'c', 't':'a', 'A':'T', 'C':'G', 'G':'C', 'T':'A'}\n",
    "        outStr = ''\n",
    "        for nucleotide in self.nString:\n",
    "            outStr = complDict[nucleotide] + outStr\n",
    "        return outStr"
   ]
  },
  {
   "cell_type": "code",
   "execution_count": 17,
   "metadata": {},
   "outputs": [],
   "source": [
    "testStr = nucleoStr('gattaca')"
   ]
  },
  {
   "cell_type": "code",
   "execution_count": 18,
   "metadata": {},
   "outputs": [
    {
     "data": {
      "text/plain": [
       "'tgtaatc'"
      ]
     },
     "execution_count": 18,
     "metadata": {},
     "output_type": "execute_result"
    }
   ],
   "source": [
    "testStr.revCompl()"
   ]
  },
  {
   "cell_type": "code",
   "execution_count": 19,
   "metadata": {},
   "outputs": [],
   "source": [
    "# this class is not finished until it has been properly documented!\n",
    "''' and we end our introduction to object oriented programming by overloading the '+' operator for our objects\n",
    "'''\n",
    "\n",
    "class nucleoStr(object):\n",
    "    # a class needs at least an init method\n",
    "    def __init__(self, nString='gattaca'):\n",
    "        # garbage filter ensures that string is nucleotide string\n",
    "        # first, assert that the object being passed in is a string\n",
    "        assert isinstance(nString, str), 'only a clean nucleotide string can become nucleoStr!'\n",
    "        # second, test that each char in the string is a nucleotide\n",
    "        isCleanStr = True # if isCleanStr stays True, the string is clean\n",
    "        for nucleotide in nString:\n",
    "            if nucleotide not in 'atcgATCG':\n",
    "                isCleanStr = False # if a letter is not a nucleotide, flip the bool to False\n",
    "        if isCleanStr:\n",
    "            self.nString = nString\n",
    "        else:\n",
    "            raise Exception('String is dirty!')\n",
    "        return None\n",
    "    # at a minimum, we should include methods for printing and representation\n",
    "    def __repr__(self):\n",
    "        return self.nString\n",
    "    def __str__(self):\n",
    "        return self.nString\n",
    "    # now let's add a method specific to processing nucleotide strings\n",
    "    def revCompl(self):\n",
    "        complDict = {'a':'t', 'c':'g', 'g':'c', 't':'a'}\n",
    "        outStr = ''\n",
    "        for nucleotide in self.nString:\n",
    "            outStr = complDict[nucleotide] + outStr\n",
    "        return outStr\n",
    "    # now let's define what happens when you add one nucleoStr to another\n",
    "    def __add__(self, other):\n",
    "        if (isinstance(other, nucleoStr)):\n",
    "            return self.nString + other.nString"
   ]
  },
  {
   "cell_type": "code",
   "execution_count": 20,
   "metadata": {},
   "outputs": [],
   "source": [
    "testStr = nucleoStr('gattaca')\n",
    "testStr2 = nucleoStr('gattaca')"
   ]
  },
  {
   "cell_type": "code",
   "execution_count": 21,
   "metadata": {},
   "outputs": [
    {
     "data": {
      "text/plain": [
       "'gattacagattaca'"
      ]
     },
     "execution_count": 21,
     "metadata": {},
     "output_type": "execute_result"
    }
   ],
   "source": [
    "testStr + testStr2"
   ]
  },
  {
   "cell_type": "code",
   "execution_count": 27,
   "metadata": {},
   "outputs": [
    {
     "data": {
      "text/plain": [
       "['__class__',\n",
       " '__delattr__',\n",
       " '__dict__',\n",
       " '__dir__',\n",
       " '__doc__',\n",
       " '__eq__',\n",
       " '__format__',\n",
       " '__ge__',\n",
       " '__getattribute__',\n",
       " '__gt__',\n",
       " '__hash__',\n",
       " '__init__',\n",
       " '__init_subclass__',\n",
       " '__le__',\n",
       " '__lt__',\n",
       " '__module__',\n",
       " '__ne__',\n",
       " '__new__',\n",
       " '__reduce__',\n",
       " '__reduce_ex__',\n",
       " '__repr__',\n",
       " '__setattr__',\n",
       " '__sizeof__',\n",
       " '__str__',\n",
       " '__subclasshook__',\n",
       " '__weakref__',\n",
       " 'nString',\n",
       " 'revCompl']"
      ]
     },
     "execution_count": 27,
     "metadata": {},
     "output_type": "execute_result"
    }
   ],
   "source": [
    "dir(testStr)"
   ]
  },
  {
   "cell_type": "code",
   "execution_count": null,
   "metadata": {},
   "outputs": [],
   "source": []
  }
 ],
 "metadata": {
  "kernelspec": {
   "display_name": "Python 3 (ipykernel)",
   "language": "python",
   "name": "python3"
  },
  "language_info": {
   "codemirror_mode": {
    "name": "ipython",
    "version": 3
   },
   "file_extension": ".py",
   "mimetype": "text/x-python",
   "name": "python",
   "nbconvert_exporter": "python",
   "pygments_lexer": "ipython3",
   "version": "3.11.3"
  }
 },
 "nbformat": 4,
 "nbformat_minor": 1
}
