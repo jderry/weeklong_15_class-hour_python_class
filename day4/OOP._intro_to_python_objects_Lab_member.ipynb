{
 "cells": [
  {
   "cell_type": "code",
   "execution_count": 7,
   "id": "3dc7ce55",
   "metadata": {},
   "outputs": [],
   "source": [
    "# let's make a class that creates objects of lab members\n",
    "class Lab_member:\n",
    "    def __init__(self, first, last, email):\n",
    "        self.first = first\n",
    "        self.last = last\n",
    "        self.email = email\n",
    "        # when we instantiate any object from this class,\n",
    "        # these will be its base attributes\n",
    "    # let's add a method that returns the lab member's\n",
    "    # full name\n",
    "    def fullname(self):\n",
    "        return f'{self.first} {self.last}'"
   ]
  },
  {
   "cell_type": "code",
   "execution_count": 8,
   "id": "cbd21683",
   "metadata": {},
   "outputs": [],
   "source": [
    "emily = Lab_member('emily', 'dickinson', 'poet@utexas.edu')"
   ]
  },
  {
   "cell_type": "code",
   "execution_count": 9,
   "id": "745fe839",
   "metadata": {},
   "outputs": [
    {
     "data": {
      "text/plain": [
       "'emily dickinson'"
      ]
     },
     "execution_count": 9,
     "metadata": {},
     "output_type": "execute_result"
    }
   ],
   "source": [
    "emily.fullname()"
   ]
  },
  {
   "cell_type": "code",
   "execution_count": 10,
   "id": "9ad7a38a",
   "metadata": {},
   "outputs": [],
   "source": [
    "# now to demonstrate what happens when we leave out the variable 'self' ---\n",
    "class Lab_member:\n",
    "    def __init__(self, first, last, email):\n",
    "        self.first = first\n",
    "        self.last = last\n",
    "        self.email = email\n",
    "        # when we instantiate any object from this class,\n",
    "        # these will be its base attributes\n",
    "    # let's add a method that returns the lab member's\n",
    "    # full name\n",
    "    def fullname():\n",
    "        # here ^^^^^ we've left out the variable 'self'\n",
    "        return f'{self.first} {self.last}'\n",
    "# the code runs; however..."
   ]
  },
  {
   "cell_type": "code",
   "execution_count": 11,
   "id": "5c2465e5",
   "metadata": {},
   "outputs": [],
   "source": [
    "emily = Lab_member('emily', 'dickinson', 'poet@utexas.edu')\n"
   ]
  },
  {
   "cell_type": "code",
   "execution_count": 12,
   "id": "c4b00ba1",
   "metadata": {
    "scrolled": true
   },
   "outputs": [
    {
     "ename": "TypeError",
     "evalue": "Lab_member.fullname() takes 0 positional arguments but 1 was given",
     "output_type": "error",
     "traceback": [
      "\u001b[0;31m---------------------------------------------------------------------------\u001b[0m",
      "\u001b[0;31mTypeError\u001b[0m                                 Traceback (most recent call last)",
      "Cell \u001b[0;32mIn[12], line 2\u001b[0m\n\u001b[1;32m      1\u001b[0m \u001b[38;5;66;03m# when we invoke the .fullname() method...\u001b[39;00m\n\u001b[0;32m----> 2\u001b[0m \u001b[43memily\u001b[49m\u001b[38;5;241;43m.\u001b[39;49m\u001b[43mfullname\u001b[49m\u001b[43m(\u001b[49m\u001b[43m)\u001b[49m\n",
      "\u001b[0;31mTypeError\u001b[0m: Lab_member.fullname() takes 0 positional arguments but 1 was given"
     ]
    }
   ],
   "source": [
    "# when we invoke the .fullname() method...\n",
    "emily.fullname()"
   ]
  },
  {
   "cell_type": "markdown",
   "id": "cbdacfc8",
   "metadata": {},
   "source": [
    "### what's going on here? well, when we define a function, we put the arguments it takes into the parentheses.\n",
    "### in this example, we defined our method as not taking any arguments; but to work right, methods do take at least one positional argument, the one that in following convention we've been naming 'self'\n",
    "### in this instance we created, the positional argument that was passed in, even though we defined the method to take 0 arguments, is 'emily'.\n",
    "### and this is what the explanation of the TypeError is telling us: methods need at least one positional argument to work (the one that we name 'self'), we didn't provide it when we defined the method; nevertheless, the interpreter tried to pass in (as it must) the value that must be passed in for methods --- in this case, 'emily' --- but it couldn't do so, so it threw the error."
   ]
  },
  {
   "cell_type": "code",
   "execution_count": 14,
   "id": "e35f0461",
   "metadata": {},
   "outputs": [],
   "source": [
    "# let's restore the argument list of the .fullname() method, re-run the class and re-instantiate the lab member...\n",
    "class Lab_member:\n",
    "    def __init__(self, first, last, email):\n",
    "        self.first = first\n",
    "        self.last = last\n",
    "        self.email = email\n",
    "        # when we instantiate any object from this class,\n",
    "        # these will be its base attributes\n",
    "    # let's add a method that returns the lab member's\n",
    "    # full name\n",
    "    def fullname(self):\n",
    "        return f'{self.first} {self.last}'\n",
    "    \n",
    "emily = Lab_member('emily', 'dickinson', 'poet@utexas.edu')"
   ]
  },
  {
   "cell_type": "markdown",
   "id": "76657069",
   "metadata": {},
   "source": [
    "## fyi: you can create several kinds of methods. a method that takes 'self' as an argument is called a 'regular method'"
   ]
  },
  {
   "cell_type": "code",
   "execution_count": 15,
   "id": "a9754ffa",
   "metadata": {},
   "outputs": [
    {
     "data": {
      "text/plain": [
       "'emily dickinson'"
      ]
     },
     "execution_count": 15,
     "metadata": {},
     "output_type": "execute_result"
    }
   ],
   "source": [
    "# ...and let's run the method from the class.\n",
    "Lab_member.fullname(emily)\n",
    "# here we see that the method invoked from the class works, when we pass in the instance name of the object,\n",
    "# and this is how line emily.fullname() is actually rendered before it's executed;\n",
    "# that is, emily.fullname() -> Lab_member.fullname(emily); and this is what is executed.\n",
    "# this is why the positional variable that we've been calling 'self' is required."
   ]
  },
  {
   "cell_type": "code",
   "execution_count": 19,
   "id": "6d75c9d2",
   "metadata": {},
   "outputs": [
    {
     "data": {
      "text/html": [
       "<iframe width=\"560\" height=\"315\" src=\"https://www.youtube.com/embed/ZDa-Z5JzLYM\" title=\"YouTube video player\" frameborder=\"0\" allow=\"accelerometer; autoplay; clipboard-write; encrypted-media; gyroscope; picture-in-picture; web-share\" allowfullscreen></iframe>\n"
      ],
      "text/plain": [
       "<IPython.core.display.HTML object>"
      ]
     },
     "metadata": {},
     "output_type": "display_data"
    }
   ],
   "source": [
    "%%HTML\n",
    "<iframe width=\"560\" height=\"315\" src=\"https://www.youtube.com/embed/ZDa-Z5JzLYM\" title=\"YouTube video player\" frameborder=\"0\" allow=\"accelerometer; autoplay; clipboard-write; encrypted-media; gyroscope; picture-in-picture; web-share\" allowfullscreen></iframe>"
   ]
  },
  {
   "cell_type": "markdown",
   "id": "8a01b750",
   "metadata": {},
   "source": [
    "### corey schafer provided this explanation for why the 'self' variable is necessary when writing classes.\n",
    "### he's created an entire online youtube series teaching python, which i borrow from and which i recommend.\n",
    "### the explanation of 'self' comes near the end of this video."
   ]
  },
  {
   "cell_type": "code",
   "execution_count": 23,
   "id": "f105030f",
   "metadata": {},
   "outputs": [
    {
     "data": {
      "text/plain": [
       "{'first': 'emily', 'last': 'dickinson', 'email': 'poet@utexas.edu'}"
      ]
     },
     "execution_count": 23,
     "metadata": {},
     "output_type": "execute_result"
    }
   ],
   "source": [
    "# instance attribute values are held in a dictionary\n",
    "emily.__dict__"
   ]
  },
  {
   "cell_type": "code",
   "execution_count": 29,
   "id": "262079ba",
   "metadata": {},
   "outputs": [],
   "source": [
    "class Lab_member:\n",
    "    pi = 'arasappan' # let's add a class variable\n",
    "    location = 'FNT 1.104'\n",
    "    def __init__(self, first, last, email):\n",
    "        self.first = first\n",
    "        self.last = last\n",
    "        self.email = email\n",
    "        # when we instantiate any object from this class,\n",
    "        # these will be its base attributes\n",
    "    # let's add a method that returns the lab member's\n",
    "    # full name\n",
    "    def fullname(self):\n",
    "        return f'{self.first} {self.last}'\n",
    "    \n",
    "emily = Lab_member('emily', 'dickinson', 'poet@utexas.edu')"
   ]
  },
  {
   "cell_type": "code",
   "execution_count": 30,
   "id": "ef63dd96",
   "metadata": {},
   "outputs": [
    {
     "data": {
      "text/plain": [
       "'arasappan'"
      ]
     },
     "execution_count": 30,
     "metadata": {},
     "output_type": "execute_result"
    }
   ],
   "source": [
    "emily.pi"
   ]
  },
  {
   "cell_type": "code",
   "execution_count": 31,
   "id": "d9c14000",
   "metadata": {},
   "outputs": [
    {
     "name": "stdout",
     "output_type": "stream",
     "text": [
      "bullwinkle\n"
     ]
    }
   ],
   "source": [
    "# now update the instance variable\n",
    "emily.pi = 'bullwinkle'\n",
    "print(emily.pi)"
   ]
  },
  {
   "cell_type": "code",
   "execution_count": null,
   "id": "c4ff364b",
   "metadata": {},
   "outputs": [],
   "source": []
  },
  {
   "cell_type": "code",
   "execution_count": 35,
   "id": "53c5a362",
   "metadata": {},
   "outputs": [],
   "source": [
    "# save the object for later use\n",
    "# mkdir pickle dir to hold pickled objects\n",
    "import pickle\n",
    "with open('pickle/emily', 'wb') as outFile:\n",
    "    pickle.dump(emily, outFile)\n"
   ]
  },
  {
   "cell_type": "code",
   "execution_count": 36,
   "id": "0dddc65d",
   "metadata": {},
   "outputs": [
    {
     "name": "stdout",
     "output_type": "stream",
     "text": [
      "Variable       Type              Data/Info\n",
      "------------------------------------------\n",
      "Lab_member     type              <class '__main__.Lab_member'>\n",
      "YouTubeVideo   type              <class 'IPython.lib.display.YouTubeVideo'>\n",
      "emily          Lab_member        <__main__.Lab_member object at 0x7f1b53600090>\n",
      "lab_member     BufferedWriter    <_io.BufferedWriter name='pickle/emily'>\n",
      "pickle         module            <module 'pickle' from '/h<...>ib/python3.11/pickle.py'>\n"
     ]
    }
   ],
   "source": [
    "%whos"
   ]
  },
  {
   "cell_type": "code",
   "execution_count": 37,
   "id": "e1e238bb",
   "metadata": {},
   "outputs": [],
   "source": [
    "del emily"
   ]
  },
  {
   "cell_type": "code",
   "execution_count": 38,
   "id": "b630c771",
   "metadata": {},
   "outputs": [
    {
     "name": "stdout",
     "output_type": "stream",
     "text": [
      "Variable       Type              Data/Info\n",
      "------------------------------------------\n",
      "Lab_member     type              <class '__main__.Lab_member'>\n",
      "YouTubeVideo   type              <class 'IPython.lib.display.YouTubeVideo'>\n",
      "lab_member     BufferedWriter    <_io.BufferedWriter name='pickle/emily'>\n",
      "pickle         module            <module 'pickle' from '/h<...>ib/python3.11/pickle.py'>\n"
     ]
    }
   ],
   "source": [
    "%whos"
   ]
  },
  {
   "cell_type": "code",
   "execution_count": 39,
   "id": "bd06409e",
   "metadata": {},
   "outputs": [],
   "source": [
    "# now let's restore the object\n",
    "with open('pickle/emily', 'rb') as inFile:\n",
    "    # we use an assignment statement to reconstitute the object\n",
    "    emily = pickle.load(inFile)"
   ]
  },
  {
   "cell_type": "code",
   "execution_count": 40,
   "id": "3efaf821",
   "metadata": {},
   "outputs": [
    {
     "name": "stdout",
     "output_type": "stream",
     "text": [
      "Variable       Type              Data/Info\n",
      "------------------------------------------\n",
      "Lab_member     type              <class '__main__.Lab_member'>\n",
      "YouTubeVideo   type              <class 'IPython.lib.display.YouTubeVideo'>\n",
      "emily          Lab_member        <__main__.Lab_member object at 0x7f1b404e5390>\n",
      "inFile         BufferedReader    <_io.BufferedReader name='pickle/emily'>\n",
      "lab_member     BufferedWriter    <_io.BufferedWriter name='pickle/emily'>\n",
      "pickle         module            <module 'pickle' from '/h<...>ib/python3.11/pickle.py'>\n"
     ]
    }
   ],
   "source": [
    "%whos"
   ]
  },
  {
   "cell_type": "code",
   "execution_count": 41,
   "id": "e6f60b84",
   "metadata": {},
   "outputs": [
    {
     "data": {
      "text/plain": [
       "'bullwinkle'"
      ]
     },
     "execution_count": 41,
     "metadata": {},
     "output_type": "execute_result"
    }
   ],
   "source": [
    "emily.pi"
   ]
  },
  {
   "cell_type": "code",
   "execution_count": null,
   "id": "dd9ffa7d",
   "metadata": {},
   "outputs": [],
   "source": []
  }
 ],
 "metadata": {
  "kernelspec": {
   "display_name": "Python 3 (ipykernel)",
   "language": "python",
   "name": "python3"
  },
  "language_info": {
   "codemirror_mode": {
    "name": "ipython",
    "version": 3
   },
   "file_extension": ".py",
   "mimetype": "text/x-python",
   "name": "python",
   "nbconvert_exporter": "python",
   "pygments_lexer": "ipython3",
   "version": "3.8.10"
  }
 },
 "nbformat": 4,
 "nbformat_minor": 5
}
