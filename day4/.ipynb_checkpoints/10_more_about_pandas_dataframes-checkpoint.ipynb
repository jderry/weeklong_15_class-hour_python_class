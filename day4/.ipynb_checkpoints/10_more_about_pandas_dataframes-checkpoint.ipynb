{
 "cells": [
  {
   "cell_type": "code",
   "execution_count": null,
   "id": "c327ec9c",
   "metadata": {},
   "outputs": [],
   "source": [
    "# initialization\n",
    "import pandas as pd"
   ]
  },
  {
   "cell_type": "code",
   "execution_count": null,
   "id": "c3be18f4",
   "metadata": {},
   "outputs": [],
   "source": []
  },
  {
   "cell_type": "code",
   "execution_count": null,
   "id": "bc71b58d",
   "metadata": {},
   "outputs": [],
   "source": [
    "# dataframe.loc[] to access by row label\n",
    "# dataframe[] to access by column label\n",
    "# dataframes have indexes \n",
    "# IMPORTANT: these indices don't have to be unique\n",
    "# ALSO IMPORTANT: non-unique indices will slow down many operations on dataframes"
   ]
  }
 ],
 "metadata": {
  "kernelspec": {
   "display_name": "Python 3 (ipykernel)",
   "language": "python",
   "name": "python3"
  },
  "language_info": {
   "codemirror_mode": {
    "name": "ipython",
    "version": 3
   },
   "file_extension": ".py",
   "mimetype": "text/x-python",
   "name": "python",
   "nbconvert_exporter": "python",
   "pygments_lexer": "ipython3",
   "version": "3.8.10"
  }
 },
 "nbformat": 4,
 "nbformat_minor": 5
}
