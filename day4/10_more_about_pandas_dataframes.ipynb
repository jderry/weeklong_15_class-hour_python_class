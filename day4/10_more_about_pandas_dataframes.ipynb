{
 "cells": [
  {
   "cell_type": "code",
   "execution_count": 1,
   "id": "8f595dd0",
   "metadata": {},
   "outputs": [],
   "source": [
    "# initialization\n",
    "import pandas as pd"
   ]
  },
  {
   "cell_type": "code",
   "execution_count": 9,
   "id": "f6097770",
   "metadata": {},
   "outputs": [],
   "source": [
    "reformattedFasta = pd.read_csv('../dataset/reformatted_Unigene1000.fa', sep=' ', header=None, index_col=0, names=['size', 'len', 'gap', '0', '0%', 'data'])"
   ]
  },
  {
   "cell_type": "code",
   "execution_count": 10,
   "id": "5934619f",
   "metadata": {},
   "outputs": [
    {
     "data": {
      "text/html": [
       "<div>\n",
       "<style scoped>\n",
       "    .dataframe tbody tr th:only-of-type {\n",
       "        vertical-align: middle;\n",
       "    }\n",
       "\n",
       "    .dataframe tbody tr th {\n",
       "        vertical-align: top;\n",
       "    }\n",
       "\n",
       "    .dataframe thead th {\n",
       "        text-align: right;\n",
       "    }\n",
       "</style>\n",
       "<table border=\"1\" class=\"dataframe\">\n",
       "  <thead>\n",
       "    <tr style=\"text-align: right;\">\n",
       "      <th></th>\n",
       "      <th>size</th>\n",
       "      <th>len</th>\n",
       "      <th>gap</th>\n",
       "      <th>0</th>\n",
       "      <th>0%</th>\n",
       "      <th>data</th>\n",
       "    </tr>\n",
       "  </thead>\n",
       "  <tbody>\n",
       "    <tr>\n",
       "      <th>Unigene1_All</th>\n",
       "      <td>size</td>\n",
       "      <td>535</td>\n",
       "      <td>gap</td>\n",
       "      <td>0</td>\n",
       "      <td>0%</td>\n",
       "      <td>ATCATTATTGATAGCAACAACAATCCGGAGCACTTCCTCACCACCA...</td>\n",
       "    </tr>\n",
       "    <tr>\n",
       "      <th>Unigene2_All</th>\n",
       "      <td>size</td>\n",
       "      <td>3942</td>\n",
       "      <td>gap</td>\n",
       "      <td>0</td>\n",
       "      <td>0%</td>\n",
       "      <td>CCCATTCCCGGCATAGGTGGTGCAGGTAAAGCAAGAGGCAAAAGCT...</td>\n",
       "    </tr>\n",
       "    <tr>\n",
       "      <th>Unigene3_All</th>\n",
       "      <td>size</td>\n",
       "      <td>845</td>\n",
       "      <td>gap</td>\n",
       "      <td>0</td>\n",
       "      <td>0%</td>\n",
       "      <td>TATAAAACGACGTCGTTTAATCTCGGCTAATAGAATAGTTATATAA...</td>\n",
       "    </tr>\n",
       "    <tr>\n",
       "      <th>Unigene4_All</th>\n",
       "      <td>size</td>\n",
       "      <td>919</td>\n",
       "      <td>gap</td>\n",
       "      <td>0</td>\n",
       "      <td>0%</td>\n",
       "      <td>CAACACCTGTTTCCATTAACTCCTCTCGATATAAAATTAAATTTCG...</td>\n",
       "    </tr>\n",
       "    <tr>\n",
       "      <th>Unigene5_All</th>\n",
       "      <td>size</td>\n",
       "      <td>269</td>\n",
       "      <td>gap</td>\n",
       "      <td>0</td>\n",
       "      <td>0%</td>\n",
       "      <td>CTCCAAATTCTGCAATCTTGACTGTTTCAGTCTTGGTGTCTACCAG...</td>\n",
       "    </tr>\n",
       "  </tbody>\n",
       "</table>\n",
       "</div>"
      ],
      "text/plain": [
       "              size   len  gap  0  0%  \\\n",
       "Unigene1_All  size   535  gap  0  0%   \n",
       "Unigene2_All  size  3942  gap  0  0%   \n",
       "Unigene3_All  size   845  gap  0  0%   \n",
       "Unigene4_All  size   919  gap  0  0%   \n",
       "Unigene5_All  size   269  gap  0  0%   \n",
       "\n",
       "                                                           data  \n",
       "Unigene1_All  ATCATTATTGATAGCAACAACAATCCGGAGCACTTCCTCACCACCA...  \n",
       "Unigene2_All  CCCATTCCCGGCATAGGTGGTGCAGGTAAAGCAAGAGGCAAAAGCT...  \n",
       "Unigene3_All  TATAAAACGACGTCGTTTAATCTCGGCTAATAGAATAGTTATATAA...  \n",
       "Unigene4_All  CAACACCTGTTTCCATTAACTCCTCTCGATATAAAATTAAATTTCG...  \n",
       "Unigene5_All  CTCCAAATTCTGCAATCTTGACTGTTTCAGTCTTGGTGTCTACCAG...  "
      ]
     },
     "execution_count": 10,
     "metadata": {},
     "output_type": "execute_result"
    }
   ],
   "source": [
    "reformattedFasta.head()"
   ]
  },
  {
   "cell_type": "code",
   "execution_count": 11,
   "id": "fae8e68b",
   "metadata": {},
   "outputs": [],
   "source": [
    "reformattedFasta.drop(columns=['size', 'gap', '0', '0%'], inplace=True)"
   ]
  },
  {
   "cell_type": "code",
   "execution_count": null,
   "id": "978b2db1",
   "metadata": {},
   "outputs": [],
   "source": [
    "# dataframe.loc[] to access by row label\n",
    "# dataframe[] to access by column label\n",
    "# dataframes have indexes \n",
    "# IMPORTANT: these indices don't have to be unique\n",
    "# ALSO IMPORTANT: non-unique indices will slow down many operations on dataframes"
   ]
  },
  {
   "cell_type": "code",
   "execution_count": 12,
   "id": "dc6f59f2",
   "metadata": {},
   "outputs": [
    {
     "data": {
      "text/html": [
       "<div>\n",
       "<style scoped>\n",
       "    .dataframe tbody tr th:only-of-type {\n",
       "        vertical-align: middle;\n",
       "    }\n",
       "\n",
       "    .dataframe tbody tr th {\n",
       "        vertical-align: top;\n",
       "    }\n",
       "\n",
       "    .dataframe thead th {\n",
       "        text-align: right;\n",
       "    }\n",
       "</style>\n",
       "<table border=\"1\" class=\"dataframe\">\n",
       "  <thead>\n",
       "    <tr style=\"text-align: right;\">\n",
       "      <th></th>\n",
       "      <th>len</th>\n",
       "      <th>data</th>\n",
       "    </tr>\n",
       "  </thead>\n",
       "  <tbody>\n",
       "    <tr>\n",
       "      <th>Unigene1_All</th>\n",
       "      <td>535</td>\n",
       "      <td>ATCATTATTGATAGCAACAACAATCCGGAGCACTTCCTCACCACCA...</td>\n",
       "    </tr>\n",
       "    <tr>\n",
       "      <th>Unigene2_All</th>\n",
       "      <td>3942</td>\n",
       "      <td>CCCATTCCCGGCATAGGTGGTGCAGGTAAAGCAAGAGGCAAAAGCT...</td>\n",
       "    </tr>\n",
       "    <tr>\n",
       "      <th>Unigene3_All</th>\n",
       "      <td>845</td>\n",
       "      <td>TATAAAACGACGTCGTTTAATCTCGGCTAATAGAATAGTTATATAA...</td>\n",
       "    </tr>\n",
       "    <tr>\n",
       "      <th>Unigene4_All</th>\n",
       "      <td>919</td>\n",
       "      <td>CAACACCTGTTTCCATTAACTCCTCTCGATATAAAATTAAATTTCG...</td>\n",
       "    </tr>\n",
       "    <tr>\n",
       "      <th>Unigene5_All</th>\n",
       "      <td>269</td>\n",
       "      <td>CTCCAAATTCTGCAATCTTGACTGTTTCAGTCTTGGTGTCTACCAG...</td>\n",
       "    </tr>\n",
       "  </tbody>\n",
       "</table>\n",
       "</div>"
      ],
      "text/plain": [
       "               len                                               data\n",
       "Unigene1_All   535  ATCATTATTGATAGCAACAACAATCCGGAGCACTTCCTCACCACCA...\n",
       "Unigene2_All  3942  CCCATTCCCGGCATAGGTGGTGCAGGTAAAGCAAGAGGCAAAAGCT...\n",
       "Unigene3_All   845  TATAAAACGACGTCGTTTAATCTCGGCTAATAGAATAGTTATATAA...\n",
       "Unigene4_All   919  CAACACCTGTTTCCATTAACTCCTCTCGATATAAAATTAAATTTCG...\n",
       "Unigene5_All   269  CTCCAAATTCTGCAATCTTGACTGTTTCAGTCTTGGTGTCTACCAG..."
      ]
     },
     "execution_count": 12,
     "metadata": {},
     "output_type": "execute_result"
    }
   ],
   "source": [
    "reformattedFasta.head()"
   ]
  },
  {
   "cell_type": "code",
   "execution_count": null,
   "id": "e8dbcc30",
   "metadata": {},
   "outputs": [],
   "source": [
    "reformattedFasta."
   ]
  }
 ],
 "metadata": {
  "kernelspec": {
   "display_name": "Python 3 (ipykernel)",
   "language": "python",
   "name": "python3"
  },
  "language_info": {
   "codemirror_mode": {
    "name": "ipython",
    "version": 3
   },
   "file_extension": ".py",
   "mimetype": "text/x-python",
   "name": "python",
   "nbconvert_exporter": "python",
   "pygments_lexer": "ipython3",
   "version": "3.8.10"
  }
 },
 "nbformat": 4,
 "nbformat_minor": 5
}
