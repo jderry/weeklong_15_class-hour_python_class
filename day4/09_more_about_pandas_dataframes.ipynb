{
 "cells": [
  {
   "cell_type": "code",
   "execution_count": 22,
   "id": "97ab87be",
   "metadata": {},
   "outputs": [],
   "source": [
    "# initialization\n",
    "import pandas as pd\n",
    "from IPython.display import Image\n",
    "from IPython.core.display import HTML"
   ]
  },
  {
   "cell_type": "markdown",
   "id": "ca6552ab",
   "metadata": {},
   "source": [
    "## the innovators"
   ]
  },
  {
   "cell_type": "code",
   "execution_count": 1,
   "id": "160e3d58",
   "metadata": {},
   "outputs": [
    {
     "data": {
      "text/html": [
       "<iframe src=\"https://en.wikipedia.org/wiki/Travis_Oliphant\" width=\"1000\" height=\"500\"></iframe>\n"
      ],
      "text/plain": [
       "<IPython.core.display.HTML object>"
      ]
     },
     "metadata": {},
     "output_type": "display_data"
    }
   ],
   "source": [
    "%%html\n",
    "<iframe src=\"https://en.wikipedia.org/wiki/Travis_Oliphant\" width=\"1000\" height=\"500\"></iframe>"
   ]
  },
  {
   "cell_type": "code",
   "execution_count": 2,
   "id": "58cde415",
   "metadata": {},
   "outputs": [
    {
     "data": {
      "text/html": [
       "<iframe src=\"https://en.wikipedia.org/wiki/Wes_McKinney\" width=\"1000\" height=\"500\"></iframe>\n"
      ],
      "text/plain": [
       "<IPython.core.display.HTML object>"
      ]
     },
     "metadata": {},
     "output_type": "display_data"
    }
   ],
   "source": [
    "%%html\n",
    "<iframe src=\"https://en.wikipedia.org/wiki/Wes_McKinney\" width=\"1000\" height=\"500\"></iframe>"
   ]
  },
  {
   "cell_type": "markdown",
   "id": "8ad8cb77",
   "metadata": {},
   "source": [
    "## vectorized operations\n",
    "\n",
    "### “It’s hardware that makes a machine fast. It’s software that makes a fast machine slow.”\n",
    "### — Craig Bruce"
   ]
  },
  {
   "cell_type": "code",
   "execution_count": 28,
   "id": "3f90d753",
   "metadata": {},
   "outputs": [
    {
     "data": {
      "text/html": [
       "<iframe src=\"https://en.wikipedia.org/wiki/Processor_register#Vector_registers\" width=\"1000\" height=\"500\"></iframe>\n"
      ],
      "text/plain": [
       "<IPython.core.display.HTML object>"
      ]
     },
     "metadata": {},
     "output_type": "display_data"
    }
   ],
   "source": [
    "%%html\n",
    "<iframe src=\"https://en.wikipedia.org/wiki/Processor_register#Vector_registers\" width=\"1000\" height=\"500\"></iframe>"
   ]
  },
  {
   "cell_type": "code",
   "execution_count": 37,
   "id": "308ca771",
   "metadata": {},
   "outputs": [
    {
     "data": {
      "text/html": [
       "<iframe src=\"https://en.wikipedia.org/wiki/Single_instruction%2C_multiple_data\" width=\"1000\" height=\"500\"></iframe>\n"
      ],
      "text/plain": [
       "<IPython.core.display.HTML object>"
      ]
     },
     "metadata": {},
     "output_type": "display_data"
    }
   ],
   "source": [
    "%%html\n",
    "<iframe src=\"https://en.wikipedia.org/wiki/Single_instruction%2C_multiple_data\" width=\"1000\" height=\"500\"></iframe>"
   ]
  },
  {
   "cell_type": "code",
   "execution_count": 31,
   "id": "c9cfd666",
   "metadata": {},
   "outputs": [
    {
     "data": {
      "text/html": [
       "<iframe src=\"https://numpy.org/doc/stable/reference/ufuncs.html#available-ufuncs\" width=\"1000\" height=\"500\"></iframe>\n"
      ],
      "text/plain": [
       "<IPython.core.display.HTML object>"
      ]
     },
     "metadata": {},
     "output_type": "display_data"
    }
   ],
   "source": [
    "%%html\n",
    "<iframe src=\"https://numpy.org/doc/stable/reference/ufuncs.html#available-ufuncs\" width=\"1000\" height=\"500\"></iframe>"
   ]
  },
  {
   "cell_type": "code",
   "execution_count": null,
   "id": "952fcaae",
   "metadata": {},
   "outputs": [],
   "source": [
    "# numpy underlies pandas; and because numpy implements vectorized operations,\n",
    "# pandas can make use of vectorized operations.\n",
    "# conceived of as a matrix, a tabular dataset is made of row and column vectors.\n",
    "# because each column vector is made up of values of the same datatype,\n",
    "# we can apply vectorized operation to them.\n",
    "# this allows us to write a single statement to work with all the data of a single column. \n",
    "# and the hardware parallelization of SIMD registers,\n",
    "# which vectorized operations make use of, greatly speeds up a vectorized operation."
   ]
  },
  {
   "cell_type": "code",
   "execution_count": 38,
   "id": "a3ca3476",
   "metadata": {},
   "outputs": [],
   "source": [
    "testList = list(range(100000))"
   ]
  },
  {
   "cell_type": "code",
   "execution_count": 40,
   "id": "9f526828",
   "metadata": {},
   "outputs": [
    {
     "data": {
      "text/plain": [
       "[0, 1, 2, 3, 4, 5, 6, 7, 8, 9]"
      ]
     },
     "execution_count": 40,
     "metadata": {},
     "output_type": "execute_result"
    }
   ],
   "source": [
    "testList[:10]"
   ]
  },
  {
   "cell_type": "code",
   "execution_count": 41,
   "id": "5128188e",
   "metadata": {},
   "outputs": [
    {
     "data": {
      "text/plain": [
       "[0, 1, 2, 3, 4, 5, 6, 7, 8, 9]"
      ]
     },
     "execution_count": 41,
     "metadata": {},
     "output_type": "execute_result"
    }
   ],
   "source": [
    "testList = 2 * testList # not illegal, but...\n",
    "testList[:10] "
   ]
  },
  {
   "cell_type": "code",
   "execution_count": 42,
   "id": "10e8535a",
   "metadata": {},
   "outputs": [],
   "source": [
    "testSeries = pd.Series(range(100000))"
   ]
  },
  {
   "cell_type": "code",
   "execution_count": 43,
   "id": "f301a15f",
   "metadata": {},
   "outputs": [
    {
     "data": {
      "text/plain": [
       "0    0\n",
       "1    1\n",
       "2    2\n",
       "3    3\n",
       "4    4\n",
       "5    5\n",
       "6    6\n",
       "7    7\n",
       "8    8\n",
       "9    9\n",
       "dtype: int64"
      ]
     },
     "execution_count": 43,
     "metadata": {},
     "output_type": "execute_result"
    }
   ],
   "source": [
    "testSeries[:10]"
   ]
  },
  {
   "cell_type": "code",
   "execution_count": 44,
   "id": "7a853bc1",
   "metadata": {},
   "outputs": [
    {
     "data": {
      "text/plain": [
       "0     0\n",
       "1     2\n",
       "2     4\n",
       "3     6\n",
       "4     8\n",
       "5    10\n",
       "6    12\n",
       "7    14\n",
       "8    16\n",
       "9    18\n",
       "dtype: int64"
      ]
     },
     "execution_count": 44,
     "metadata": {},
     "output_type": "execute_result"
    }
   ],
   "source": [
    "testSeries = 2 * testSeries\n",
    "testSeries[:10]"
   ]
  },
  {
   "cell_type": "code",
   "execution_count": 45,
   "id": "19b3bd27",
   "metadata": {},
   "outputs": [
    {
     "data": {
      "text/plain": [
       "[0, 2, 4, 6, 8, 10, 12, 14, 16, 18]"
      ]
     },
     "execution_count": 45,
     "metadata": {},
     "output_type": "execute_result"
    }
   ],
   "source": [
    "# to do the equivalent of multiplying a scalar by a vector\n",
    "# requires a for-loop\n",
    "for index in range(len(testList)):\n",
    "    testList[index] = testList[index] * 2\n",
    "testList[:10]"
   ]
  },
  {
   "cell_type": "markdown",
   "id": "7b009447",
   "metadata": {},
   "source": [
    "### the difference in using vectorized operations lies in execution time..."
   ]
  },
  {
   "cell_type": "code",
   "execution_count": 50,
   "id": "84ebc4df",
   "metadata": {},
   "outputs": [
    {
     "name": "stdout",
     "output_type": "stream",
     "text": [
      "17.7 ms ± 4.94 ms per loop (mean ± std. dev. of 7 runs, 10 loops each)\n"
     ]
    }
   ],
   "source": [
    "%%timeit\n",
    "testList = list(range(100000))\n",
    "for index in range(len(testList)):\n",
    "    testList[index] = testList[index] * 2"
   ]
  },
  {
   "cell_type": "code",
   "execution_count": 49,
   "id": "aabc9fda",
   "metadata": {},
   "outputs": [
    {
     "name": "stdout",
     "output_type": "stream",
     "text": [
      "440 µs ± 830 ns per loop (mean ± std. dev. of 7 runs, 1,000 loops each)\n"
     ]
    }
   ],
   "source": [
    "%%timeit\n",
    "testSeries = pd.Series(range(100000))\n",
    "testSeries = testSeries * 2"
   ]
  },
  {
   "cell_type": "markdown",
   "id": "0f7a12e9",
   "metadata": {},
   "source": [
    "## boolean selection"
   ]
  },
  {
   "cell_type": "code",
   "execution_count": 15,
   "id": "8e017f9d",
   "metadata": {},
   "outputs": [
    {
     "data": {
      "text/plain": [
       "0     10\n",
       "1     11\n",
       "2     12\n",
       "3     13\n",
       "4     14\n",
       "5     15\n",
       "6     16\n",
       "7     17\n",
       "8     18\n",
       "9     19\n",
       "10    20\n",
       "dtype: int64"
      ]
     },
     "execution_count": 15,
     "metadata": {},
     "output_type": "execute_result"
    }
   ],
   "source": [
    "# boolean selection\n",
    "pd.Series(range(10, 21))"
   ]
  },
  {
   "cell_type": "code",
   "execution_count": 16,
   "id": "5ddd015b",
   "metadata": {},
   "outputs": [
    {
     "data": {
      "text/plain": [
       "0     False\n",
       "1     False\n",
       "2     False\n",
       "3     False\n",
       "4     False\n",
       "5     False\n",
       "6      True\n",
       "7      True\n",
       "8      True\n",
       "9      True\n",
       "10     True\n",
       "dtype: bool"
      ]
     },
     "execution_count": 16,
     "metadata": {},
     "output_type": "execute_result"
    }
   ],
   "source": [
    "s = pd.Series(range(10, 21))\n",
    "s > 15 # which rows have values greater than 15?"
   ]
  },
  {
   "cell_type": "code",
   "execution_count": 19,
   "id": "985b2158",
   "metadata": {},
   "outputs": [
    {
     "data": {
      "text/plain": [
       "6     16\n",
       "7     17\n",
       "8     18\n",
       "9     19\n",
       "10    20\n",
       "dtype: int64"
      ]
     },
     "execution_count": 19,
     "metadata": {},
     "output_type": "execute_result"
    }
   ],
   "source": [
    "# select rows in which values are greater than 15\n",
    "logicalResults = s > 15\n",
    "s[logicalResults]"
   ]
  },
  {
   "cell_type": "code",
   "execution_count": 18,
   "id": "9196bbcc",
   "metadata": {},
   "outputs": [
    {
     "data": {
      "text/plain": [
       "6    16\n",
       "7    17\n",
       "dtype: int64"
      ]
     },
     "execution_count": 18,
     "metadata": {},
     "output_type": "execute_result"
    }
   ],
   "source": [
    "# we can use logical operators\n",
    "s[(s > 15) & (s < 18)]"
   ]
  },
  {
   "cell_type": "code",
   "execution_count": 20,
   "id": "39b63492",
   "metadata": {},
   "outputs": [
    {
     "data": {
      "text/plain": [
       "True"
      ]
     },
     "execution_count": 20,
     "metadata": {},
     "output_type": "execute_result"
    }
   ],
   "source": [
    "# are all items >= 9?\n",
    "(s >= 9).all()"
   ]
  },
  {
   "cell_type": "code",
   "execution_count": 10,
   "id": "cc9c37db",
   "metadata": {},
   "outputs": [],
   "source": [
    "pd.Series.all?"
   ]
  },
  {
   "cell_type": "markdown",
   "id": "27c16472",
   "metadata": {},
   "source": [
    "## fancy indexing"
   ]
  },
  {
   "cell_type": "code",
   "execution_count": 58,
   "id": "5d249839",
   "metadata": {},
   "outputs": [
    {
     "data": {
      "text/plain": [
       "array([ 1, 63, 59, 20, 32, 75, 57, 21, 88, 48])"
      ]
     },
     "execution_count": 58,
     "metadata": {},
     "output_type": "execute_result"
    }
   ],
   "source": [
    "# initialization\n",
    "import numpy as np"
   ]
  },
  {
   "cell_type": "code",
   "execution_count": 60,
   "id": "b800e137",
   "metadata": {},
   "outputs": [
    {
     "data": {
      "text/plain": [
       "array([61, 50, 54, 63,  2, 50,  6, 20, 72, 38])"
      ]
     },
     "execution_count": 60,
     "metadata": {},
     "output_type": "execute_result"
    }
   ],
   "source": [
    "# the next statement sets the seed so output is invariant.\n",
    "# this is useful when you need reproducible output.\n",
    "# uncomment and set a seed if this is what you want.\n",
    "rand = np.random.RandomState(42) # life, the universe, and everything\n",
    "\n",
    "# select 10 ints randomly from the first 100 natural numbers\n",
    "# put into an ndarray, and make the ndarray the value of a variable named 'x'\n",
    "x = rand.randint(100, size=10)\n",
    "x # show x"
   ]
  },
  {
   "cell_type": "code",
   "execution_count": 61,
   "id": "a461ef00",
   "metadata": {},
   "outputs": [
    {
     "data": {
      "text/plain": [
       "[63, 20, 54]"
      ]
     },
     "execution_count": 61,
     "metadata": {},
     "output_type": "execute_result"
    }
   ],
   "source": [
    "# we can extract values from x by indices and put them into a list...\n",
    "[x[3], x[7], x[2]]"
   ]
  },
  {
   "cell_type": "code",
   "execution_count": 62,
   "id": "2e688494",
   "metadata": {},
   "outputs": [
    {
     "data": {
      "text/plain": [
       "array([63, 20,  2])"
      ]
     },
     "execution_count": 62,
     "metadata": {},
     "output_type": "execute_result"
    }
   ],
   "source": [
    "# ...or we can pass an array of indices into x extract the values we want:\n",
    "ind = [3, 7, 4]\n",
    "x[ind]"
   ]
  },
  {
   "cell_type": "code",
   "execution_count": 63,
   "id": "b76c7931",
   "metadata": {},
   "outputs": [
    {
     "data": {
      "text/plain": [
       "array([[63, 20],\n",
       "       [ 2, 50]])"
      ]
     },
     "execution_count": 63,
     "metadata": {},
     "output_type": "execute_result"
    }
   ],
   "source": [
    "# this is fancy indexing.\n",
    "# note that the shape of the result is determined by the shape of the index array...\n",
    "ind = np.array([[3, 7],\n",
    "                [4, 5]])\n",
    "x[ind]"
   ]
  },
  {
   "cell_type": "code",
   "execution_count": 64,
   "id": "8c116234",
   "metadata": {},
   "outputs": [
    {
     "data": {
      "text/plain": [
       "array([[ 0,  1,  2,  3],\n",
       "       [ 4,  5,  6,  7],\n",
       "       [ 8,  9, 10, 11]])"
      ]
     },
     "execution_count": 64,
     "metadata": {},
     "output_type": "execute_result"
    }
   ],
   "source": [
    "# ...and not by the shape of the ndarray that the values are taken from.\n",
    "# for the next demonstration, let's create a matrix:\n",
    "X = np.arange(12).reshape((3, 4))\n",
    "X"
   ]
  },
  {
   "cell_type": "code",
   "execution_count": 65,
   "id": "35a17143",
   "metadata": {},
   "outputs": [
    {
     "data": {
      "text/plain": [
       "array([ 2,  5, 11])"
      ]
     },
     "execution_count": 65,
     "metadata": {},
     "output_type": "execute_result"
    }
   ],
   "source": [
    "# and now let's create a fancy index by row and column of the values we want to extract:\n",
    "row = np.array([0, 1, 2])\n",
    "col = np.array([2, 1, 3])\n",
    "X[row, col]"
   ]
  }
 ],
 "metadata": {
  "kernelspec": {
   "display_name": "Python 3 (ipykernel)",
   "language": "python",
   "name": "python3"
  },
  "language_info": {
   "codemirror_mode": {
    "name": "ipython",
    "version": 3
   },
   "file_extension": ".py",
   "mimetype": "text/x-python",
   "name": "python",
   "nbconvert_exporter": "python",
   "pygments_lexer": "ipython3",
   "version": "3.8.10"
  }
 },
 "nbformat": 4,
 "nbformat_minor": 5
}
