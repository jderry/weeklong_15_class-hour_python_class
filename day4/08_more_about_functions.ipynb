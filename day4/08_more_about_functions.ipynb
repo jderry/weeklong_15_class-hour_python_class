{
 "cells": [
  {
   "cell_type": "code",
   "execution_count": null,
   "id": "fff58921",
   "metadata": {},
   "outputs": [],
   "source": [
    "# document our function"
   ]
  },
  {
   "cell_type": "code",
   "execution_count": null,
   "id": "256fcf28",
   "metadata": {},
   "outputs": [],
   "source": [
    "# positional v. named arguments"
   ]
  },
  {
   "cell_type": "code",
   "execution_count": null,
   "id": "851fb77d",
   "metadata": {},
   "outputs": [],
   "source": [
    "# functions can take functions as arguments"
   ]
  },
  {
   "cell_type": "code",
   "execution_count": null,
   "id": "98ef12b9",
   "metadata": {},
   "outputs": [],
   "source": [
    "# lambdas: one-line anonymous functions"
   ]
  }
 ],
 "metadata": {
  "kernelspec": {
   "display_name": "Python 3 (ipykernel)",
   "language": "python",
   "name": "python3"
  },
  "language_info": {
   "codemirror_mode": {
    "name": "ipython",
    "version": 3
   },
   "file_extension": ".py",
   "mimetype": "text/x-python",
   "name": "python",
   "nbconvert_exporter": "python",
   "pygments_lexer": "ipython3",
   "version": "3.8.10"
  }
 },
 "nbformat": 4,
 "nbformat_minor": 5
}
