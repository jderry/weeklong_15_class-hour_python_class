{
 "cells": [
  {
   "cell_type": "code",
   "execution_count": 22,
   "id": "b22c7255",
   "metadata": {},
   "outputs": [],
   "source": [
    "# initialization\n",
    "import pandas as pd\n",
    "from IPython.display import Image\n",
    "from IPython.core.display import HTML"
   ]
  },
  {
   "cell_type": "markdown",
   "id": "e5bd8782",
   "metadata": {},
   "source": [
    "## vectorized operations"
   ]
  },
  {
   "cell_type": "code",
   "execution_count": 28,
   "id": "009fc33e",
   "metadata": {},
   "outputs": [
    {
     "data": {
      "text/html": [
       "<iframe src=\"https://en.wikipedia.org/wiki/Processor_register#Vector_registers\" width=\"1000\" height=\"500\"></iframe>\n"
      ],
      "text/plain": [
       "<IPython.core.display.HTML object>"
      ]
     },
     "metadata": {},
     "output_type": "display_data"
    }
   ],
   "source": [
    "%%html\n",
    "<iframe src=\"https://en.wikipedia.org/wiki/Processor_register#Vector_registers\" width=\"1000\" height=\"500\"></iframe>"
   ]
  },
  {
   "cell_type": "code",
   "execution_count": 37,
   "id": "ffb7e514",
   "metadata": {},
   "outputs": [
    {
     "data": {
      "text/html": [
       "<iframe src=\"https://en.wikipedia.org/wiki/Single_instruction%2C_multiple_data\" width=\"1000\" height=\"500\"></iframe>\n"
      ],
      "text/plain": [
       "<IPython.core.display.HTML object>"
      ]
     },
     "metadata": {},
     "output_type": "display_data"
    }
   ],
   "source": [
    "%%html\n",
    "<iframe src=\"https://en.wikipedia.org/wiki/Single_instruction%2C_multiple_data\" width=\"1000\" height=\"500\"></iframe>"
   ]
  },
  {
   "cell_type": "code",
   "execution_count": 31,
   "id": "5d599fea",
   "metadata": {},
   "outputs": [
    {
     "data": {
      "text/html": [
       "<iframe src=\"https://numpy.org/doc/stable/reference/ufuncs.html#available-ufuncs\" width=\"1000\" height=\"500\"></iframe>\n"
      ],
      "text/plain": [
       "<IPython.core.display.HTML object>"
      ]
     },
     "metadata": {},
     "output_type": "display_data"
    }
   ],
   "source": [
    "%%html\n",
    "<iframe src=\"https://numpy.org/doc/stable/reference/ufuncs.html#available-ufuncs\" width=\"1000\" height=\"500\"></iframe>"
   ]
  },
  {
   "cell_type": "code",
   "execution_count": 38,
   "id": "1ae2cada",
   "metadata": {},
   "outputs": [],
   "source": [
    "testList = list(range(100000))"
   ]
  },
  {
   "cell_type": "code",
   "execution_count": 40,
   "id": "c33be9ab",
   "metadata": {},
   "outputs": [
    {
     "data": {
      "text/plain": [
       "[0, 1, 2, 3, 4, 5, 6, 7, 8, 9]"
      ]
     },
     "execution_count": 40,
     "metadata": {},
     "output_type": "execute_result"
    }
   ],
   "source": [
    "testList[:10]"
   ]
  },
  {
   "cell_type": "code",
   "execution_count": 41,
   "id": "8918bdb3",
   "metadata": {},
   "outputs": [
    {
     "data": {
      "text/plain": [
       "[0, 1, 2, 3, 4, 5, 6, 7, 8, 9]"
      ]
     },
     "execution_count": 41,
     "metadata": {},
     "output_type": "execute_result"
    }
   ],
   "source": [
    "testList = 2 * testList # not illegal, but...\n",
    "testList[:10] "
   ]
  },
  {
   "cell_type": "code",
   "execution_count": 42,
   "id": "7c195026",
   "metadata": {},
   "outputs": [],
   "source": [
    "testSeries = pd.Series(range(100000))"
   ]
  },
  {
   "cell_type": "code",
   "execution_count": 43,
   "id": "7c9540b2",
   "metadata": {},
   "outputs": [
    {
     "data": {
      "text/plain": [
       "0    0\n",
       "1    1\n",
       "2    2\n",
       "3    3\n",
       "4    4\n",
       "5    5\n",
       "6    6\n",
       "7    7\n",
       "8    8\n",
       "9    9\n",
       "dtype: int64"
      ]
     },
     "execution_count": 43,
     "metadata": {},
     "output_type": "execute_result"
    }
   ],
   "source": [
    "testSeries[:10]"
   ]
  },
  {
   "cell_type": "code",
   "execution_count": 44,
   "id": "e96f5b8a",
   "metadata": {},
   "outputs": [
    {
     "data": {
      "text/plain": [
       "0     0\n",
       "1     2\n",
       "2     4\n",
       "3     6\n",
       "4     8\n",
       "5    10\n",
       "6    12\n",
       "7    14\n",
       "8    16\n",
       "9    18\n",
       "dtype: int64"
      ]
     },
     "execution_count": 44,
     "metadata": {},
     "output_type": "execute_result"
    }
   ],
   "source": [
    "testSeries = 2 * testSeries\n",
    "testSeries[:10]"
   ]
  },
  {
   "cell_type": "code",
   "execution_count": 45,
   "id": "d9d4b457",
   "metadata": {},
   "outputs": [
    {
     "data": {
      "text/plain": [
       "[0, 2, 4, 6, 8, 10, 12, 14, 16, 18]"
      ]
     },
     "execution_count": 45,
     "metadata": {},
     "output_type": "execute_result"
    }
   ],
   "source": [
    "# to do the equivalent of multiplying a scalar by a vector\n",
    "# requires a for-loop\n",
    "for index in range(len(testList)):\n",
    "    testList[index] = testList[index] * 2\n",
    "testList[:10]"
   ]
  },
  {
   "cell_type": "markdown",
   "id": "a176793e",
   "metadata": {},
   "source": [
    "### the difference in using vectorized operations lies in execution time..."
   ]
  },
  {
   "cell_type": "code",
   "execution_count": 50,
   "id": "d3dcc44c",
   "metadata": {},
   "outputs": [
    {
     "name": "stdout",
     "output_type": "stream",
     "text": [
      "17.7 ms ± 4.94 ms per loop (mean ± std. dev. of 7 runs, 10 loops each)\n"
     ]
    }
   ],
   "source": [
    "%%timeit\n",
    "testList = list(range(100000))\n",
    "for index in range(len(testList)):\n",
    "    testList[index] = testList[index] * 2"
   ]
  },
  {
   "cell_type": "code",
   "execution_count": 49,
   "id": "cdd4fd79",
   "metadata": {},
   "outputs": [
    {
     "name": "stdout",
     "output_type": "stream",
     "text": [
      "440 µs ± 830 ns per loop (mean ± std. dev. of 7 runs, 1,000 loops each)\n"
     ]
    }
   ],
   "source": [
    "%%timeit\n",
    "testSeries = pd.Series(range(100000))\n",
    "testSeries = testSeries * 2"
   ]
  },
  {
   "cell_type": "markdown",
   "id": "11a02b45",
   "metadata": {},
   "source": [
    "## boolean selection"
   ]
  },
  {
   "cell_type": "code",
   "execution_count": 15,
   "id": "6a1bc4bb",
   "metadata": {},
   "outputs": [
    {
     "data": {
      "text/plain": [
       "0     10\n",
       "1     11\n",
       "2     12\n",
       "3     13\n",
       "4     14\n",
       "5     15\n",
       "6     16\n",
       "7     17\n",
       "8     18\n",
       "9     19\n",
       "10    20\n",
       "dtype: int64"
      ]
     },
     "execution_count": 15,
     "metadata": {},
     "output_type": "execute_result"
    }
   ],
   "source": [
    "# boolean selection\n",
    "pd.Series(range(10, 21))"
   ]
  },
  {
   "cell_type": "code",
   "execution_count": 16,
   "id": "162fe726",
   "metadata": {},
   "outputs": [
    {
     "data": {
      "text/plain": [
       "0     False\n",
       "1     False\n",
       "2     False\n",
       "3     False\n",
       "4     False\n",
       "5     False\n",
       "6      True\n",
       "7      True\n",
       "8      True\n",
       "9      True\n",
       "10     True\n",
       "dtype: bool"
      ]
     },
     "execution_count": 16,
     "metadata": {},
     "output_type": "execute_result"
    }
   ],
   "source": [
    "s = pd.Series(range(10, 21))\n",
    "s > 15 # which rows have values greater than 15?"
   ]
  },
  {
   "cell_type": "code",
   "execution_count": 19,
   "id": "54560434",
   "metadata": {},
   "outputs": [
    {
     "data": {
      "text/plain": [
       "6     16\n",
       "7     17\n",
       "8     18\n",
       "9     19\n",
       "10    20\n",
       "dtype: int64"
      ]
     },
     "execution_count": 19,
     "metadata": {},
     "output_type": "execute_result"
    }
   ],
   "source": [
    "# select rows in which values are greater than 15\n",
    "logicalResults = s > 15\n",
    "s[logicalResults]"
   ]
  },
  {
   "cell_type": "code",
   "execution_count": 18,
   "id": "38210bbf",
   "metadata": {},
   "outputs": [
    {
     "data": {
      "text/plain": [
       "6    16\n",
       "7    17\n",
       "dtype: int64"
      ]
     },
     "execution_count": 18,
     "metadata": {},
     "output_type": "execute_result"
    }
   ],
   "source": [
    "# we can use logical operators\n",
    "s[(s > 15) & (s < 18)]"
   ]
  },
  {
   "cell_type": "code",
   "execution_count": 20,
   "id": "4421ada0",
   "metadata": {},
   "outputs": [
    {
     "data": {
      "text/plain": [
       "True"
      ]
     },
     "execution_count": 20,
     "metadata": {},
     "output_type": "execute_result"
    }
   ],
   "source": [
    "# are all items >= 9?\n",
    "(s >= 9).all()"
   ]
  },
  {
   "cell_type": "code",
   "execution_count": 10,
   "id": "56241c06",
   "metadata": {},
   "outputs": [],
   "source": [
    "pd.Series.all?"
   ]
  },
  {
   "cell_type": "markdown",
   "id": "173fc653",
   "metadata": {},
   "source": [
    "## fancy indexing"
   ]
  },
  {
   "cell_type": "code",
   "execution_count": 1,
   "id": "3cec0d17",
   "metadata": {},
   "outputs": [],
   "source": [
    "# dataframe.loc[] to access by row label\n",
    "# dataframe[] to access by column label\n",
    "# dataframes have indexes \n",
    "# IMPORTANT: these indices don't have to be unique\n",
    "# ALSO IMPORTANT: non-unique indices will slow down many operations on dataframes"
   ]
  },
  {
   "cell_type": "code",
   "execution_count": null,
   "id": "548d354b",
   "metadata": {},
   "outputs": [],
   "source": []
  }
 ],
 "metadata": {
  "kernelspec": {
   "display_name": "Python 3 (ipykernel)",
   "language": "python",
   "name": "python3"
  },
  "language_info": {
   "codemirror_mode": {
    "name": "ipython",
    "version": 3
   },
   "file_extension": ".py",
   "mimetype": "text/x-python",
   "name": "python",
   "nbconvert_exporter": "python",
   "pygments_lexer": "ipython3",
   "version": "3.8.10"
  }
 },
 "nbformat": 4,
 "nbformat_minor": 5
}
