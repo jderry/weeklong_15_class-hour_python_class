{
 "cells": [
  {
   "cell_type": "code",
   "execution_count": null,
   "id": "5fbcb2bf",
   "metadata": {},
   "outputs": [],
   "source": [
    "# initialization\n",
    "from IPython.display import Image\n",
    "from IPython.core.display import HTML "
   ]
  },
  {
   "cell_type": "markdown",
   "id": "8a56f236",
   "metadata": {},
   "source": [
    "## opening and closing files in python"
   ]
  },
  {
   "cell_type": "markdown",
   "id": "7548eee7",
   "metadata": {},
   "source": [
    "### open() and close() are built-ins for opening and closing files.\n",
    "### we have to open files to get their contents into memory for processing.\n",
    "### we have to close files once we've finished with them to prevent them\n",
    "### from being accidentally overwritten or corrupted.\n",
    "### however, if we open a file using the with-clause, we don't have to worry about closing it.\n",
    "### the interpreter will do that once it reached the end of the with-clause's block of code."
   ]
  },
  {
   "cell_type": "code",
   "execution_count": null,
   "id": "d8a1ea72",
   "metadata": {},
   "outputs": [],
   "source": [
    "# partial code\n",
    "# to be completed in class\n",
    "with open('../dataset/reformatted_Unigene1000.fa', 'r') as inFile:\n",
    "    LoS = inFile.read().splitlines() # method chaining"
   ]
  },
  {
   "cell_type": "code",
   "execution_count": null,
   "id": "8d8e1373",
   "metadata": {},
   "outputs": [],
   "source": [
    "%whos"
   ]
  },
  {
   "cell_type": "markdown",
   "id": "1b1831ab",
   "metadata": {},
   "source": [
    "## python's half-open interval"
   ]
  },
  {
   "cell_type": "code",
   "execution_count": null,
   "id": "e82efec3",
   "metadata": {},
   "outputs": [],
   "source": [
    "Image(\"number_line_1_10.jpg\", width=500, height=100)"
   ]
  },
  {
   "cell_type": "markdown",
   "id": "e9b929ae",
   "metadata": {},
   "source": [
    "### one may believe that counting is child's play.\n",
    "### and, in a sense, it is.\n",
    "### however, in programming, as in mathematics, there is more to counting than first meets the eye."
   ]
  },
  {
   "cell_type": "markdown",
   "id": "ee27549e",
   "metadata": {},
   "source": [
    "### for example, if we count in just the natural numbers, should we include or exclude zero?"
   ]
  },
  {
   "cell_type": "markdown",
   "id": "dc69c13a",
   "metadata": {},
   "source": [
    "### or, if we count an interval in just the natural numbers, should we include or exclude the endpoints?"
   ]
  },
  {
   "cell_type": "code",
   "execution_count": null,
   "id": "a6dcd940",
   "metadata": {},
   "outputs": [],
   "source": [
    "Image(\"EWD831.jpg\", width=500, height=100)"
   ]
  },
  {
   "cell_type": "markdown",
   "id": "7d75d388",
   "metadata": {},
   "source": [
    "<p>Four ways to define an interval, from Edsger Dijkstra's ``Why Numbering Should Start From Zero''. <it>a</it> and <it>b</it> are half-open intervals, <it>c</it> is an open interval (the interval includes its endpoints); and <it>d</it> is a closed interval (it excludes its endpoints).</p> <p>As Dijkstra points out, when programmers were allowed to choose how to define intervals to work with, those who defined their intervals like the half-open interval <it>a</it>, they made fewer mistakes than when using the other three.</p> <p>Python uses this half-open interval for range() and slicing operations.</p>"
   ]
  },
  {
   "cell_type": "code",
   "execution_count": null,
   "id": "987133b3",
   "metadata": {},
   "outputs": [],
   "source": [
    "# show the range() function and its options.\n",
    "range(5)"
   ]
  },
  {
   "cell_type": "code",
   "execution_count": null,
   "id": "e6f0a37d",
   "metadata": {},
   "outputs": [],
   "source": [
    "# to visualize slicing, we imagine that the indices are shifted a half-step to the left of their values"
   ]
  },
  {
   "cell_type": "code",
   "execution_count": null,
   "id": "1f6c27d3",
   "metadata": {},
   "outputs": [],
   "source": [
    "# show slicing using strings and the LoL"
   ]
  },
  {
   "cell_type": "code",
   "execution_count": null,
   "id": "c16f2455",
   "metadata": {},
   "outputs": [],
   "source": [
    "# algorithm: converting codons in nucleotide string into amino-acid strings\n",
    "Image(\"codon2amino.jpg\", width=500, height=100)"
   ]
  },
  {
   "cell_type": "code",
   "execution_count": null,
   "id": "f3a834c4",
   "metadata": {},
   "outputs": [],
   "source": [
    "# algorithm: converting codons in nucleotide string into amino-acid strings\n",
    "# our solution requires a dictionary of codon:amino-acid pairs\n",
    "\n",
    "# first, let's convert a text file of codon/amino-acid pairs into a dictionary\n",
    "def makeC2ADict(filepath: str) -> dict:\n",
    "    with open(filepath, 'r') as inFile:\n",
    "        LoS = inFile.read().splitlines()\n",
    "    c2aDict = dict() # initialization\n",
    "    for line in LoS:\n",
    "        key, value = line.split('\\t')\n",
    "        key, value = key.strip(), value.strip()\n",
    "        c2aDict[key] = value\n",
    "    return c2aDict\n",
    "\n",
    "# now let's pass the dictionary in with the nucleotide string\n",
    "def codon2amino(nuclStr: str, c2aDict: dict) -> tuple:\n",
    "    ##### begin initialization #####\n",
    "    # because the codons in the text file are upper-case,\n",
    "    # all nucleotide strings passed in made upper-case\n",
    "    nuclStr = nuclStr.upper()\n",
    "    # any 1 of 3 amino-acid strings can be made from an arbitrary\n",
    "    # nucleotide string.\n",
    "    rf0, rf1, rf2 = '','',''\n",
    "    ##### end initialization #####\n",
    "    for index in range(len(nuclStr)-2):\n",
    "        # complete in class\n",
    "        pass # dummy line\n",
    "    return rf0, rf1, rf2\n"
   ]
  },
  {
   "cell_type": "code",
   "execution_count": null,
   "id": "e8997556",
   "metadata": {},
   "outputs": [],
   "source": [
    "c2aDict = makeC2ADict('../dataset/codon_amino_tabs.txt')\n",
    "codon2amino('GATTACAGATTACA', c2aDict)"
   ]
  }
 ],
 "metadata": {
  "kernelspec": {
   "display_name": "Python 3 (ipykernel)",
   "language": "python",
   "name": "python3"
  },
  "language_info": {
   "codemirror_mode": {
    "name": "ipython",
    "version": 3
   },
   "file_extension": ".py",
   "mimetype": "text/x-python",
   "name": "python",
   "nbconvert_exporter": "python",
   "pygments_lexer": "ipython3",
   "version": "3.12.3"
  }
 },
 "nbformat": 4,
 "nbformat_minor": 5
}
