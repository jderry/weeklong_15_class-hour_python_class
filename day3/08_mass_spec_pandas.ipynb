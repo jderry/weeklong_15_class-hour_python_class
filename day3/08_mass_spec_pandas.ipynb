{
 "cells": [
  {
   "cell_type": "code",
   "execution_count": null,
   "id": "18b6714c-2319-4bb5-be64-b807b8719544",
   "metadata": {},
   "outputs": [],
   "source": [
    "# coding: utf-8\n",
    "''' the mass spec device generates datafiles using microsoft print chars and adds an empty column to the end of each record.\n",
    "    this script drops the empty column using dropna(axis=1, how='all')\n",
    "    specification: if a record contains two or three trials with non-zero float, \n",
    "    write arithmetic mean and std deviation of trials to end of record.\n",
    "    otherwise, write out zeros in mean and std deviation columns.\n",
    "    write out dataframe as csv file.\n",
    "'''\n",
    "\n",
    "import pandas as pd\n",
    "import numpy as np"
   ]
  },
  {
   "cell_type": "code",
   "execution_count": null,
   "id": "e773395c-52c1-4010-a7cc-29ad03a3b39a",
   "metadata": {},
   "outputs": [],
   "source": [
    "mass_spec_df = pd.read_csv('../dataset/mass_spec_data.csv')"
   ]
  },
  {
   "cell_type": "code",
   "execution_count": null,
   "id": "cbd22b97-63c4-4693-8d14-f80be01c88d0",
   "metadata": {},
   "outputs": [],
   "source": [
    "mass_spec_df=mass_spec_df.dropna(axis=1,how='all') # drop empty column\n",
    "mass_spec_df = mass_spec_df.replace(0, np.nan) # replace zeros with NaN\n",
    "nanList = mass_spec_df.isnull().sum(axis=1).tolist() # create a list, each value a sum of NaNs in a row\n",
    "mass_spec_df.loc[:,'average'] = 0. # add column for arithmetic mean, fill with float zeros --- this is a maintenance update\n",
    "mass_spec_df.loc[:,'std_dev'] = 0. # add column for standard deviation, fill with float zeros"
   ]
  },
  {
   "cell_type": "code",
   "execution_count": null,
   "id": "e0ddb5c3-ecbb-4e6e-8fe8-1b7531c7ecfa",
   "metadata": {},
   "outputs": [],
   "source": [
    "for row in range(len(nanList)): # this for-loop goes down the rows\n",
    "    if nanList[row] < 2: # and if a row's NaN count is less than 2, then...\n",
    "        mass_spec_df.iloc[row,4] = np.mean(mass_spec_df.iloc[row, 1:4]) # write the mean of columns 1,2,3 in column 4\n",
    "        mass_spec_df.iloc[row,5] = np.std(mass_spec_df.iloc[row, 1:4]) # write their standard deviation in column 5 "
   ]
  },
  {
   "cell_type": "code",
   "execution_count": null,
   "id": "240287cf-4f3e-4459-ad46-da20e67d0854",
   "metadata": {},
   "outputs": [],
   "source": [
    "mass_spec_df = mass_spec_df.replace(np.nan, 0) # replace NaNs with zeros, restoring the numerical format of the data"
   ]
  },
  {
   "cell_type": "code",
   "execution_count": null,
   "id": "7e5090b5-7f1b-42ab-b9a6-de4372bf816d",
   "metadata": {},
   "outputs": [],
   "source": [
    "mass_spec_df.to_csv('../dataset/mass_spec_fixed_csv', float_format='%.9f', index=False) # write out the results"
   ]
  }
 ],
 "metadata": {
  "kernelspec": {
   "display_name": "Python 3 (ipykernel)",
   "language": "python",
   "name": "python3"
  },
  "language_info": {
   "codemirror_mode": {
    "name": "ipython",
    "version": 3
   },
   "file_extension": ".py",
   "mimetype": "text/x-python",
   "name": "python",
   "nbconvert_exporter": "python",
   "pygments_lexer": "ipython3",
   "version": "3.12.3"
  }
 },
 "nbformat": 4,
 "nbformat_minor": 5
}
