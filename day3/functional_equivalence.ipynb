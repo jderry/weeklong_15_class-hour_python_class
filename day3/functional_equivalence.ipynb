{
 "cells": [
  {
   "cell_type": "code",
   "execution_count": 1,
   "id": "0116d220",
   "metadata": {},
   "outputs": [],
   "source": [
    "def rev_compl_dict(nuclStr):\n",
    "    ''' this function uses a dictionary as a lookup table\n",
    "        in memory to return the complement of a nucleotide\n",
    "    '''\n",
    "    outputStr = ''\n",
    "    complDict = {'a':'t', 'c':'g', 'g':'c', 't':'a'}\n",
    "    for nucleotide in nuclStr:\n",
    "        outputStr = complDict[nucleotide] + outputStr\n",
    "    return outputStr"
   ]
  },
  {
   "cell_type": "code",
   "execution_count": 7,
   "id": "20baf69d",
   "metadata": {},
   "outputs": [
    {
     "name": "stdout",
     "output_type": "stream",
     "text": [
      "951 ns ± 8.47 ns per loop (mean ± std. dev. of 7 runs, 1,000,000 loops each)\n"
     ]
    }
   ],
   "source": [
    "%timeit rev_compl_dict('gattaca')"
   ]
  },
  {
   "cell_type": "code",
   "execution_count": 5,
   "id": "5fe7ec03",
   "metadata": {},
   "outputs": [],
   "source": [
    "def rev_compl_if(nuclStr):\n",
    "    ''' this function uses logical comparisons in a decision branch\n",
    "        to return the complement of a nucleotide.\n",
    "        it requires computation: the each of the two values to be compared must\n",
    "        be put into a general data register, then the comparison made.\n",
    "    '''\n",
    "    def compl(nucleotide):\n",
    "        if nucleotide == 'a':\n",
    "            complement = 't'\n",
    "        elif nucleotide == 'c':\n",
    "            complement = 'g'\n",
    "        elif nucleotide == 'g':\n",
    "            complement = 'c'\n",
    "        elif nucleotide == 't':\n",
    "            complement = 'a'\n",
    "        return complement\n",
    "    \n",
    "    outputStr = ''\n",
    "    for nucleotide in nuclStr:\n",
    "        outputStr = compl(nucleotide) + outputStr\n",
    "    return outputStr"
   ]
  },
  {
   "cell_type": "code",
   "execution_count": 8,
   "id": "d43e146d",
   "metadata": {},
   "outputs": [
    {
     "name": "stdout",
     "output_type": "stream",
     "text": [
      "2.35 µs ± 620 ns per loop (mean ± std. dev. of 7 runs, 100,000 loops each)\n"
     ]
    }
   ],
   "source": [
    "%timeit rev_compl_if('gattaca')"
   ]
  }
 ],
 "metadata": {
  "kernelspec": {
   "display_name": "Python 3 (ipykernel)",
   "language": "python",
   "name": "python3"
  },
  "language_info": {
   "codemirror_mode": {
    "name": "ipython",
    "version": 3
   },
   "file_extension": ".py",
   "mimetype": "text/x-python",
   "name": "python",
   "nbconvert_exporter": "python",
   "pygments_lexer": "ipython3",
   "version": "3.8.10"
  }
 },
 "nbformat": 4,
 "nbformat_minor": 5
}
