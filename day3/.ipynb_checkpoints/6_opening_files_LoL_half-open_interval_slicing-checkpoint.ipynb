{
 "cells": [
  {
   "cell_type": "markdown",
   "id": "c787f594",
   "metadata": {},
   "source": [
    "### open() and close() are built-ins for opening and closing files.\n",
    "### we have to open files to get their contents into memory for processing.\n",
    "### we have to close files once we've finished with them to prevent them\n",
    "### from being accidentally overwritten or corrupted.\n",
    "### however, if we open a file using the with-clause, we don't have to worry about closing it.\n",
    "### the interpreter will do that once it reached the end of the with-clause's block of code."
   ]
  },
  {
   "cell_type": "code",
   "execution_count": 5,
   "id": "ffb3dfed",
   "metadata": {},
   "outputs": [],
   "source": [
    "# partial code\n",
    "# to be completed in class\n",
    "with open('../dataset/reformatted_Unigene1000.fa', 'r') as inFile:\n",
    "    inFile.read().splitlines()"
   ]
  },
  {
   "cell_type": "code",
   "execution_count": 6,
   "id": "701d3b3c",
   "metadata": {},
   "outputs": [
    {
     "name": "stdout",
     "output_type": "stream",
     "text": [
      "Variable   Type             Data/Info\n",
      "-------------------------------------\n",
      "LoL        list             n=1000\n",
      "LoS        list             n=1000\n",
      "inFile     TextIOWrapper    <_io.TextIOWrapper name='<...>ode='r' encoding='UTF-8'>\n",
      "line       str              Unigene1000_All size 484 <...>CTCTTGCCAGTGAGAATGTGGATGA\n"
     ]
    }
   ],
   "source": [
    "%whos"
   ]
  },
  {
   "cell_type": "code",
   "execution_count": 8,
   "id": "11e1fdbb",
   "metadata": {},
   "outputs": [
    {
     "data": {
      "text/plain": [
       "'ATCATTATTGATAGCAACAACAATCCGGAGCACTTCCTCACCACCAATCCATACTATGATTCTCGCGTTGTGGGTAAATATTGTGAGAAACGTGATCCTACCCTGGCAGTTGTAGCTTACAGGAGAGGACAATGTGATGATGAACTCATCAATGTTACGAATAAGAACTCTTTGTTCAAACTGCAGGCCAGATATGTAGTTGAAAGGATGGACGGCGATCTGTGGGAAAAGGTTCTTACTCCTGATAATGCCTTTAGAAGACAGCTCATTGATCAAGTTGTGTCAACAGCTTTGCCTGAGAGTAAAAGCCCAGAGCAAGTTTCTGCTGCTGTTAAGGCTTTCATGACTGCTGATCTTCCCCATGAATTAATTGAGCTTCTTGAAAAGATAGTATTGCAGAATTCAGCATTCAGTGGGAACTTTAATCTGCAAAACCTGCTTATCTTAACAGCCATTAAAGCAGATCCAACTCGAGTTATGGATTACATTAATAGATTGGATAACTTTGATGGACCAGCTGTTGGTGAAGTGGCTA'"
      ]
     },
     "execution_count": 8,
     "metadata": {},
     "output_type": "execute_result"
    }
   ],
   "source": [
    "# slicing specify which portion of an ordered collection we want to extract or work with.\n",
    "# slicing takes two indices."
   ]
  },
  {
   "cell_type": "code",
   "execution_count": null,
   "id": "119f48bc",
   "metadata": {},
   "outputs": [],
   "source": []
  }
 ],
 "metadata": {
  "kernelspec": {
   "display_name": "Python 3 (ipykernel)",
   "language": "python",
   "name": "python3"
  },
  "language_info": {
   "codemirror_mode": {
    "name": "ipython",
    "version": 3
   },
   "file_extension": ".py",
   "mimetype": "text/x-python",
   "name": "python",
   "nbconvert_exporter": "python",
   "pygments_lexer": "ipython3",
   "version": "3.8.10"
  }
 },
 "nbformat": 4,
 "nbformat_minor": 5
}
