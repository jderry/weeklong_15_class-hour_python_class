{
 "cells": [
  {
   "cell_type": "code",
   "execution_count": null,
   "id": "0ff00af5-687c-4578-846b-68f69e549e2c",
   "metadata": {},
   "outputs": [],
   "source": [
    "# how to find the version of python\n",
    "# backending your notebooks\n",
    "from platform import python_version\n",
    "\n",
    "print(python_version())"
   ]
  },
  {
   "cell_type": "code",
   "execution_count": null,
   "id": "13bbf11c-579f-4409-a953-2837c35e1abd",
   "metadata": {},
   "outputs": [],
   "source": [
    "''' for multiline comments,\n",
    "    guido van rossum provides us\n",
    "    with the docstring.\n",
    "    #####\n",
    "    in notebooks, we can run shell commands\n",
    "    in a command cell by prepending them\n",
    "    with an exclamation point.\n",
    "'''\n",
    "!python --version"
   ]
  },
  {
   "cell_type": "code",
   "execution_count": null,
   "id": "2a3d2cde-d02f-460f-bf47-4846741f8b0c",
   "metadata": {},
   "outputs": [],
   "source": [
    "from sys import float_info\n",
    "\n",
    "print(float_info)"
   ]
  },
  {
   "cell_type": "code",
   "execution_count": null,
   "id": "fd040dbf-3edd-40a5-8ac9-ee3d7a5c62c9",
   "metadata": {},
   "outputs": [],
   "source": [
    "from sympy import init_session\n",
    "init_session()"
   ]
  },
  {
   "cell_type": "code",
   "execution_count": null,
   "id": "899da4b0-aea2-4e6a-87cd-f49e560005e2",
   "metadata": {},
   "outputs": [],
   "source": [
    "# jupyter notebooks use MathJax to render math expressions in textbook format\n",
    "expr = Integral(x**2, (x, 0, 5))\n",
    "expr"
   ]
  },
  {
   "cell_type": "code",
   "execution_count": null,
   "id": "ad5bef17-1f58-4527-b91d-25b5af0def28",
   "metadata": {},
   "outputs": [],
   "source": [
    "# the .doit() method invokes a solver to solve the expression\n",
    "expr.doit()"
   ]
  },
  {
   "cell_type": "markdown",
   "id": "af43ef89-d087-42b2-a9a9-2e00dfa123e9",
   "metadata": {},
   "source": [
    "### hyperlink to website in a markdown cell\n",
    "### [blue_text](url_here)\n",
    "[Floating-Point Arithmetic: Issues and Limitations](https://docs.python.org/3/tutorial/floatingpoint.html)"
   ]
  },
  {
   "cell_type": "code",
   "execution_count": null,
   "id": "2dced0b5-77d7-4df7-b5be-7b698254e56b",
   "metadata": {},
   "outputs": [],
   "source": [
    "%%html\n",
    "<iframe src=\"https://docs.python.org/3/tutorial/floatingpoint.html\" width=\"700\" height=\"400\"></iframe>"
   ]
  },
  {
   "cell_type": "code",
   "execution_count": null,
   "id": "c01bcece-f449-4872-9eda-15deaca37134",
   "metadata": {},
   "outputs": [],
   "source": [
    "![guido](pix/guido-headshot-2019.jpg)"
   ]
  },
  {
   "cell_type": "code",
   "execution_count": null,
   "id": "e8cfabdd-b0eb-4f59-a10f-479f53004165",
   "metadata": {},
   "outputs": [],
   "source": [
    "from IPython import display\n",
    "display.Image(\"pix/guido-headshot-2019.jpg\")"
   ]
  },
  {
   "cell_type": "code",
   "execution_count": null,
   "id": "0a2df1fe-004b-4c37-9471-22e3be49d8b8",
   "metadata": {},
   "outputs": [],
   "source": [
    "%%html\n",
    "<iframe width=\"560\" height=\"315\" src=\"https://www.youtube.com/embed/G8cbIWMv0rI?si=O1bh2FkyqVVOnw0T\" title=\"YouTube video player\" frameborder=\"0\" allow=\"accelerometer; autoplay; clipboard-write; encrypted-media; gyroscope; picture-in-picture; web-share\" referrerpolicy=\"strict-origin-when-cross-origin\" allowfullscreen></iframe>"
   ]
  },
  {
   "cell_type": "code",
   "execution_count": null,
   "id": "68a744d1-56b4-4c49-a57c-1fa87f478e0e",
   "metadata": {},
   "outputs": [],
   "source": []
  }
 ],
 "metadata": {
  "kernelspec": {
   "display_name": "Python 3 (ipykernel)",
   "language": "python",
   "name": "python3"
  },
  "language_info": {
   "codemirror_mode": {
    "name": "ipython",
    "version": 3
   },
   "file_extension": ".py",
   "mimetype": "text/x-python",
   "name": "python",
   "nbconvert_exporter": "python",
   "pygments_lexer": "ipython3",
   "version": "3.9.5"
  }
 },
 "nbformat": 4,
 "nbformat_minor": 5
}
